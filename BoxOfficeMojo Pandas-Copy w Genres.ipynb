{
 "cells": [
  {
   "cell_type": "markdown",
   "metadata": {},
   "source": [
    "# Getting the Data"
   ]
  },
  {
   "cell_type": "markdown",
   "metadata": {},
   "source": [
    "## Scraping with BeautifulSoup"
   ]
  },
  {
   "cell_type": "markdown",
   "metadata": {},
   "source": [
    "First we'll download pages of URLs. Then we'll spider through those lists of URLs. See Scraping jupyter notebook."
   ]
  },
  {
   "cell_type": "markdown",
   "metadata": {},
   "source": [
    "# Bringing the data into Pandas"
   ]
  },
  {
   "cell_type": "code",
   "execution_count": 1,
   "metadata": {
    "collapsed": true
   },
   "outputs": [],
   "source": [
    "import numpy as np\n",
    "import matplotlib.pyplot as plt\n",
    "import pandas as pd\n",
    "%matplotlib inline\n",
    "\n",
    "import statsmodels.api as sm\n",
    "import re"
   ]
  },
  {
   "cell_type": "code",
   "execution_count": 2,
   "metadata": {
    "collapsed": true
   },
   "outputs": [],
   "source": [
    "df = pd.read_csv('movie_info_genre2011.csv')"
   ]
  },
  {
   "cell_type": "code",
   "execution_count": 3,
   "metadata": {
    "collapsed": true
   },
   "outputs": [],
   "source": [
    "df = df.drop_duplicates()"
   ]
  },
  {
   "cell_type": "code",
   "execution_count": 4,
   "metadata": {
    "collapsed": false
   },
   "outputs": [
    {
     "name": "stdout",
     "output_type": "stream",
     "text": [
      "<class 'pandas.core.frame.DataFrame'>\n",
      "Int64Index: 1975 entries, 0 to 1974\n",
      "Data columns (total 7 columns):\n",
      "genre          1975 non-null object\n",
      "dtg            1975 non-null int64\n",
      "mpaa           1975 non-null object\n",
      "releasedate    1975 non-null object\n",
      "budget         614 non-null float64\n",
      "runtime        1926 non-null float64\n",
      "title          1975 non-null object\n",
      "dtypes: float64(2), int64(1), object(4)\n",
      "memory usage: 123.4+ KB\n"
     ]
    }
   ],
   "source": [
    "df.info()"
   ]
  },
  {
   "cell_type": "markdown",
   "metadata": {},
   "source": [
    "# Cleaning the Data"
   ]
  },
  {
   "cell_type": "markdown",
   "metadata": {},
   "source": [
    "## Genre categories"
   ]
  },
  {
   "cell_type": "code",
   "execution_count": 5,
   "metadata": {
    "collapsed": false
   },
   "outputs": [
    {
     "data": {
      "text/plain": [
       "array(['Sci-Fi Fantasy', 'Sci-Fi Horror', 'Action', 'Action / Adventure',\n",
       "       'Animation', 'Sci-Fi', 'Romance', 'Fantasy', 'Sci-Fi Action',\n",
       "       'Family', 'Comedy', 'Action Comedy', 'Family Comedy', 'Thriller',\n",
       "       'Drama', 'Western', 'Horror Comedy', 'Action Fantasy', 'Adventure',\n",
       "       'Comedy / Drama', 'Horror', 'Crime Drama', 'Action Drama',\n",
       "       'Musical', 'Foreign', 'Sports Drama', 'War Drama',\n",
       "       'Sci-Fi Thriller', 'Music Drama', 'Romantic Comedy', 'Documentary',\n",
       "       'Foreign / Action', 'Period Drama', 'Adventure Comedy',\n",
       "       'Romantic Thriller', 'Historical Drama', 'Drama / Thriller',\n",
       "       'Action Thriller', 'Horror Thriller', 'Crime', 'Crime Thriller',\n",
       "       'Action / Crime', 'Crime Comedy', 'Foreign / Horror',\n",
       "       'Sci-Fi Adventure', 'Family Adventure', 'Period Action',\n",
       "       'Action Horror', 'War', 'Western Comedy', 'Fantasy Drama', 'IMAX',\n",
       "       'Concert', 'Sports Comedy', 'Sci-Fi Comedy', 'Period Comedy',\n",
       "       'Period Adventure', 'Comedy Thriller'], dtype=object)"
      ]
     },
     "execution_count": 5,
     "metadata": {},
     "output_type": "execute_result"
    }
   ],
   "source": [
    "df.genre.unique()"
   ]
  },
  {
   "cell_type": "code",
   "execution_count": 6,
   "metadata": {
    "collapsed": false
   },
   "outputs": [],
   "source": [
    "def comedy(s):\n",
    "    if 'Comedy' in s:\n",
    "        return 1\n",
    "    else:\n",
    "        return 0\n",
    "\n",
    "def drama(s):\n",
    "    if 'Drama' in s:\n",
    "        return 1\n",
    "    else:\n",
    "        return 0\n",
    "\n",
    "def animation(s):\n",
    "    if 'Animation' in s:\n",
    "        return 1\n",
    "    else:\n",
    "        return 0\n",
    "\n",
    "def thriller(s):\n",
    "    if 'Thriller' in s:\n",
    "        return 1\n",
    "    else:\n",
    "        return 0 \n",
    "\n",
    "def unknown(s):\n",
    "    if 'Unknown' in s:\n",
    "        return 1\n",
    "    else:\n",
    "        return 0\n",
    "\n",
    "def action(s):\n",
    "    if 'Action' in s:\n",
    "        return 1\n",
    "    else:\n",
    "        return 0\n",
    "\n",
    "def horror(s):\n",
    "    if 'Horror' in s:\n",
    "        return 1 \n",
    "    else:\n",
    "        return 0\n",
    "\n",
    "def romance(s):\n",
    "    if 'Romance' in s:\n",
    "        return 1\n",
    "    else:\n",
    "        return 0\n",
    "\n",
    "def fantasy(s):\n",
    "    if 'Fantasy' in s:\n",
    "        return 1\n",
    "    else:\n",
    "        return 0\n",
    "\n",
    "def family(s):\n",
    "    if 'Family' in s:\n",
    "        return 1\n",
    "    else:\n",
    "        return 0\n",
    "\n",
    "def sports(s):\n",
    "    if 'Sports' in s:\n",
    "        return 1\n",
    "    else:\n",
    "        return 0\n",
    "\n",
    "def foreign(s):\n",
    "    if 'Foreign' in s:\n",
    "        return 1\n",
    "    else:\n",
    "        return 0\n",
    "\n",
    "def music(s):\n",
    "    if 'Music' in s:\n",
    "        return 1\n",
    "    elif 'Concert' in s:\n",
    "        return 1\n",
    "    else:\n",
    "        return 0\n",
    "\n",
    "def western(s):\n",
    "    if 'Western' in s:\n",
    "        return 1\n",
    "    else:\n",
    "        return 0\n",
    "\n",
    "def crime(s):\n",
    "    if 'Crime' in s:\n",
    "        return 1\n",
    "    else:\n",
    "        return 0 \n",
    "    \n",
    "def sci_fi(s):\n",
    "    if 'Sci-Fi' in s:\n",
    "        return 1\n",
    "    else:\n",
    "        return 0\n",
    "\n",
    "def war(s):\n",
    "    if 'War' in s:\n",
    "        return 1\n",
    "    else:\n",
    "        return 0\n",
    "    \n",
    "def documentary(s):\n",
    "    if 'Documentary' in s:\n",
    "        return 1\n",
    "    else:\n",
    "        return 0"
   ]
  },
  {
   "cell_type": "code",
   "execution_count": 7,
   "metadata": {
    "collapsed": true
   },
   "outputs": [],
   "source": [
    "df['genre_comedy'] = df['genre'].apply(comedy)\n",
    "df['genre_drama'] = df['genre'].apply(drama)\n",
    "df['genre_animation'] = df['genre'].apply(animation)\n",
    "df['genre_thriller'] = df['genre'].apply(thriller)\n",
    "df['genre_unknown'] = df['genre'].apply(unknown)\n",
    "df['genre_action'] = df['genre'].apply(action)\n",
    "df['genre_horror'] = df['genre'].apply(horror)\n",
    "df['genre_romance'] = df['genre'].apply(romance)\n",
    "df['genre_fantasy'] = df['genre'].apply(fantasy)\n",
    "df['genre_family'] = df['genre'].apply(family)\n",
    "df['genre_sports'] = df['genre'].apply(sports)\n",
    "df['genre_foreign'] = df['genre'].apply(foreign)\n",
    "df['genre_music'] = df['genre'].apply(music)\n",
    "df['genre_western'] = df['genre'].apply(western)\n",
    "df['genre_crime'] = df['genre'].apply(crime)\n",
    "df['genre_sci_fi'] = df['genre'].apply(sci_fi)\n",
    "df['genre_war'] = df['genre'].apply(war)\n",
    "df['genre_documentary'] = df['genre'].apply(documentary)"
   ]
  },
  {
   "cell_type": "code",
   "execution_count": 8,
   "metadata": {
    "collapsed": false
   },
   "outputs": [
    {
     "data": {
      "text/html": [
       "<div>\n",
       "<table border=\"1\" class=\"dataframe\">\n",
       "  <thead>\n",
       "    <tr style=\"text-align: right;\">\n",
       "      <th></th>\n",
       "      <th>genre</th>\n",
       "      <th>dtg</th>\n",
       "      <th>mpaa</th>\n",
       "      <th>releasedate</th>\n",
       "      <th>budget</th>\n",
       "      <th>runtime</th>\n",
       "      <th>title</th>\n",
       "      <th>genre_comedy</th>\n",
       "      <th>genre_drama</th>\n",
       "      <th>genre_animation</th>\n",
       "      <th>...</th>\n",
       "      <th>genre_fantasy</th>\n",
       "      <th>genre_family</th>\n",
       "      <th>genre_sports</th>\n",
       "      <th>genre_foreign</th>\n",
       "      <th>genre_music</th>\n",
       "      <th>genre_western</th>\n",
       "      <th>genre_crime</th>\n",
       "      <th>genre_sci_fi</th>\n",
       "      <th>genre_war</th>\n",
       "      <th>genre_documentary</th>\n",
       "    </tr>\n",
       "  </thead>\n",
       "  <tbody>\n",
       "    <tr>\n",
       "      <th>0</th>\n",
       "      <td>Sci-Fi Fantasy</td>\n",
       "      <td>936662225</td>\n",
       "      <td>PG-13</td>\n",
       "      <td>2015-12-18 00:00:00</td>\n",
       "      <td>245000000.0</td>\n",
       "      <td>136.0</td>\n",
       "      <td>Star Wars: The Force Awakens</td>\n",
       "      <td>0</td>\n",
       "      <td>0</td>\n",
       "      <td>0</td>\n",
       "      <td>...</td>\n",
       "      <td>1</td>\n",
       "      <td>0</td>\n",
       "      <td>0</td>\n",
       "      <td>0</td>\n",
       "      <td>0</td>\n",
       "      <td>0</td>\n",
       "      <td>0</td>\n",
       "      <td>1</td>\n",
       "      <td>0</td>\n",
       "      <td>0</td>\n",
       "    </tr>\n",
       "    <tr>\n",
       "      <th>1</th>\n",
       "      <td>Sci-Fi Horror</td>\n",
       "      <td>652270625</td>\n",
       "      <td>PG-13</td>\n",
       "      <td>2015-06-12 00:00:00</td>\n",
       "      <td>150000000.0</td>\n",
       "      <td>124.0</td>\n",
       "      <td>Jurassic World</td>\n",
       "      <td>0</td>\n",
       "      <td>0</td>\n",
       "      <td>0</td>\n",
       "      <td>...</td>\n",
       "      <td>0</td>\n",
       "      <td>0</td>\n",
       "      <td>0</td>\n",
       "      <td>0</td>\n",
       "      <td>0</td>\n",
       "      <td>0</td>\n",
       "      <td>0</td>\n",
       "      <td>1</td>\n",
       "      <td>0</td>\n",
       "      <td>0</td>\n",
       "    </tr>\n",
       "    <tr>\n",
       "      <th>2</th>\n",
       "      <td>Action</td>\n",
       "      <td>353007020</td>\n",
       "      <td>PG-13</td>\n",
       "      <td>2015-04-03 00:00:00</td>\n",
       "      <td>190000000.0</td>\n",
       "      <td>137.0</td>\n",
       "      <td>Furious 7</td>\n",
       "      <td>0</td>\n",
       "      <td>0</td>\n",
       "      <td>0</td>\n",
       "      <td>...</td>\n",
       "      <td>0</td>\n",
       "      <td>0</td>\n",
       "      <td>0</td>\n",
       "      <td>0</td>\n",
       "      <td>0</td>\n",
       "      <td>0</td>\n",
       "      <td>0</td>\n",
       "      <td>0</td>\n",
       "      <td>0</td>\n",
       "      <td>0</td>\n",
       "    </tr>\n",
       "    <tr>\n",
       "      <th>3</th>\n",
       "      <td>Action / Adventure</td>\n",
       "      <td>459005868</td>\n",
       "      <td>PG-13</td>\n",
       "      <td>2015-05-01 00:00:00</td>\n",
       "      <td>250000000.0</td>\n",
       "      <td>141.0</td>\n",
       "      <td>Avengers: Age of Ultron</td>\n",
       "      <td>0</td>\n",
       "      <td>0</td>\n",
       "      <td>0</td>\n",
       "      <td>...</td>\n",
       "      <td>0</td>\n",
       "      <td>0</td>\n",
       "      <td>0</td>\n",
       "      <td>0</td>\n",
       "      <td>0</td>\n",
       "      <td>0</td>\n",
       "      <td>0</td>\n",
       "      <td>0</td>\n",
       "      <td>0</td>\n",
       "      <td>0</td>\n",
       "    </tr>\n",
       "    <tr>\n",
       "      <th>4</th>\n",
       "      <td>Animation</td>\n",
       "      <td>336045770</td>\n",
       "      <td>PG</td>\n",
       "      <td>2015-07-10 00:00:00</td>\n",
       "      <td>74000000.0</td>\n",
       "      <td>91.0</td>\n",
       "      <td>Minions</td>\n",
       "      <td>0</td>\n",
       "      <td>0</td>\n",
       "      <td>1</td>\n",
       "      <td>...</td>\n",
       "      <td>0</td>\n",
       "      <td>0</td>\n",
       "      <td>0</td>\n",
       "      <td>0</td>\n",
       "      <td>0</td>\n",
       "      <td>0</td>\n",
       "      <td>0</td>\n",
       "      <td>0</td>\n",
       "      <td>0</td>\n",
       "      <td>0</td>\n",
       "    </tr>\n",
       "  </tbody>\n",
       "</table>\n",
       "<p>5 rows × 25 columns</p>\n",
       "</div>"
      ],
      "text/plain": [
       "                genre        dtg   mpaa          releasedate       budget  \\\n",
       "0      Sci-Fi Fantasy  936662225  PG-13  2015-12-18 00:00:00  245000000.0   \n",
       "1       Sci-Fi Horror  652270625  PG-13  2015-06-12 00:00:00  150000000.0   \n",
       "2              Action  353007020  PG-13  2015-04-03 00:00:00  190000000.0   \n",
       "3  Action / Adventure  459005868  PG-13  2015-05-01 00:00:00  250000000.0   \n",
       "4           Animation  336045770     PG  2015-07-10 00:00:00   74000000.0   \n",
       "\n",
       "   runtime                         title  genre_comedy  genre_drama  \\\n",
       "0    136.0  Star Wars: The Force Awakens             0            0   \n",
       "1    124.0                Jurassic World             0            0   \n",
       "2    137.0                     Furious 7             0            0   \n",
       "3    141.0       Avengers: Age of Ultron             0            0   \n",
       "4     91.0                       Minions             0            0   \n",
       "\n",
       "   genre_animation        ...          genre_fantasy  genre_family  \\\n",
       "0                0        ...                      1             0   \n",
       "1                0        ...                      0             0   \n",
       "2                0        ...                      0             0   \n",
       "3                0        ...                      0             0   \n",
       "4                1        ...                      0             0   \n",
       "\n",
       "   genre_sports  genre_foreign  genre_music  genre_western  genre_crime  \\\n",
       "0             0              0            0              0            0   \n",
       "1             0              0            0              0            0   \n",
       "2             0              0            0              0            0   \n",
       "3             0              0            0              0            0   \n",
       "4             0              0            0              0            0   \n",
       "\n",
       "   genre_sci_fi  genre_war  genre_documentary  \n",
       "0             1          0                  0  \n",
       "1             1          0                  0  \n",
       "2             0          0                  0  \n",
       "3             0          0                  0  \n",
       "4             0          0                  0  \n",
       "\n",
       "[5 rows x 25 columns]"
      ]
     },
     "execution_count": 8,
     "metadata": {},
     "output_type": "execute_result"
    }
   ],
   "source": [
    "df.head()"
   ]
  },
  {
   "cell_type": "code",
   "execution_count": 9,
   "metadata": {
    "collapsed": false
   },
   "outputs": [
    {
     "data": {
      "text/plain": [
       "(1975, 25)"
      ]
     },
     "execution_count": 9,
     "metadata": {},
     "output_type": "execute_result"
    }
   ],
   "source": [
    "df.shape"
   ]
  },
  {
   "cell_type": "markdown",
   "metadata": {},
   "source": [
    "## Release date"
   ]
  },
  {
   "cell_type": "markdown",
   "metadata": {},
   "source": [
    "Based on the release date column, get the month in order to make season dummy variables."
   ]
  },
  {
   "cell_type": "code",
   "execution_count": 10,
   "metadata": {
    "collapsed": false
   },
   "outputs": [],
   "source": [
    "import datetime as dt\n",
    "\n",
    "month_array = [int(x.split('-')[1]) for x in list(df.releasedate)]\n",
    "df['relmonth']=month_array"
   ]
  },
  {
   "cell_type": "code",
   "execution_count": 11,
   "metadata": {
    "collapsed": false
   },
   "outputs": [],
   "source": [
    "df['winter'] = df.relmonth.isin([12,1,2])"
   ]
  },
  {
   "cell_type": "code",
   "execution_count": 12,
   "metadata": {
    "collapsed": false
   },
   "outputs": [],
   "source": [
    "df['winter'] = df['winter'].astype(int)"
   ]
  },
  {
   "cell_type": "code",
   "execution_count": 13,
   "metadata": {
    "collapsed": false
   },
   "outputs": [],
   "source": [
    "df['spring'] = df.relmonth.isin([3,4,5]).astype(int)"
   ]
  },
  {
   "cell_type": "code",
   "execution_count": 14,
   "metadata": {
    "collapsed": true
   },
   "outputs": [],
   "source": [
    "df['summer'] = df.relmonth.isin([6,7,8]).astype(int)"
   ]
  },
  {
   "cell_type": "code",
   "execution_count": 15,
   "metadata": {
    "collapsed": false
   },
   "outputs": [],
   "source": [
    "del df['relmonth']"
   ]
  },
  {
   "cell_type": "code",
   "execution_count": 16,
   "metadata": {
    "collapsed": true
   },
   "outputs": [],
   "source": [
    "df['isitsummer'] = df.summer.isin([1]).astype(int)"
   ]
  },
  {
   "cell_type": "code",
   "execution_count": 17,
   "metadata": {
    "collapsed": false
   },
   "outputs": [],
   "source": [
    "df['isitspring'] = df.spring.isin([1]).astype(int)"
   ]
  },
  {
   "cell_type": "code",
   "execution_count": 18,
   "metadata": {
    "collapsed": true
   },
   "outputs": [],
   "source": [
    "df['isitwinter'] = df.winter.isin([1]).astype(int)"
   ]
  },
  {
   "cell_type": "code",
   "execution_count": 19,
   "metadata": {
    "collapsed": true
   },
   "outputs": [],
   "source": [
    "def label_season (row):\n",
    "   if row['winter'] == 1 :\n",
    "      return 'Winter'\n",
    "   elif row['spring'] == 1 :\n",
    "      return 'Spring'\n",
    "   elif row['summer'] == 1 :\n",
    "      return 'Summer'\n",
    "   return 'Fall'"
   ]
  },
  {
   "cell_type": "code",
   "execution_count": 20,
   "metadata": {
    "collapsed": false
   },
   "outputs": [],
   "source": [
    "df[\"season\"]=df.apply (lambda row: label_season (row),axis=1)"
   ]
  },
  {
   "cell_type": "markdown",
   "metadata": {},
   "source": [
    "## MPAA ratings"
   ]
  },
  {
   "cell_type": "markdown",
   "metadata": {},
   "source": [
    "Make categories: R, PG-13, PG (G is implied where all are false)"
   ]
  },
  {
   "cell_type": "code",
   "execution_count": 21,
   "metadata": {
    "collapsed": false
   },
   "outputs": [],
   "source": [
    "df['R_rated'] = df.mpaa.isin([\"R\"]).astype(int)"
   ]
  },
  {
   "cell_type": "code",
   "execution_count": 22,
   "metadata": {
    "collapsed": false
   },
   "outputs": [],
   "source": [
    "df['PG-13'] = df.mpaa.isin([\"PG-13\"]).astype(int)"
   ]
  },
  {
   "cell_type": "code",
   "execution_count": 23,
   "metadata": {
    "collapsed": true
   },
   "outputs": [],
   "source": [
    "# df['PG'] = df.mpaa.isin([\"PG\"]).astype(int) #legacy from before G was dropped"
   ]
  },
  {
   "cell_type": "code",
   "execution_count": 24,
   "metadata": {
    "collapsed": false
   },
   "outputs": [
    {
     "data": {
      "text/plain": [
       "array(['PG-13', 'PG', 'R', 'Unrated', 'G', 'NC-17', 'Not Yet Rated'], dtype=object)"
      ]
     },
     "execution_count": 24,
     "metadata": {},
     "output_type": "execute_result"
    }
   ],
   "source": [
    "df.mpaa.unique()"
   ]
  },
  {
   "cell_type": "code",
   "execution_count": 25,
   "metadata": {
    "collapsed": true
   },
   "outputs": [],
   "source": [
    "a = [\"R\",\"PG-13\",\"PG\"]"
   ]
  },
  {
   "cell_type": "code",
   "execution_count": 26,
   "metadata": {
    "collapsed": false
   },
   "outputs": [],
   "source": [
    "df = df[df['mpaa'].isin(a)]"
   ]
  },
  {
   "cell_type": "code",
   "execution_count": 27,
   "metadata": {
    "collapsed": false
   },
   "outputs": [
    {
     "data": {
      "text/plain": [
       "array(['PG-13', 'PG', 'R'], dtype=object)"
      ]
     },
     "execution_count": 27,
     "metadata": {},
     "output_type": "execute_result"
    }
   ],
   "source": [
    "df.mpaa.unique()"
   ]
  },
  {
   "cell_type": "code",
   "execution_count": 28,
   "metadata": {
    "collapsed": false
   },
   "outputs": [
    {
     "data": {
      "text/plain": [
       "(1335, 34)"
      ]
     },
     "execution_count": 28,
     "metadata": {},
     "output_type": "execute_result"
    }
   ],
   "source": [
    "df.shape"
   ]
  },
  {
   "cell_type": "markdown",
   "metadata": {},
   "source": [
    "# Make interaction terms"
   ]
  },
  {
   "cell_type": "markdown",
   "metadata": {},
   "source": [
    "## Seasons"
   ]
  },
  {
   "cell_type": "code",
   "execution_count": 29,
   "metadata": {
    "collapsed": true
   },
   "outputs": [],
   "source": [
    "df['BSinteract'] = df['isitsummer'] * df['budget']"
   ]
  },
  {
   "cell_type": "code",
   "execution_count": 30,
   "metadata": {
    "collapsed": true
   },
   "outputs": [],
   "source": [
    "df['BSpinteract'] = df['isitspring'] * df['budget']"
   ]
  },
  {
   "cell_type": "code",
   "execution_count": 31,
   "metadata": {
    "collapsed": true
   },
   "outputs": [],
   "source": [
    "df['BWinteract'] = df['isitwinter'] * df['budget']"
   ]
  },
  {
   "cell_type": "markdown",
   "metadata": {},
   "source": [
    "## Genres"
   ]
  },
  {
   "cell_type": "code",
   "execution_count": 32,
   "metadata": {
    "collapsed": true
   },
   "outputs": [],
   "source": [
    "genres = ['comedy','drama','animation','thriller','unknown','action','horror','romance','fantasy','family','sports','foreign','music','western','crime','sci_fi','war','documentary']"
   ]
  },
  {
   "cell_type": "code",
   "execution_count": 33,
   "metadata": {
    "collapsed": false
   },
   "outputs": [
    {
     "data": {
      "text/plain": [
       "Index(['genre', 'dtg', 'mpaa', 'releasedate', 'budget', 'runtime', 'title',\n",
       "       'genre_comedy', 'genre_drama', 'genre_animation', 'genre_thriller',\n",
       "       'genre_unknown', 'genre_action', 'genre_horror', 'genre_romance',\n",
       "       'genre_fantasy', 'genre_family', 'genre_sports', 'genre_foreign',\n",
       "       'genre_music', 'genre_western', 'genre_crime', 'genre_sci_fi',\n",
       "       'genre_war', 'genre_documentary', 'winter', 'spring', 'summer',\n",
       "       'isitsummer', 'isitspring', 'isitwinter', 'season', 'R_rated', 'PG-13',\n",
       "       'BSinteract', 'BSpinteract', 'BWinteract'],\n",
       "      dtype='object')"
      ]
     },
     "execution_count": 33,
     "metadata": {},
     "output_type": "execute_result"
    }
   ],
   "source": [
    "df.columns"
   ]
  },
  {
   "cell_type": "code",
   "execution_count": 34,
   "metadata": {
    "collapsed": false
   },
   "outputs": [],
   "source": [
    "df.genre;"
   ]
  },
  {
   "cell_type": "code",
   "execution_count": 35,
   "metadata": {
    "collapsed": false
   },
   "outputs": [],
   "source": [
    "for genre in genres:\n",
    "    df[(genre+'_interact')] = df[(\"genre_\"+genre)] * df['budget']"
   ]
  },
  {
   "cell_type": "code",
   "execution_count": 36,
   "metadata": {
    "collapsed": false
   },
   "outputs": [
    {
     "data": {
      "text/plain": [
       "(1335, 55)"
      ]
     },
     "execution_count": 36,
     "metadata": {},
     "output_type": "execute_result"
    }
   ],
   "source": [
    "df.shape"
   ]
  },
  {
   "cell_type": "markdown",
   "metadata": {},
   "source": [
    "Lastly, we need an intercept column to help our OLS model from statsmodel extrapolate through the intercept. This is done automatically by scikit-learn's linear regression model."
   ]
  },
  {
   "cell_type": "code",
   "execution_count": 37,
   "metadata": {
    "collapsed": true
   },
   "outputs": [],
   "source": [
    "df[\"intercept\"]=1"
   ]
  },
  {
   "cell_type": "markdown",
   "metadata": {},
   "source": [
    "# Here is the fruit of our efforts."
   ]
  },
  {
   "cell_type": "code",
   "execution_count": 38,
   "metadata": {
    "collapsed": false
   },
   "outputs": [
    {
     "name": "stdout",
     "output_type": "stream",
     "text": [
      "<class 'pandas.core.frame.DataFrame'>\n",
      "Int64Index: 1335 entries, 0 to 1974\n",
      "Data columns (total 56 columns):\n",
      "genre                   1335 non-null object\n",
      "dtg                     1335 non-null int64\n",
      "mpaa                    1335 non-null object\n",
      "releasedate             1335 non-null object\n",
      "budget                  600 non-null float64\n",
      "runtime                 1318 non-null float64\n",
      "title                   1335 non-null object\n",
      "genre_comedy            1335 non-null int64\n",
      "genre_drama             1335 non-null int64\n",
      "genre_animation         1335 non-null int64\n",
      "genre_thriller          1335 non-null int64\n",
      "genre_unknown           1335 non-null int64\n",
      "genre_action            1335 non-null int64\n",
      "genre_horror            1335 non-null int64\n",
      "genre_romance           1335 non-null int64\n",
      "genre_fantasy           1335 non-null int64\n",
      "genre_family            1335 non-null int64\n",
      "genre_sports            1335 non-null int64\n",
      "genre_foreign           1335 non-null int64\n",
      "genre_music             1335 non-null int64\n",
      "genre_western           1335 non-null int64\n",
      "genre_crime             1335 non-null int64\n",
      "genre_sci_fi            1335 non-null int64\n",
      "genre_war               1335 non-null int64\n",
      "genre_documentary       1335 non-null int64\n",
      "winter                  1335 non-null int64\n",
      "spring                  1335 non-null int64\n",
      "summer                  1335 non-null int64\n",
      "isitsummer              1335 non-null int64\n",
      "isitspring              1335 non-null int64\n",
      "isitwinter              1335 non-null int64\n",
      "season                  1335 non-null object\n",
      "R_rated                 1335 non-null int64\n",
      "PG-13                   1335 non-null int64\n",
      "BSinteract              600 non-null float64\n",
      "BSpinteract             600 non-null float64\n",
      "BWinteract              600 non-null float64\n",
      "comedy_interact         600 non-null float64\n",
      "drama_interact          600 non-null float64\n",
      "animation_interact      600 non-null float64\n",
      "thriller_interact       600 non-null float64\n",
      "unknown_interact        600 non-null float64\n",
      "action_interact         600 non-null float64\n",
      "horror_interact         600 non-null float64\n",
      "romance_interact        600 non-null float64\n",
      "fantasy_interact        600 non-null float64\n",
      "family_interact         600 non-null float64\n",
      "sports_interact         600 non-null float64\n",
      "foreign_interact        600 non-null float64\n",
      "music_interact          600 non-null float64\n",
      "western_interact        600 non-null float64\n",
      "crime_interact          600 non-null float64\n",
      "sci_fi_interact         600 non-null float64\n",
      "war_interact            600 non-null float64\n",
      "documentary_interact    600 non-null float64\n",
      "intercept               1335 non-null int64\n",
      "dtypes: float64(23), int64(28), object(5)\n",
      "memory usage: 594.5+ KB\n"
     ]
    }
   ],
   "source": [
    "df.info()"
   ]
  },
  {
   "cell_type": "code",
   "execution_count": 39,
   "metadata": {
    "collapsed": false
   },
   "outputs": [
    {
     "name": "stderr",
     "output_type": "stream",
     "text": [
      "/Users/ANTARES/anaconda2/envs/snakes/lib/python3.5/site-packages/numpy/lib/function_base.py:3834: RuntimeWarning: Invalid value encountered in percentile\n",
      "  RuntimeWarning)\n"
     ]
    },
    {
     "data": {
      "text/html": [
       "<div>\n",
       "<table border=\"1\" class=\"dataframe\">\n",
       "  <thead>\n",
       "    <tr style=\"text-align: right;\">\n",
       "      <th></th>\n",
       "      <th>dtg</th>\n",
       "      <th>budget</th>\n",
       "      <th>runtime</th>\n",
       "      <th>genre_comedy</th>\n",
       "      <th>genre_drama</th>\n",
       "      <th>genre_animation</th>\n",
       "      <th>genre_thriller</th>\n",
       "      <th>genre_unknown</th>\n",
       "      <th>genre_action</th>\n",
       "      <th>genre_horror</th>\n",
       "      <th>...</th>\n",
       "      <th>family_interact</th>\n",
       "      <th>sports_interact</th>\n",
       "      <th>foreign_interact</th>\n",
       "      <th>music_interact</th>\n",
       "      <th>western_interact</th>\n",
       "      <th>crime_interact</th>\n",
       "      <th>sci_fi_interact</th>\n",
       "      <th>war_interact</th>\n",
       "      <th>documentary_interact</th>\n",
       "      <th>intercept</th>\n",
       "    </tr>\n",
       "  </thead>\n",
       "  <tbody>\n",
       "    <tr>\n",
       "      <th>count</th>\n",
       "      <td>1.335000e+03</td>\n",
       "      <td>6.000000e+02</td>\n",
       "      <td>1318.000000</td>\n",
       "      <td>1335.000000</td>\n",
       "      <td>1335.000000</td>\n",
       "      <td>1335.000000</td>\n",
       "      <td>1335.000000</td>\n",
       "      <td>1335.0</td>\n",
       "      <td>1335.000000</td>\n",
       "      <td>1335.000000</td>\n",
       "      <td>...</td>\n",
       "      <td>6.000000e+02</td>\n",
       "      <td>6.000000e+02</td>\n",
       "      <td>6.000000e+02</td>\n",
       "      <td>6.000000e+02</td>\n",
       "      <td>6.000000e+02</td>\n",
       "      <td>6.000000e+02</td>\n",
       "      <td>6.000000e+02</td>\n",
       "      <td>6.000000e+02</td>\n",
       "      <td>6.000000e+02</td>\n",
       "      <td>1335.0</td>\n",
       "    </tr>\n",
       "    <tr>\n",
       "      <th>mean</th>\n",
       "      <td>3.840274e+07</td>\n",
       "      <td>5.496167e+07</td>\n",
       "      <td>106.669196</td>\n",
       "      <td>0.247191</td>\n",
       "      <td>0.298876</td>\n",
       "      <td>0.044944</td>\n",
       "      <td>0.114607</td>\n",
       "      <td>0.0</td>\n",
       "      <td>0.144569</td>\n",
       "      <td>0.071161</td>\n",
       "      <td>...</td>\n",
       "      <td>1.291667e+06</td>\n",
       "      <td>2.800000e+05</td>\n",
       "      <td>5.533333e+04</td>\n",
       "      <td>6.725000e+05</td>\n",
       "      <td>6.683333e+05</td>\n",
       "      <td>6.851667e+05</td>\n",
       "      <td>8.342500e+06</td>\n",
       "      <td>3.691667e+05</td>\n",
       "      <td>3.133333e+04</td>\n",
       "      <td>1.0</td>\n",
       "    </tr>\n",
       "    <tr>\n",
       "      <th>std</th>\n",
       "      <td>7.274301e+07</td>\n",
       "      <td>5.430680e+07</td>\n",
       "      <td>16.336760</td>\n",
       "      <td>0.431540</td>\n",
       "      <td>0.457937</td>\n",
       "      <td>0.207258</td>\n",
       "      <td>0.318666</td>\n",
       "      <td>0.0</td>\n",
       "      <td>0.351798</td>\n",
       "      <td>0.257190</td>\n",
       "      <td>...</td>\n",
       "      <td>9.992147e+06</td>\n",
       "      <td>3.064951e+06</td>\n",
       "      <td>7.051716e+05</td>\n",
       "      <td>5.745419e+06</td>\n",
       "      <td>9.966304e+06</td>\n",
       "      <td>5.257531e+06</td>\n",
       "      <td>3.439150e+07</td>\n",
       "      <td>4.770086e+06</td>\n",
       "      <td>5.353153e+05</td>\n",
       "      <td>0.0</td>\n",
       "    </tr>\n",
       "    <tr>\n",
       "      <th>min</th>\n",
       "      <td>0.000000e+00</td>\n",
       "      <td>1.000000e+05</td>\n",
       "      <td>72.000000</td>\n",
       "      <td>0.000000</td>\n",
       "      <td>0.000000</td>\n",
       "      <td>0.000000</td>\n",
       "      <td>0.000000</td>\n",
       "      <td>0.0</td>\n",
       "      <td>0.000000</td>\n",
       "      <td>0.000000</td>\n",
       "      <td>...</td>\n",
       "      <td>0.000000e+00</td>\n",
       "      <td>0.000000e+00</td>\n",
       "      <td>0.000000e+00</td>\n",
       "      <td>0.000000e+00</td>\n",
       "      <td>0.000000e+00</td>\n",
       "      <td>0.000000e+00</td>\n",
       "      <td>0.000000e+00</td>\n",
       "      <td>0.000000e+00</td>\n",
       "      <td>0.000000e+00</td>\n",
       "      <td>1.0</td>\n",
       "    </tr>\n",
       "    <tr>\n",
       "      <th>25%</th>\n",
       "      <td>3.749660e+05</td>\n",
       "      <td>NaN</td>\n",
       "      <td>NaN</td>\n",
       "      <td>0.000000</td>\n",
       "      <td>0.000000</td>\n",
       "      <td>0.000000</td>\n",
       "      <td>0.000000</td>\n",
       "      <td>0.0</td>\n",
       "      <td>0.000000</td>\n",
       "      <td>0.000000</td>\n",
       "      <td>...</td>\n",
       "      <td>NaN</td>\n",
       "      <td>NaN</td>\n",
       "      <td>NaN</td>\n",
       "      <td>NaN</td>\n",
       "      <td>NaN</td>\n",
       "      <td>NaN</td>\n",
       "      <td>NaN</td>\n",
       "      <td>NaN</td>\n",
       "      <td>NaN</td>\n",
       "      <td>1.0</td>\n",
       "    </tr>\n",
       "    <tr>\n",
       "      <th>50%</th>\n",
       "      <td>7.597898e+06</td>\n",
       "      <td>NaN</td>\n",
       "      <td>NaN</td>\n",
       "      <td>0.000000</td>\n",
       "      <td>0.000000</td>\n",
       "      <td>0.000000</td>\n",
       "      <td>0.000000</td>\n",
       "      <td>0.0</td>\n",
       "      <td>0.000000</td>\n",
       "      <td>0.000000</td>\n",
       "      <td>...</td>\n",
       "      <td>NaN</td>\n",
       "      <td>NaN</td>\n",
       "      <td>NaN</td>\n",
       "      <td>NaN</td>\n",
       "      <td>NaN</td>\n",
       "      <td>NaN</td>\n",
       "      <td>NaN</td>\n",
       "      <td>NaN</td>\n",
       "      <td>NaN</td>\n",
       "      <td>1.0</td>\n",
       "    </tr>\n",
       "    <tr>\n",
       "      <th>75%</th>\n",
       "      <td>4.575668e+07</td>\n",
       "      <td>NaN</td>\n",
       "      <td>NaN</td>\n",
       "      <td>0.000000</td>\n",
       "      <td>1.000000</td>\n",
       "      <td>0.000000</td>\n",
       "      <td>0.000000</td>\n",
       "      <td>0.0</td>\n",
       "      <td>0.000000</td>\n",
       "      <td>0.000000</td>\n",
       "      <td>...</td>\n",
       "      <td>NaN</td>\n",
       "      <td>NaN</td>\n",
       "      <td>NaN</td>\n",
       "      <td>NaN</td>\n",
       "      <td>NaN</td>\n",
       "      <td>NaN</td>\n",
       "      <td>NaN</td>\n",
       "      <td>NaN</td>\n",
       "      <td>NaN</td>\n",
       "      <td>1.0</td>\n",
       "    </tr>\n",
       "    <tr>\n",
       "      <th>max</th>\n",
       "      <td>9.366622e+08</td>\n",
       "      <td>2.500000e+08</td>\n",
       "      <td>194.000000</td>\n",
       "      <td>1.000000</td>\n",
       "      <td>1.000000</td>\n",
       "      <td>1.000000</td>\n",
       "      <td>1.000000</td>\n",
       "      <td>0.0</td>\n",
       "      <td>1.000000</td>\n",
       "      <td>1.000000</td>\n",
       "      <td>...</td>\n",
       "      <td>1.270000e+08</td>\n",
       "      <td>5.000000e+07</td>\n",
       "      <td>1.200000e+07</td>\n",
       "      <td>7.500000e+07</td>\n",
       "      <td>2.150000e+08</td>\n",
       "      <td>6.000000e+07</td>\n",
       "      <td>2.500000e+08</td>\n",
       "      <td>6.800000e+07</td>\n",
       "      <td>1.200000e+07</td>\n",
       "      <td>1.0</td>\n",
       "    </tr>\n",
       "  </tbody>\n",
       "</table>\n",
       "<p>8 rows × 51 columns</p>\n",
       "</div>"
      ],
      "text/plain": [
       "                dtg        budget      runtime  genre_comedy  genre_drama  \\\n",
       "count  1.335000e+03  6.000000e+02  1318.000000   1335.000000  1335.000000   \n",
       "mean   3.840274e+07  5.496167e+07   106.669196      0.247191     0.298876   \n",
       "std    7.274301e+07  5.430680e+07    16.336760      0.431540     0.457937   \n",
       "min    0.000000e+00  1.000000e+05    72.000000      0.000000     0.000000   \n",
       "25%    3.749660e+05           NaN          NaN      0.000000     0.000000   \n",
       "50%    7.597898e+06           NaN          NaN      0.000000     0.000000   \n",
       "75%    4.575668e+07           NaN          NaN      0.000000     1.000000   \n",
       "max    9.366622e+08  2.500000e+08   194.000000      1.000000     1.000000   \n",
       "\n",
       "       genre_animation  genre_thriller  genre_unknown  genre_action  \\\n",
       "count      1335.000000     1335.000000         1335.0   1335.000000   \n",
       "mean          0.044944        0.114607            0.0      0.144569   \n",
       "std           0.207258        0.318666            0.0      0.351798   \n",
       "min           0.000000        0.000000            0.0      0.000000   \n",
       "25%           0.000000        0.000000            0.0      0.000000   \n",
       "50%           0.000000        0.000000            0.0      0.000000   \n",
       "75%           0.000000        0.000000            0.0      0.000000   \n",
       "max           1.000000        1.000000            0.0      1.000000   \n",
       "\n",
       "       genre_horror    ...      family_interact  sports_interact  \\\n",
       "count   1335.000000    ...         6.000000e+02     6.000000e+02   \n",
       "mean       0.071161    ...         1.291667e+06     2.800000e+05   \n",
       "std        0.257190    ...         9.992147e+06     3.064951e+06   \n",
       "min        0.000000    ...         0.000000e+00     0.000000e+00   \n",
       "25%        0.000000    ...                  NaN              NaN   \n",
       "50%        0.000000    ...                  NaN              NaN   \n",
       "75%        0.000000    ...                  NaN              NaN   \n",
       "max        1.000000    ...         1.270000e+08     5.000000e+07   \n",
       "\n",
       "       foreign_interact  music_interact  western_interact  crime_interact  \\\n",
       "count      6.000000e+02    6.000000e+02      6.000000e+02    6.000000e+02   \n",
       "mean       5.533333e+04    6.725000e+05      6.683333e+05    6.851667e+05   \n",
       "std        7.051716e+05    5.745419e+06      9.966304e+06    5.257531e+06   \n",
       "min        0.000000e+00    0.000000e+00      0.000000e+00    0.000000e+00   \n",
       "25%                 NaN             NaN               NaN             NaN   \n",
       "50%                 NaN             NaN               NaN             NaN   \n",
       "75%                 NaN             NaN               NaN             NaN   \n",
       "max        1.200000e+07    7.500000e+07      2.150000e+08    6.000000e+07   \n",
       "\n",
       "       sci_fi_interact  war_interact  documentary_interact  intercept  \n",
       "count     6.000000e+02  6.000000e+02          6.000000e+02     1335.0  \n",
       "mean      8.342500e+06  3.691667e+05          3.133333e+04        1.0  \n",
       "std       3.439150e+07  4.770086e+06          5.353153e+05        0.0  \n",
       "min       0.000000e+00  0.000000e+00          0.000000e+00        1.0  \n",
       "25%                NaN           NaN                   NaN        1.0  \n",
       "50%                NaN           NaN                   NaN        1.0  \n",
       "75%                NaN           NaN                   NaN        1.0  \n",
       "max       2.500000e+08  6.800000e+07          1.200000e+07        1.0  \n",
       "\n",
       "[8 rows x 51 columns]"
      ]
     },
     "execution_count": 39,
     "metadata": {},
     "output_type": "execute_result"
    }
   ],
   "source": [
    "df.describe()"
   ]
  },
  {
   "cell_type": "markdown",
   "metadata": {},
   "source": [
    "We anticipate this will be our main linear relationship... \\$ IN \\$ OUT"
   ]
  },
  {
   "cell_type": "code",
   "execution_count": 40,
   "metadata": {
    "collapsed": false
   },
   "outputs": [
    {
     "data": {
      "text/plain": [
       "<matplotlib.text.Text at 0x115be3080>"
      ]
     },
     "execution_count": 40,
     "metadata": {},
     "output_type": "execute_result"
    },
    {
     "data": {
      "image/png": "[encoded data removed]",
      "text/plain": [
       "<matplotlib.figure.Figure at 0x115a3eda0>"
      ]
     },
     "metadata": {},
     "output_type": "display_data"
    }
   ],
   "source": [
    "plt.scatter(df.budget,df.dtg, alpha=.3)\n",
    "plt.xlabel(\"Production Budget\")\n",
    "plt.ylabel(\"Domestic Total Gross\")"
   ]
  },
  {
   "cell_type": "code",
   "execution_count": 41,
   "metadata": {
    "collapsed": false
   },
   "outputs": [
    {
     "data": {
      "text/plain": [
       "Index(['genre', 'dtg', 'mpaa', 'releasedate', 'budget', 'runtime', 'title',\n",
       "       'genre_comedy', 'genre_drama', 'genre_animation', 'genre_thriller',\n",
       "       'genre_unknown', 'genre_action', 'genre_horror', 'genre_romance',\n",
       "       'genre_fantasy', 'genre_family', 'genre_sports', 'genre_foreign',\n",
       "       'genre_music', 'genre_western', 'genre_crime', 'genre_sci_fi',\n",
       "       'genre_war', 'genre_documentary', 'winter', 'spring', 'summer',\n",
       "       'isitsummer', 'isitspring', 'isitwinter', 'season', 'R_rated', 'PG-13',\n",
       "       'BSinteract', 'BSpinteract', 'BWinteract', 'comedy_interact',\n",
       "       'drama_interact', 'animation_interact', 'thriller_interact',\n",
       "       'unknown_interact', 'action_interact', 'horror_interact',\n",
       "       'romance_interact', 'fantasy_interact', 'family_interact',\n",
       "       'sports_interact', 'foreign_interact', 'music_interact',\n",
       "       'western_interact', 'crime_interact', 'sci_fi_interact', 'war_interact',\n",
       "       'documentary_interact', 'intercept'],\n",
       "      dtype='object')"
      ]
     },
     "execution_count": 41,
     "metadata": {},
     "output_type": "execute_result"
    }
   ],
   "source": [
    "df.columns"
   ]
  },
  {
   "cell_type": "markdown",
   "metadata": {},
   "source": [
    "We've made this as large as seems reasonable at this point. We could theoretically make interaction terms that multiply 3+ factors, but instead let's start pairing things down."
   ]
  },
  {
   "cell_type": "markdown",
   "metadata": {},
   "source": [
    "# Exploring the Data"
   ]
  },
  {
   "cell_type": "code",
   "execution_count": 42,
   "metadata": {
    "collapsed": false
   },
   "outputs": [
    {
     "data": {
      "text/plain": [
       "season\n",
       "Fall      [[Axes(0.125,0.125;0.775x0.775)]]\n",
       "Spring    [[Axes(0.125,0.125;0.775x0.775)]]\n",
       "Summer    [[Axes(0.125,0.125;0.775x0.775)]]\n",
       "Winter    [[Axes(0.125,0.125;0.775x0.775)]]\n",
       "dtype: object"
      ]
     },
     "execution_count": 42,
     "metadata": {},
     "output_type": "execute_result"
    },
    {
     "data": {
      "image/png": "[encoded data removed]",
      "text/plain": [
       "<matplotlib.figure.Figure at 0x115870400>"
      ]
     },
     "metadata": {},
     "output_type": "display_data"
    },
    {
     "data": {
      "image/png": "[encoded data removed]",
      "text/plain": [
       "<matplotlib.figure.Figure at 0x118665470>"
      ]
     },
     "metadata": {},
     "output_type": "display_data"
    },
    {
     "data": {
      "image/png": "[encoded data removed]",
      "text/plain": [
       "<matplotlib.figure.Figure at 0x1186d2438>"
      ]
     },
     "metadata": {},
     "output_type": "display_data"
    },
    {
     "data": {
      "image/png": "[encoded data removed]",
      "text/plain": [
       "<matplotlib.figure.Figure at 0x11885b320>"
      ]
     },
     "metadata": {},
     "output_type": "display_data"
    }
   ],
   "source": [
    "df.groupby('season').hist('dtg')"
   ]
  },
  {
   "cell_type": "code",
   "execution_count": 43,
   "metadata": {
    "collapsed": false
   },
   "outputs": [],
   "source": [
    "import seaborn as sns"
   ]
  },
  {
   "cell_type": "code",
   "execution_count": 44,
   "metadata": {
    "collapsed": false
   },
   "outputs": [
    {
     "data": {
      "image/png": "[encoded data removed]",
      "text/plain": [
       "<matplotlib.figure.Figure at 0x118e1c9e8>"
      ]
     },
     "metadata": {},
     "output_type": "display_data"
    }
   ],
   "source": [
    "sns.boxplot(x=\"season\", y=\"dtg\", data=df);"
   ]
  },
  {
   "cell_type": "code",
   "execution_count": 45,
   "metadata": {
    "collapsed": true
   },
   "outputs": [],
   "source": [
    "def scatter_matrix(X):\n",
    "    feature_count = len(X.columns)\n",
    "    fig,ax = plt.subplots(ncols=feature_count,nrows=feature_count,figsize=(10*feature_count, 10*feature_count))\n",
    "\n",
    "    for i,feature_i in enumerate(X):\n",
    "        for j,feature_j in enumerate(X):\n",
    "            ax[i][j].scatter(X[feature_i],X[feature_j])\n",
    "            ax[i][j].set_xlabel('Feature ' + str(feature_j))\n",
    "            ax[i][j].set_ylabel('Feature ' + str(feature_i))"
   ]
  },
  {
   "cell_type": "code",
   "execution_count": 46,
   "metadata": {
    "collapsed": false
   },
   "outputs": [],
   "source": [
    "# scatter_matrix(df)"
   ]
  },
  {
   "cell_type": "markdown",
   "metadata": {},
   "source": [
    "# Let's make a linear model"
   ]
  },
  {
   "cell_type": "markdown",
   "metadata": {},
   "source": [
    "We'll only use the numeric data and drop the rest for this part."
   ]
  },
  {
   "cell_type": "code",
   "execution_count": 47,
   "metadata": {
    "collapsed": true
   },
   "outputs": [],
   "source": [
    "df_numonly = df._get_numeric_data()"
   ]
  },
  {
   "cell_type": "code",
   "execution_count": 48,
   "metadata": {
    "collapsed": false
   },
   "outputs": [
    {
     "data": {
      "text/plain": [
       "(1335, 51)"
      ]
     },
     "execution_count": 48,
     "metadata": {},
     "output_type": "execute_result"
    }
   ],
   "source": [
    "df_numonly.shape"
   ]
  },
  {
   "cell_type": "code",
   "execution_count": 49,
   "metadata": {
    "collapsed": false
   },
   "outputs": [
    {
     "data": {
      "text/html": [
       "<div>\n",
       "<table border=\"1\" class=\"dataframe\">\n",
       "  <thead>\n",
       "    <tr style=\"text-align: right;\">\n",
       "      <th></th>\n",
       "      <th>dtg</th>\n",
       "      <th>budget</th>\n",
       "      <th>runtime</th>\n",
       "      <th>genre_comedy</th>\n",
       "      <th>genre_drama</th>\n",
       "      <th>genre_animation</th>\n",
       "      <th>genre_thriller</th>\n",
       "      <th>genre_unknown</th>\n",
       "      <th>genre_action</th>\n",
       "      <th>genre_horror</th>\n",
       "      <th>...</th>\n",
       "      <th>family_interact</th>\n",
       "      <th>sports_interact</th>\n",
       "      <th>foreign_interact</th>\n",
       "      <th>music_interact</th>\n",
       "      <th>western_interact</th>\n",
       "      <th>crime_interact</th>\n",
       "      <th>sci_fi_interact</th>\n",
       "      <th>war_interact</th>\n",
       "      <th>documentary_interact</th>\n",
       "      <th>intercept</th>\n",
       "    </tr>\n",
       "  </thead>\n",
       "  <tbody>\n",
       "    <tr>\n",
       "      <th>0</th>\n",
       "      <td>936662225</td>\n",
       "      <td>245000000.0</td>\n",
       "      <td>136.0</td>\n",
       "      <td>0</td>\n",
       "      <td>0</td>\n",
       "      <td>0</td>\n",
       "      <td>0</td>\n",
       "      <td>0</td>\n",
       "      <td>0</td>\n",
       "      <td>0</td>\n",
       "      <td>...</td>\n",
       "      <td>0.0</td>\n",
       "      <td>0.0</td>\n",
       "      <td>0.0</td>\n",
       "      <td>0.0</td>\n",
       "      <td>0.0</td>\n",
       "      <td>0.0</td>\n",
       "      <td>245000000.0</td>\n",
       "      <td>0.0</td>\n",
       "      <td>0.0</td>\n",
       "      <td>1</td>\n",
       "    </tr>\n",
       "    <tr>\n",
       "      <th>1</th>\n",
       "      <td>652270625</td>\n",
       "      <td>150000000.0</td>\n",
       "      <td>124.0</td>\n",
       "      <td>0</td>\n",
       "      <td>0</td>\n",
       "      <td>0</td>\n",
       "      <td>0</td>\n",
       "      <td>0</td>\n",
       "      <td>0</td>\n",
       "      <td>1</td>\n",
       "      <td>...</td>\n",
       "      <td>0.0</td>\n",
       "      <td>0.0</td>\n",
       "      <td>0.0</td>\n",
       "      <td>0.0</td>\n",
       "      <td>0.0</td>\n",
       "      <td>0.0</td>\n",
       "      <td>150000000.0</td>\n",
       "      <td>0.0</td>\n",
       "      <td>0.0</td>\n",
       "      <td>1</td>\n",
       "    </tr>\n",
       "    <tr>\n",
       "      <th>2</th>\n",
       "      <td>353007020</td>\n",
       "      <td>190000000.0</td>\n",
       "      <td>137.0</td>\n",
       "      <td>0</td>\n",
       "      <td>0</td>\n",
       "      <td>0</td>\n",
       "      <td>0</td>\n",
       "      <td>0</td>\n",
       "      <td>1</td>\n",
       "      <td>0</td>\n",
       "      <td>...</td>\n",
       "      <td>0.0</td>\n",
       "      <td>0.0</td>\n",
       "      <td>0.0</td>\n",
       "      <td>0.0</td>\n",
       "      <td>0.0</td>\n",
       "      <td>0.0</td>\n",
       "      <td>0.0</td>\n",
       "      <td>0.0</td>\n",
       "      <td>0.0</td>\n",
       "      <td>1</td>\n",
       "    </tr>\n",
       "    <tr>\n",
       "      <th>3</th>\n",
       "      <td>459005868</td>\n",
       "      <td>250000000.0</td>\n",
       "      <td>141.0</td>\n",
       "      <td>0</td>\n",
       "      <td>0</td>\n",
       "      <td>0</td>\n",
       "      <td>0</td>\n",
       "      <td>0</td>\n",
       "      <td>1</td>\n",
       "      <td>0</td>\n",
       "      <td>...</td>\n",
       "      <td>0.0</td>\n",
       "      <td>0.0</td>\n",
       "      <td>0.0</td>\n",
       "      <td>0.0</td>\n",
       "      <td>0.0</td>\n",
       "      <td>0.0</td>\n",
       "      <td>0.0</td>\n",
       "      <td>0.0</td>\n",
       "      <td>0.0</td>\n",
       "      <td>1</td>\n",
       "    </tr>\n",
       "    <tr>\n",
       "      <th>4</th>\n",
       "      <td>336045770</td>\n",
       "      <td>74000000.0</td>\n",
       "      <td>91.0</td>\n",
       "      <td>0</td>\n",
       "      <td>0</td>\n",
       "      <td>1</td>\n",
       "      <td>0</td>\n",
       "      <td>0</td>\n",
       "      <td>0</td>\n",
       "      <td>0</td>\n",
       "      <td>...</td>\n",
       "      <td>0.0</td>\n",
       "      <td>0.0</td>\n",
       "      <td>0.0</td>\n",
       "      <td>0.0</td>\n",
       "      <td>0.0</td>\n",
       "      <td>0.0</td>\n",
       "      <td>0.0</td>\n",
       "      <td>0.0</td>\n",
       "      <td>0.0</td>\n",
       "      <td>1</td>\n",
       "    </tr>\n",
       "  </tbody>\n",
       "</table>\n",
       "<p>5 rows × 51 columns</p>\n",
       "</div>"
      ],
      "text/plain": [
       "         dtg       budget  runtime  genre_comedy  genre_drama  \\\n",
       "0  936662225  245000000.0    136.0             0            0   \n",
       "1  652270625  150000000.0    124.0             0            0   \n",
       "2  353007020  190000000.0    137.0             0            0   \n",
       "3  459005868  250000000.0    141.0             0            0   \n",
       "4  336045770   74000000.0     91.0             0            0   \n",
       "\n",
       "   genre_animation  genre_thriller  genre_unknown  genre_action  genre_horror  \\\n",
       "0                0               0              0             0             0   \n",
       "1                0               0              0             0             1   \n",
       "2                0               0              0             1             0   \n",
       "3                0               0              0             1             0   \n",
       "4                1               0              0             0             0   \n",
       "\n",
       "     ...      family_interact  sports_interact  foreign_interact  \\\n",
       "0    ...                  0.0              0.0               0.0   \n",
       "1    ...                  0.0              0.0               0.0   \n",
       "2    ...                  0.0              0.0               0.0   \n",
       "3    ...                  0.0              0.0               0.0   \n",
       "4    ...                  0.0              0.0               0.0   \n",
       "\n",
       "   music_interact  western_interact  crime_interact  sci_fi_interact  \\\n",
       "0             0.0               0.0             0.0      245000000.0   \n",
       "1             0.0               0.0             0.0      150000000.0   \n",
       "2             0.0               0.0             0.0              0.0   \n",
       "3             0.0               0.0             0.0              0.0   \n",
       "4             0.0               0.0             0.0              0.0   \n",
       "\n",
       "   war_interact  documentary_interact  intercept  \n",
       "0           0.0                   0.0          1  \n",
       "1           0.0                   0.0          1  \n",
       "2           0.0                   0.0          1  \n",
       "3           0.0                   0.0          1  \n",
       "4           0.0                   0.0          1  \n",
       "\n",
       "[5 rows x 51 columns]"
      ]
     },
     "execution_count": 49,
     "metadata": {},
     "output_type": "execute_result"
    }
   ],
   "source": [
    "df_numonly.head()"
   ]
  },
  {
   "cell_type": "markdown",
   "metadata": {},
   "source": [
    "We know we have a lot of missingness. Let's remember to drop rows with missing values each time we build a model in SKLearn. In the meantime, we'll drop all missing here in order to run OLS in statsmodel."
   ]
  },
  {
   "cell_type": "code",
   "execution_count": 50,
   "metadata": {
    "collapsed": true
   },
   "outputs": [],
   "source": [
    "df_no_missing = df_numonly.dropna()"
   ]
  },
  {
   "cell_type": "code",
   "execution_count": 51,
   "metadata": {
    "collapsed": false
   },
   "outputs": [
    {
     "data": {
      "text/plain": [
       "(596, 51)"
      ]
     },
     "execution_count": 51,
     "metadata": {},
     "output_type": "execute_result"
    }
   ],
   "source": [
    "df_no_missing.shape"
   ]
  },
  {
   "cell_type": "code",
   "execution_count": 52,
   "metadata": {
    "collapsed": true
   },
   "outputs": [],
   "source": [
    "X, y = df_no_missing.drop(['dtg'], axis=1),df_no_missing['dtg']"
   ]
  },
  {
   "cell_type": "code",
   "execution_count": 53,
   "metadata": {
    "collapsed": false
   },
   "outputs": [
    {
     "data": {
      "text/plain": [
       "<matplotlib.collections.PathCollection at 0x119264048>"
      ]
     },
     "execution_count": 53,
     "metadata": {},
     "output_type": "execute_result"
    },
    {
     "data": {
      "image/png": "[encoded data removed]",
      "text/plain": [
       "<matplotlib.figure.Figure at 0x119061cf8>"
      ]
     },
     "metadata": {},
     "output_type": "display_data"
    }
   ],
   "source": [
    "plt.scatter(df_no_missing.budget,df_no_missing.dtg, alpha=.3)"
   ]
  },
  {
   "cell_type": "markdown",
   "metadata": {},
   "source": [
    "It looks like there is a linear relationship between production budget and domestic total gross"
   ]
  },
  {
   "cell_type": "code",
   "execution_count": 54,
   "metadata": {
    "collapsed": false
   },
   "outputs": [
    {
     "data": {
      "text/html": [
       "<table class=\"simpletable\">\n",
       "<caption>OLS Regression Results</caption>\n",
       "<tr>\n",
       "  <th>Dep. Variable:</th>           <td>dtg</td>       <th>  R-squared:         </th> <td>   0.440</td> \n",
       "</tr>\n",
       "<tr>\n",
       "  <th>Model:</th>                   <td>OLS</td>       <th>  Adj. R-squared:    </th> <td>   0.439</td> \n",
       "</tr>\n",
       "<tr>\n",
       "  <th>Method:</th>             <td>Least Squares</td>  <th>  F-statistic:       </th> <td>   467.5</td> \n",
       "</tr>\n",
       "<tr>\n",
       "  <th>Date:</th>             <td>Thu, 06 Oct 2016</td> <th>  Prob (F-statistic):</th> <td>6.49e-77</td> \n",
       "</tr>\n",
       "<tr>\n",
       "  <th>Time:</th>                 <td>22:42:42</td>     <th>  Log-Likelihood:    </th> <td> -11596.</td> \n",
       "</tr>\n",
       "<tr>\n",
       "  <th>No. Observations:</th>      <td>   596</td>      <th>  AIC:               </th> <td>2.320e+04</td>\n",
       "</tr>\n",
       "<tr>\n",
       "  <th>Df Residuals:</th>          <td>   594</td>      <th>  BIC:               </th> <td>2.321e+04</td>\n",
       "</tr>\n",
       "<tr>\n",
       "  <th>Df Model:</th>              <td>     1</td>      <th>                     </th>     <td> </td>    \n",
       "</tr>\n",
       "<tr>\n",
       "  <th>Covariance Type:</th>      <td>nonrobust</td>    <th>                     </th>     <td> </td>    \n",
       "</tr>\n",
       "</table>\n",
       "<table class=\"simpletable\">\n",
       "<tr>\n",
       "      <td></td>         <th>coef</th>     <th>std err</th>      <th>t</th>      <th>P>|t|</th> <th>[95.0% Conf. Int.]</th> \n",
       "</tr>\n",
       "<tr>\n",
       "  <th>intercept</th> <td> 1.448e+07</td> <td> 3.99e+06</td> <td>    3.628</td> <td> 0.000</td> <td> 6.64e+06  2.23e+07</td>\n",
       "</tr>\n",
       "<tr>\n",
       "  <th>budget</th>    <td>    1.1135</td> <td>    0.052</td> <td>   21.621</td> <td> 0.000</td> <td>    1.012     1.215</td>\n",
       "</tr>\n",
       "</table>\n",
       "<table class=\"simpletable\">\n",
       "<tr>\n",
       "  <th>Omnibus:</th>       <td>429.242</td> <th>  Durbin-Watson:     </th> <td>   1.332</td> \n",
       "</tr>\n",
       "<tr>\n",
       "  <th>Prob(Omnibus):</th> <td> 0.000</td>  <th>  Jarque-Bera (JB):  </th> <td>10753.122</td>\n",
       "</tr>\n",
       "<tr>\n",
       "  <th>Skew:</th>          <td> 2.849</td>  <th>  Prob(JB):          </th> <td>    0.00</td> \n",
       "</tr>\n",
       "<tr>\n",
       "  <th>Kurtosis:</th>      <td>23.014</td>  <th>  Cond. No.          </th> <td>1.10e+08</td> \n",
       "</tr>\n",
       "</table>"
      ],
      "text/plain": [
       "<class 'statsmodels.iolib.summary.Summary'>\n",
       "\"\"\"\n",
       "                            OLS Regression Results                            \n",
       "==============================================================================\n",
       "Dep. Variable:                    dtg   R-squared:                       0.440\n",
       "Model:                            OLS   Adj. R-squared:                  0.439\n",
       "Method:                 Least Squares   F-statistic:                     467.5\n",
       "Date:                Thu, 06 Oct 2016   Prob (F-statistic):           6.49e-77\n",
       "Time:                        22:42:42   Log-Likelihood:                -11596.\n",
       "No. Observations:                 596   AIC:                         2.320e+04\n",
       "Df Residuals:                     594   BIC:                         2.321e+04\n",
       "Df Model:                           1                                         \n",
       "Covariance Type:            nonrobust                                         \n",
       "==============================================================================\n",
       "                 coef    std err          t      P>|t|      [95.0% Conf. Int.]\n",
       "------------------------------------------------------------------------------\n",
       "intercept   1.448e+07   3.99e+06      3.628      0.000      6.64e+06  2.23e+07\n",
       "budget         1.1135      0.052     21.621      0.000         1.012     1.215\n",
       "==============================================================================\n",
       "Omnibus:                      429.242   Durbin-Watson:                   1.332\n",
       "Prob(Omnibus):                  0.000   Jarque-Bera (JB):            10753.122\n",
       "Skew:                           2.849   Prob(JB):                         0.00\n",
       "Kurtosis:                      23.014   Cond. No.                     1.10e+08\n",
       "==============================================================================\n",
       "\n",
       "Warnings:\n",
       "[1] Standard Errors assume that the covariance matrix of the errors is correctly specified.\n",
       "[2] The condition number is large, 1.1e+08. This might indicate that there are\n",
       "strong multicollinearity or other numerical problems.\n",
       "\"\"\""
      ]
     },
     "execution_count": 54,
     "metadata": {},
     "output_type": "execute_result"
    }
   ],
   "source": [
    "model_onevar = sm.OLS(y, X[[\"intercept\",\"budget\"]])\n",
    "results = model_onevar.fit()\n",
    "results.summary()"
   ]
  },
  {
   "cell_type": "markdown",
   "metadata": {},
   "source": [
    "Yep. What about runtime?"
   ]
  },
  {
   "cell_type": "code",
   "execution_count": 58,
   "metadata": {
    "collapsed": false
   },
   "outputs": [],
   "source": [
    "model = sm.OLS(y, X[[\"intercept\", \"runtime\",\"budget\"]])"
   ]
  },
  {
   "cell_type": "code",
   "execution_count": 59,
   "metadata": {
    "collapsed": false
   },
   "outputs": [],
   "source": [
    "results = model.fit()"
   ]
  },
  {
   "cell_type": "code",
   "execution_count": 60,
   "metadata": {
    "collapsed": false
   },
   "outputs": [
    {
     "data": {
      "text/html": [
       "<table class=\"simpletable\">\n",
       "<caption>OLS Regression Results</caption>\n",
       "<tr>\n",
       "  <th>Dep. Variable:</th>           <td>dtg</td>       <th>  R-squared:         </th> <td>   0.450</td> \n",
       "</tr>\n",
       "<tr>\n",
       "  <th>Model:</th>                   <td>OLS</td>       <th>  Adj. R-squared:    </th> <td>   0.448</td> \n",
       "</tr>\n",
       "<tr>\n",
       "  <th>Method:</th>             <td>Least Squares</td>  <th>  F-statistic:       </th> <td>   242.7</td> \n",
       "</tr>\n",
       "<tr>\n",
       "  <th>Date:</th>             <td>Thu, 06 Oct 2016</td> <th>  Prob (F-statistic):</th> <td>9.63e-78</td> \n",
       "</tr>\n",
       "<tr>\n",
       "  <th>Time:</th>                 <td>22:43:18</td>     <th>  Log-Likelihood:    </th> <td> -11591.</td> \n",
       "</tr>\n",
       "<tr>\n",
       "  <th>No. Observations:</th>      <td>   596</td>      <th>  AIC:               </th> <td>2.319e+04</td>\n",
       "</tr>\n",
       "<tr>\n",
       "  <th>Df Residuals:</th>          <td>   593</td>      <th>  BIC:               </th> <td>2.320e+04</td>\n",
       "</tr>\n",
       "<tr>\n",
       "  <th>Df Model:</th>              <td>     2</td>      <th>                     </th>     <td> </td>    \n",
       "</tr>\n",
       "<tr>\n",
       "  <th>Covariance Type:</th>      <td>nonrobust</td>    <th>                     </th>     <td> </td>    \n",
       "</tr>\n",
       "</table>\n",
       "<table class=\"simpletable\">\n",
       "<tr>\n",
       "      <td></td>         <th>coef</th>     <th>std err</th>      <th>t</th>      <th>P>|t|</th> <th>[95.0% Conf. Int.]</th> \n",
       "</tr>\n",
       "<tr>\n",
       "  <th>intercept</th> <td>-4.377e+07</td> <td> 1.84e+07</td> <td>   -2.379</td> <td> 0.018</td> <td>-7.99e+07 -7.64e+06</td>\n",
       "</tr>\n",
       "<tr>\n",
       "  <th>runtime</th>   <td> 5.609e+05</td> <td> 1.73e+05</td> <td>    3.242</td> <td> 0.001</td> <td> 2.21e+05  9.01e+05</td>\n",
       "</tr>\n",
       "<tr>\n",
       "  <th>budget</th>    <td>    1.0503</td> <td>    0.055</td> <td>   19.206</td> <td> 0.000</td> <td>    0.943     1.158</td>\n",
       "</tr>\n",
       "</table>\n",
       "<table class=\"simpletable\">\n",
       "<tr>\n",
       "  <th>Omnibus:</th>       <td>430.577</td> <th>  Durbin-Watson:     </th> <td>   1.318</td> \n",
       "</tr>\n",
       "<tr>\n",
       "  <th>Prob(Omnibus):</th> <td> 0.000</td>  <th>  Jarque-Bera (JB):  </th> <td>10987.075</td>\n",
       "</tr>\n",
       "<tr>\n",
       "  <th>Skew:</th>          <td> 2.855</td>  <th>  Prob(JB):          </th> <td>    0.00</td> \n",
       "</tr>\n",
       "<tr>\n",
       "  <th>Kurtosis:</th>      <td>23.244</td>  <th>  Cond. No.          </th> <td>5.13e+08</td> \n",
       "</tr>\n",
       "</table>"
      ],
      "text/plain": [
       "<class 'statsmodels.iolib.summary.Summary'>\n",
       "\"\"\"\n",
       "                            OLS Regression Results                            \n",
       "==============================================================================\n",
       "Dep. Variable:                    dtg   R-squared:                       0.450\n",
       "Model:                            OLS   Adj. R-squared:                  0.448\n",
       "Method:                 Least Squares   F-statistic:                     242.7\n",
       "Date:                Thu, 06 Oct 2016   Prob (F-statistic):           9.63e-78\n",
       "Time:                        22:43:18   Log-Likelihood:                -11591.\n",
       "No. Observations:                 596   AIC:                         2.319e+04\n",
       "Df Residuals:                     593   BIC:                         2.320e+04\n",
       "Df Model:                           2                                         \n",
       "Covariance Type:            nonrobust                                         \n",
       "==============================================================================\n",
       "                 coef    std err          t      P>|t|      [95.0% Conf. Int.]\n",
       "------------------------------------------------------------------------------\n",
       "intercept  -4.377e+07   1.84e+07     -2.379      0.018     -7.99e+07 -7.64e+06\n",
       "runtime     5.609e+05   1.73e+05      3.242      0.001      2.21e+05  9.01e+05\n",
       "budget         1.0503      0.055     19.206      0.000         0.943     1.158\n",
       "==============================================================================\n",
       "Omnibus:                      430.577   Durbin-Watson:                   1.318\n",
       "Prob(Omnibus):                  0.000   Jarque-Bera (JB):            10987.075\n",
       "Skew:                           2.855   Prob(JB):                         0.00\n",
       "Kurtosis:                      23.244   Cond. No.                     5.13e+08\n",
       "==============================================================================\n",
       "\n",
       "Warnings:\n",
       "[1] Standard Errors assume that the covariance matrix of the errors is correctly specified.\n",
       "[2] The condition number is large, 5.13e+08. This might indicate that there are\n",
       "strong multicollinearity or other numerical problems.\n",
       "\"\"\""
      ]
     },
     "execution_count": 60,
     "metadata": {},
     "output_type": "execute_result"
    }
   ],
   "source": [
    "results.summary()"
   ]
  },
  {
   "cell_type": "markdown",
   "metadata": {},
   "source": [
    "This looks helpful. Our R^2 adjusted term has improved, and our features show significance. What about the interaction between summer and budget?"
   ]
  },
  {
   "cell_type": "code",
   "execution_count": 61,
   "metadata": {
    "collapsed": false
   },
   "outputs": [
    {
     "data": {
      "text/html": [
       "<table class=\"simpletable\">\n",
       "<caption>OLS Regression Results</caption>\n",
       "<tr>\n",
       "  <th>Dep. Variable:</th>           <td>dtg</td>       <th>  R-squared:         </th> <td>   0.452</td> \n",
       "</tr>\n",
       "<tr>\n",
       "  <th>Model:</th>                   <td>OLS</td>       <th>  Adj. R-squared:    </th> <td>   0.449</td> \n",
       "</tr>\n",
       "<tr>\n",
       "  <th>Method:</th>             <td>Least Squares</td>  <th>  F-statistic:       </th> <td>   122.1</td> \n",
       "</tr>\n",
       "<tr>\n",
       "  <th>Date:</th>             <td>Thu, 06 Oct 2016</td> <th>  Prob (F-statistic):</th> <td>7.05e-76</td> \n",
       "</tr>\n",
       "<tr>\n",
       "  <th>Time:</th>                 <td>22:43:25</td>     <th>  Log-Likelihood:    </th> <td> -11590.</td> \n",
       "</tr>\n",
       "<tr>\n",
       "  <th>No. Observations:</th>      <td>   596</td>      <th>  AIC:               </th> <td>2.319e+04</td>\n",
       "</tr>\n",
       "<tr>\n",
       "  <th>Df Residuals:</th>          <td>   591</td>      <th>  BIC:               </th> <td>2.321e+04</td>\n",
       "</tr>\n",
       "<tr>\n",
       "  <th>Df Model:</th>              <td>     4</td>      <th>                     </th>     <td> </td>    \n",
       "</tr>\n",
       "<tr>\n",
       "  <th>Covariance Type:</th>      <td>nonrobust</td>    <th>                     </th>     <td> </td>    \n",
       "</tr>\n",
       "</table>\n",
       "<table class=\"simpletable\">\n",
       "<tr>\n",
       "       <td></td>         <th>coef</th>     <th>std err</th>      <th>t</th>      <th>P>|t|</th> <th>[95.0% Conf. Int.]</th> \n",
       "</tr>\n",
       "<tr>\n",
       "  <th>intercept</th>  <td>-4.904e+07</td> <td> 1.87e+07</td> <td>   -2.622</td> <td> 0.009</td> <td>-8.58e+07 -1.23e+07</td>\n",
       "</tr>\n",
       "<tr>\n",
       "  <th>budget</th>     <td>    1.0885</td> <td>    0.066</td> <td>   16.611</td> <td> 0.000</td> <td>    0.960     1.217</td>\n",
       "</tr>\n",
       "<tr>\n",
       "  <th>runtime</th>    <td> 5.756e+05</td> <td> 1.73e+05</td> <td>    3.322</td> <td> 0.001</td> <td> 2.35e+05  9.16e+05</td>\n",
       "</tr>\n",
       "<tr>\n",
       "  <th>isitsummer</th> <td> 1.396e+07</td> <td> 9.01e+06</td> <td>    1.549</td> <td> 0.122</td> <td>-3.74e+06  3.17e+07</td>\n",
       "</tr>\n",
       "<tr>\n",
       "  <th>BSinteract</th> <td>   -0.1309</td> <td>    0.109</td> <td>   -1.204</td> <td> 0.229</td> <td>   -0.344     0.083</td>\n",
       "</tr>\n",
       "</table>\n",
       "<table class=\"simpletable\">\n",
       "<tr>\n",
       "  <th>Omnibus:</th>       <td>425.743</td> <th>  Durbin-Watson:     </th> <td>   1.329</td> \n",
       "</tr>\n",
       "<tr>\n",
       "  <th>Prob(Omnibus):</th> <td> 0.000</td>  <th>  Jarque-Bera (JB):  </th> <td>10651.929</td>\n",
       "</tr>\n",
       "<tr>\n",
       "  <th>Skew:</th>          <td> 2.814</td>  <th>  Prob(JB):          </th> <td>    0.00</td> \n",
       "</tr>\n",
       "<tr>\n",
       "  <th>Kurtosis:</th>      <td>22.931</td>  <th>  Cond. No.          </th> <td>5.59e+08</td> \n",
       "</tr>\n",
       "</table>"
      ],
      "text/plain": [
       "<class 'statsmodels.iolib.summary.Summary'>\n",
       "\"\"\"\n",
       "                            OLS Regression Results                            \n",
       "==============================================================================\n",
       "Dep. Variable:                    dtg   R-squared:                       0.452\n",
       "Model:                            OLS   Adj. R-squared:                  0.449\n",
       "Method:                 Least Squares   F-statistic:                     122.1\n",
       "Date:                Thu, 06 Oct 2016   Prob (F-statistic):           7.05e-76\n",
       "Time:                        22:43:25   Log-Likelihood:                -11590.\n",
       "No. Observations:                 596   AIC:                         2.319e+04\n",
       "Df Residuals:                     591   BIC:                         2.321e+04\n",
       "Df Model:                           4                                         \n",
       "Covariance Type:            nonrobust                                         \n",
       "==============================================================================\n",
       "                 coef    std err          t      P>|t|      [95.0% Conf. Int.]\n",
       "------------------------------------------------------------------------------\n",
       "intercept  -4.904e+07   1.87e+07     -2.622      0.009     -8.58e+07 -1.23e+07\n",
       "budget         1.0885      0.066     16.611      0.000         0.960     1.217\n",
       "runtime     5.756e+05   1.73e+05      3.322      0.001      2.35e+05  9.16e+05\n",
       "isitsummer  1.396e+07   9.01e+06      1.549      0.122     -3.74e+06  3.17e+07\n",
       "BSinteract    -0.1309      0.109     -1.204      0.229        -0.344     0.083\n",
       "==============================================================================\n",
       "Omnibus:                      425.743   Durbin-Watson:                   1.329\n",
       "Prob(Omnibus):                  0.000   Jarque-Bera (JB):            10651.929\n",
       "Skew:                           2.814   Prob(JB):                         0.00\n",
       "Kurtosis:                      22.931   Cond. No.                     5.59e+08\n",
       "==============================================================================\n",
       "\n",
       "Warnings:\n",
       "[1] Standard Errors assume that the covariance matrix of the errors is correctly specified.\n",
       "[2] The condition number is large, 5.59e+08. This might indicate that there are\n",
       "strong multicollinearity or other numerical problems.\n",
       "\"\"\""
      ]
     },
     "execution_count": 61,
     "metadata": {},
     "output_type": "execute_result"
    }
   ],
   "source": [
    "model_summer = sm.OLS(y, X[[\"intercept\",\"budget\",\"runtime\",\"isitsummer\",\"BSinteract\"]])\n",
    "results = model_summer.fit()\n",
    "results.summary()"
   ]
  },
  {
   "cell_type": "markdown",
   "metadata": {},
   "source": [
    "Probably not, based on the p-values."
   ]
  },
  {
   "cell_type": "markdown",
   "metadata": {},
   "source": [
    "We can come back to OLS linear regression to further probe the model suggested by scikit-learn."
   ]
  },
  {
   "cell_type": "markdown",
   "metadata": {},
   "source": [
    "# Train a scikit-learn model"
   ]
  },
  {
   "cell_type": "code",
   "execution_count": 62,
   "metadata": {
    "collapsed": false
   },
   "outputs": [],
   "source": [
    "from sklearn.linear_model import LinearRegression\n",
    "from sklearn import cross_validation, linear_model, ensemble, tree"
   ]
  },
  {
   "cell_type": "markdown",
   "metadata": {},
   "source": [
    "We need a new dataframe since by default all features will be included in the model, and we currently have some variables that are multicollinear (i.e. measure the same thing)."
   ]
  },
  {
   "cell_type": "code",
   "execution_count": 63,
   "metadata": {
    "collapsed": true
   },
   "outputs": [],
   "source": [
    "df_skall = df_numonly.copy(deep=True)"
   ]
  },
  {
   "cell_type": "code",
   "execution_count": 64,
   "metadata": {
    "collapsed": false
   },
   "outputs": [
    {
     "data": {
      "text/plain": [
       "Index(['dtg', 'budget', 'runtime', 'genre_comedy', 'genre_drama',\n",
       "       'genre_animation', 'genre_thriller', 'genre_unknown', 'genre_action',\n",
       "       'genre_horror', 'genre_romance', 'genre_fantasy', 'genre_family',\n",
       "       'genre_sports', 'genre_foreign', 'genre_music', 'genre_western',\n",
       "       'genre_crime', 'genre_sci_fi', 'genre_war', 'genre_documentary',\n",
       "       'winter', 'spring', 'summer', 'isitsummer', 'isitspring', 'isitwinter',\n",
       "       'R_rated', 'PG-13', 'BSinteract', 'BSpinteract', 'BWinteract',\n",
       "       'comedy_interact', 'drama_interact', 'animation_interact',\n",
       "       'thriller_interact', 'unknown_interact', 'action_interact',\n",
       "       'horror_interact', 'romance_interact', 'fantasy_interact',\n",
       "       'family_interact', 'sports_interact', 'foreign_interact',\n",
       "       'music_interact', 'western_interact', 'crime_interact',\n",
       "       'sci_fi_interact', 'war_interact', 'documentary_interact', 'intercept'],\n",
       "      dtype='object')"
      ]
     },
     "execution_count": 64,
     "metadata": {},
     "output_type": "execute_result"
    }
   ],
   "source": [
    "df_skall.columns"
   ]
  },
  {
   "cell_type": "code",
   "execution_count": 65,
   "metadata": {
    "collapsed": false
   },
   "outputs": [],
   "source": [
    "del df_skall[\"isitsummer\"], df_skall[\"isitspring\"], df_skall[\"isitwinter\"]"
   ]
  },
  {
   "cell_type": "code",
   "execution_count": 66,
   "metadata": {
    "collapsed": true
   },
   "outputs": [],
   "source": [
    "df_skall = df_skall.dropna()"
   ]
  },
  {
   "cell_type": "code",
   "execution_count": 67,
   "metadata": {
    "collapsed": false
   },
   "outputs": [
    {
     "data": {
      "text/plain": [
       "Index(['dtg', 'budget', 'runtime', 'genre_comedy', 'genre_drama',\n",
       "       'genre_animation', 'genre_thriller', 'genre_unknown', 'genre_action',\n",
       "       'genre_horror', 'genre_romance', 'genre_fantasy', 'genre_family',\n",
       "       'genre_sports', 'genre_foreign', 'genre_music', 'genre_western',\n",
       "       'genre_crime', 'genre_sci_fi', 'genre_war', 'genre_documentary',\n",
       "       'winter', 'spring', 'summer', 'R_rated', 'PG-13', 'BSinteract',\n",
       "       'BSpinteract', 'BWinteract', 'comedy_interact', 'drama_interact',\n",
       "       'animation_interact', 'thriller_interact', 'unknown_interact',\n",
       "       'action_interact', 'horror_interact', 'romance_interact',\n",
       "       'fantasy_interact', 'family_interact', 'sports_interact',\n",
       "       'foreign_interact', 'music_interact', 'western_interact',\n",
       "       'crime_interact', 'sci_fi_interact', 'war_interact',\n",
       "       'documentary_interact', 'intercept'],\n",
       "      dtype='object')"
      ]
     },
     "execution_count": 67,
     "metadata": {},
     "output_type": "execute_result"
    }
   ],
   "source": [
    "df_skall.columns"
   ]
  },
  {
   "cell_type": "code",
   "execution_count": 68,
   "metadata": {
    "collapsed": true
   },
   "outputs": [],
   "source": [
    "X, y = df_skall.drop(['dtg'], axis=1),df_no_missing['dtg']"
   ]
  },
  {
   "cell_type": "code",
   "execution_count": 69,
   "metadata": {
    "collapsed": false
   },
   "outputs": [
    {
     "data": {
      "text/html": [
       "<div>\n",
       "<table border=\"1\" class=\"dataframe\">\n",
       "  <thead>\n",
       "    <tr style=\"text-align: right;\">\n",
       "      <th></th>\n",
       "      <th>budget</th>\n",
       "      <th>runtime</th>\n",
       "      <th>genre_comedy</th>\n",
       "      <th>genre_drama</th>\n",
       "      <th>genre_animation</th>\n",
       "      <th>genre_thriller</th>\n",
       "      <th>genre_unknown</th>\n",
       "      <th>genre_action</th>\n",
       "      <th>genre_horror</th>\n",
       "      <th>genre_romance</th>\n",
       "      <th>...</th>\n",
       "      <th>family_interact</th>\n",
       "      <th>sports_interact</th>\n",
       "      <th>foreign_interact</th>\n",
       "      <th>music_interact</th>\n",
       "      <th>western_interact</th>\n",
       "      <th>crime_interact</th>\n",
       "      <th>sci_fi_interact</th>\n",
       "      <th>war_interact</th>\n",
       "      <th>documentary_interact</th>\n",
       "      <th>intercept</th>\n",
       "    </tr>\n",
       "  </thead>\n",
       "  <tbody>\n",
       "    <tr>\n",
       "      <th>count</th>\n",
       "      <td>4.170000e+02</td>\n",
       "      <td>417.000000</td>\n",
       "      <td>417.000000</td>\n",
       "      <td>417.000000</td>\n",
       "      <td>417.000000</td>\n",
       "      <td>417.000000</td>\n",
       "      <td>417.0</td>\n",
       "      <td>417.000000</td>\n",
       "      <td>417.000000</td>\n",
       "      <td>417.000000</td>\n",
       "      <td>...</td>\n",
       "      <td>4.170000e+02</td>\n",
       "      <td>4.170000e+02</td>\n",
       "      <td>4.170000e+02</td>\n",
       "      <td>4.170000e+02</td>\n",
       "      <td>4.170000e+02</td>\n",
       "      <td>4.170000e+02</td>\n",
       "      <td>4.170000e+02</td>\n",
       "      <td>4.170000e+02</td>\n",
       "      <td>4.170000e+02</td>\n",
       "      <td>417.0</td>\n",
       "    </tr>\n",
       "    <tr>\n",
       "      <th>mean</th>\n",
       "      <td>5.427914e+07</td>\n",
       "      <td>109.908873</td>\n",
       "      <td>0.280576</td>\n",
       "      <td>0.230216</td>\n",
       "      <td>0.059952</td>\n",
       "      <td>0.117506</td>\n",
       "      <td>0.0</td>\n",
       "      <td>0.230216</td>\n",
       "      <td>0.081535</td>\n",
       "      <td>0.014388</td>\n",
       "      <td>...</td>\n",
       "      <td>1.594724e+06</td>\n",
       "      <td>3.429257e+05</td>\n",
       "      <td>6.330935e+04</td>\n",
       "      <td>6.834532e+05</td>\n",
       "      <td>7.601918e+05</td>\n",
       "      <td>8.011990e+05</td>\n",
       "      <td>7.394484e+06</td>\n",
       "      <td>3.213429e+05</td>\n",
       "      <td>1.630695e+04</td>\n",
       "      <td>1.0</td>\n",
       "    </tr>\n",
       "    <tr>\n",
       "      <th>std</th>\n",
       "      <td>5.462148e+07</td>\n",
       "      <td>16.819070</td>\n",
       "      <td>0.449820</td>\n",
       "      <td>0.421477</td>\n",
       "      <td>0.237683</td>\n",
       "      <td>0.322409</td>\n",
       "      <td>0.0</td>\n",
       "      <td>0.421477</td>\n",
       "      <td>0.273983</td>\n",
       "      <td>0.119229</td>\n",
       "      <td>...</td>\n",
       "      <td>1.070210e+07</td>\n",
       "      <td>3.466863e+06</td>\n",
       "      <td>7.779853e+05</td>\n",
       "      <td>5.847052e+06</td>\n",
       "      <td>1.160115e+07</td>\n",
       "      <td>5.816160e+06</td>\n",
       "      <td>3.250133e+07</td>\n",
       "      <td>4.634979e+06</td>\n",
       "      <td>2.600347e+05</td>\n",
       "      <td>0.0</td>\n",
       "    </tr>\n",
       "    <tr>\n",
       "      <th>min</th>\n",
       "      <td>1.000000e+05</td>\n",
       "      <td>78.000000</td>\n",
       "      <td>0.000000</td>\n",
       "      <td>0.000000</td>\n",
       "      <td>0.000000</td>\n",
       "      <td>0.000000</td>\n",
       "      <td>0.0</td>\n",
       "      <td>0.000000</td>\n",
       "      <td>0.000000</td>\n",
       "      <td>0.000000</td>\n",
       "      <td>...</td>\n",
       "      <td>0.000000e+00</td>\n",
       "      <td>0.000000e+00</td>\n",
       "      <td>0.000000e+00</td>\n",
       "      <td>0.000000e+00</td>\n",
       "      <td>0.000000e+00</td>\n",
       "      <td>0.000000e+00</td>\n",
       "      <td>0.000000e+00</td>\n",
       "      <td>0.000000e+00</td>\n",
       "      <td>0.000000e+00</td>\n",
       "      <td>1.0</td>\n",
       "    </tr>\n",
       "    <tr>\n",
       "      <th>25%</th>\n",
       "      <td>1.500000e+07</td>\n",
       "      <td>97.000000</td>\n",
       "      <td>0.000000</td>\n",
       "      <td>0.000000</td>\n",
       "      <td>0.000000</td>\n",
       "      <td>0.000000</td>\n",
       "      <td>0.0</td>\n",
       "      <td>0.000000</td>\n",
       "      <td>0.000000</td>\n",
       "      <td>0.000000</td>\n",
       "      <td>...</td>\n",
       "      <td>0.000000e+00</td>\n",
       "      <td>0.000000e+00</td>\n",
       "      <td>0.000000e+00</td>\n",
       "      <td>0.000000e+00</td>\n",
       "      <td>0.000000e+00</td>\n",
       "      <td>0.000000e+00</td>\n",
       "      <td>0.000000e+00</td>\n",
       "      <td>0.000000e+00</td>\n",
       "      <td>0.000000e+00</td>\n",
       "      <td>1.0</td>\n",
       "    </tr>\n",
       "    <tr>\n",
       "      <th>50%</th>\n",
       "      <td>3.500000e+07</td>\n",
       "      <td>108.000000</td>\n",
       "      <td>0.000000</td>\n",
       "      <td>0.000000</td>\n",
       "      <td>0.000000</td>\n",
       "      <td>0.000000</td>\n",
       "      <td>0.0</td>\n",
       "      <td>0.000000</td>\n",
       "      <td>0.000000</td>\n",
       "      <td>0.000000</td>\n",
       "      <td>...</td>\n",
       "      <td>0.000000e+00</td>\n",
       "      <td>0.000000e+00</td>\n",
       "      <td>0.000000e+00</td>\n",
       "      <td>0.000000e+00</td>\n",
       "      <td>0.000000e+00</td>\n",
       "      <td>0.000000e+00</td>\n",
       "      <td>0.000000e+00</td>\n",
       "      <td>0.000000e+00</td>\n",
       "      <td>0.000000e+00</td>\n",
       "      <td>1.0</td>\n",
       "    </tr>\n",
       "    <tr>\n",
       "      <th>75%</th>\n",
       "      <td>7.000000e+07</td>\n",
       "      <td>120.000000</td>\n",
       "      <td>1.000000</td>\n",
       "      <td>0.000000</td>\n",
       "      <td>0.000000</td>\n",
       "      <td>0.000000</td>\n",
       "      <td>0.0</td>\n",
       "      <td>0.000000</td>\n",
       "      <td>0.000000</td>\n",
       "      <td>0.000000</td>\n",
       "      <td>...</td>\n",
       "      <td>0.000000e+00</td>\n",
       "      <td>0.000000e+00</td>\n",
       "      <td>0.000000e+00</td>\n",
       "      <td>0.000000e+00</td>\n",
       "      <td>0.000000e+00</td>\n",
       "      <td>0.000000e+00</td>\n",
       "      <td>0.000000e+00</td>\n",
       "      <td>0.000000e+00</td>\n",
       "      <td>0.000000e+00</td>\n",
       "      <td>1.0</td>\n",
       "    </tr>\n",
       "    <tr>\n",
       "      <th>max</th>\n",
       "      <td>2.500000e+08</td>\n",
       "      <td>194.000000</td>\n",
       "      <td>1.000000</td>\n",
       "      <td>1.000000</td>\n",
       "      <td>1.000000</td>\n",
       "      <td>1.000000</td>\n",
       "      <td>0.0</td>\n",
       "      <td>1.000000</td>\n",
       "      <td>1.000000</td>\n",
       "      <td>1.000000</td>\n",
       "      <td>...</td>\n",
       "      <td>1.270000e+08</td>\n",
       "      <td>5.000000e+07</td>\n",
       "      <td>1.200000e+07</td>\n",
       "      <td>7.500000e+07</td>\n",
       "      <td>2.150000e+08</td>\n",
       "      <td>6.000000e+07</td>\n",
       "      <td>2.500000e+08</td>\n",
       "      <td>6.800000e+07</td>\n",
       "      <td>5.000000e+06</td>\n",
       "      <td>1.0</td>\n",
       "    </tr>\n",
       "  </tbody>\n",
       "</table>\n",
       "<p>8 rows × 47 columns</p>\n",
       "</div>"
      ],
      "text/plain": [
       "             budget     runtime  genre_comedy  genre_drama  genre_animation  \\\n",
       "count  4.170000e+02  417.000000    417.000000   417.000000       417.000000   \n",
       "mean   5.427914e+07  109.908873      0.280576     0.230216         0.059952   \n",
       "std    5.462148e+07   16.819070      0.449820     0.421477         0.237683   \n",
       "min    1.000000e+05   78.000000      0.000000     0.000000         0.000000   \n",
       "25%    1.500000e+07   97.000000      0.000000     0.000000         0.000000   \n",
       "50%    3.500000e+07  108.000000      0.000000     0.000000         0.000000   \n",
       "75%    7.000000e+07  120.000000      1.000000     0.000000         0.000000   \n",
       "max    2.500000e+08  194.000000      1.000000     1.000000         1.000000   \n",
       "\n",
       "       genre_thriller  genre_unknown  genre_action  genre_horror  \\\n",
       "count      417.000000          417.0    417.000000    417.000000   \n",
       "mean         0.117506            0.0      0.230216      0.081535   \n",
       "std          0.322409            0.0      0.421477      0.273983   \n",
       "min          0.000000            0.0      0.000000      0.000000   \n",
       "25%          0.000000            0.0      0.000000      0.000000   \n",
       "50%          0.000000            0.0      0.000000      0.000000   \n",
       "75%          0.000000            0.0      0.000000      0.000000   \n",
       "max          1.000000            0.0      1.000000      1.000000   \n",
       "\n",
       "       genre_romance    ...      family_interact  sports_interact  \\\n",
       "count     417.000000    ...         4.170000e+02     4.170000e+02   \n",
       "mean        0.014388    ...         1.594724e+06     3.429257e+05   \n",
       "std         0.119229    ...         1.070210e+07     3.466863e+06   \n",
       "min         0.000000    ...         0.000000e+00     0.000000e+00   \n",
       "25%         0.000000    ...         0.000000e+00     0.000000e+00   \n",
       "50%         0.000000    ...         0.000000e+00     0.000000e+00   \n",
       "75%         0.000000    ...         0.000000e+00     0.000000e+00   \n",
       "max         1.000000    ...         1.270000e+08     5.000000e+07   \n",
       "\n",
       "       foreign_interact  music_interact  western_interact  crime_interact  \\\n",
       "count      4.170000e+02    4.170000e+02      4.170000e+02    4.170000e+02   \n",
       "mean       6.330935e+04    6.834532e+05      7.601918e+05    8.011990e+05   \n",
       "std        7.779853e+05    5.847052e+06      1.160115e+07    5.816160e+06   \n",
       "min        0.000000e+00    0.000000e+00      0.000000e+00    0.000000e+00   \n",
       "25%        0.000000e+00    0.000000e+00      0.000000e+00    0.000000e+00   \n",
       "50%        0.000000e+00    0.000000e+00      0.000000e+00    0.000000e+00   \n",
       "75%        0.000000e+00    0.000000e+00      0.000000e+00    0.000000e+00   \n",
       "max        1.200000e+07    7.500000e+07      2.150000e+08    6.000000e+07   \n",
       "\n",
       "       sci_fi_interact  war_interact  documentary_interact  intercept  \n",
       "count     4.170000e+02  4.170000e+02          4.170000e+02      417.0  \n",
       "mean      7.394484e+06  3.213429e+05          1.630695e+04        1.0  \n",
       "std       3.250133e+07  4.634979e+06          2.600347e+05        0.0  \n",
       "min       0.000000e+00  0.000000e+00          0.000000e+00        1.0  \n",
       "25%       0.000000e+00  0.000000e+00          0.000000e+00        1.0  \n",
       "50%       0.000000e+00  0.000000e+00          0.000000e+00        1.0  \n",
       "75%       0.000000e+00  0.000000e+00          0.000000e+00        1.0  \n",
       "max       2.500000e+08  6.800000e+07          5.000000e+06        1.0  \n",
       "\n",
       "[8 rows x 47 columns]"
      ]
     },
     "execution_count": 69,
     "metadata": {},
     "output_type": "execute_result"
    }
   ],
   "source": [
    "Xtrain, Xtest, ytrain, ytest = cross_validation.train_test_split(X, y, test_size=0.3)\n",
    "Xtrain.describe()"
   ]
  },
  {
   "cell_type": "code",
   "execution_count": 70,
   "metadata": {
    "collapsed": false
   },
   "outputs": [
    {
     "data": {
      "text/html": [
       "<div>\n",
       "<table border=\"1\" class=\"dataframe\">\n",
       "  <thead>\n",
       "    <tr style=\"text-align: right;\">\n",
       "      <th></th>\n",
       "      <th>dtg</th>\n",
       "      <th>budget</th>\n",
       "      <th>runtime</th>\n",
       "      <th>genre_comedy</th>\n",
       "      <th>genre_drama</th>\n",
       "      <th>genre_animation</th>\n",
       "      <th>genre_thriller</th>\n",
       "      <th>genre_unknown</th>\n",
       "      <th>genre_action</th>\n",
       "      <th>genre_horror</th>\n",
       "      <th>...</th>\n",
       "      <th>family_interact</th>\n",
       "      <th>sports_interact</th>\n",
       "      <th>foreign_interact</th>\n",
       "      <th>music_interact</th>\n",
       "      <th>western_interact</th>\n",
       "      <th>crime_interact</th>\n",
       "      <th>sci_fi_interact</th>\n",
       "      <th>war_interact</th>\n",
       "      <th>documentary_interact</th>\n",
       "      <th>intercept</th>\n",
       "    </tr>\n",
       "  </thead>\n",
       "  <tbody>\n",
       "    <tr>\n",
       "      <th>0</th>\n",
       "      <td>936662225</td>\n",
       "      <td>245000000.0</td>\n",
       "      <td>136.0</td>\n",
       "      <td>0</td>\n",
       "      <td>0</td>\n",
       "      <td>0</td>\n",
       "      <td>0</td>\n",
       "      <td>0</td>\n",
       "      <td>0</td>\n",
       "      <td>0</td>\n",
       "      <td>...</td>\n",
       "      <td>0.0</td>\n",
       "      <td>0.0</td>\n",
       "      <td>0.0</td>\n",
       "      <td>0.0</td>\n",
       "      <td>0.0</td>\n",
       "      <td>0.0</td>\n",
       "      <td>245000000.0</td>\n",
       "      <td>0.0</td>\n",
       "      <td>0.0</td>\n",
       "      <td>1</td>\n",
       "    </tr>\n",
       "    <tr>\n",
       "      <th>1</th>\n",
       "      <td>652270625</td>\n",
       "      <td>150000000.0</td>\n",
       "      <td>124.0</td>\n",
       "      <td>0</td>\n",
       "      <td>0</td>\n",
       "      <td>0</td>\n",
       "      <td>0</td>\n",
       "      <td>0</td>\n",
       "      <td>0</td>\n",
       "      <td>1</td>\n",
       "      <td>...</td>\n",
       "      <td>0.0</td>\n",
       "      <td>0.0</td>\n",
       "      <td>0.0</td>\n",
       "      <td>0.0</td>\n",
       "      <td>0.0</td>\n",
       "      <td>0.0</td>\n",
       "      <td>150000000.0</td>\n",
       "      <td>0.0</td>\n",
       "      <td>0.0</td>\n",
       "      <td>1</td>\n",
       "    </tr>\n",
       "    <tr>\n",
       "      <th>2</th>\n",
       "      <td>353007020</td>\n",
       "      <td>190000000.0</td>\n",
       "      <td>137.0</td>\n",
       "      <td>0</td>\n",
       "      <td>0</td>\n",
       "      <td>0</td>\n",
       "      <td>0</td>\n",
       "      <td>0</td>\n",
       "      <td>1</td>\n",
       "      <td>0</td>\n",
       "      <td>...</td>\n",
       "      <td>0.0</td>\n",
       "      <td>0.0</td>\n",
       "      <td>0.0</td>\n",
       "      <td>0.0</td>\n",
       "      <td>0.0</td>\n",
       "      <td>0.0</td>\n",
       "      <td>0.0</td>\n",
       "      <td>0.0</td>\n",
       "      <td>0.0</td>\n",
       "      <td>1</td>\n",
       "    </tr>\n",
       "    <tr>\n",
       "      <th>3</th>\n",
       "      <td>459005868</td>\n",
       "      <td>250000000.0</td>\n",
       "      <td>141.0</td>\n",
       "      <td>0</td>\n",
       "      <td>0</td>\n",
       "      <td>0</td>\n",
       "      <td>0</td>\n",
       "      <td>0</td>\n",
       "      <td>1</td>\n",
       "      <td>0</td>\n",
       "      <td>...</td>\n",
       "      <td>0.0</td>\n",
       "      <td>0.0</td>\n",
       "      <td>0.0</td>\n",
       "      <td>0.0</td>\n",
       "      <td>0.0</td>\n",
       "      <td>0.0</td>\n",
       "      <td>0.0</td>\n",
       "      <td>0.0</td>\n",
       "      <td>0.0</td>\n",
       "      <td>1</td>\n",
       "    </tr>\n",
       "    <tr>\n",
       "      <th>4</th>\n",
       "      <td>336045770</td>\n",
       "      <td>74000000.0</td>\n",
       "      <td>91.0</td>\n",
       "      <td>0</td>\n",
       "      <td>0</td>\n",
       "      <td>1</td>\n",
       "      <td>0</td>\n",
       "      <td>0</td>\n",
       "      <td>0</td>\n",
       "      <td>0</td>\n",
       "      <td>...</td>\n",
       "      <td>0.0</td>\n",
       "      <td>0.0</td>\n",
       "      <td>0.0</td>\n",
       "      <td>0.0</td>\n",
       "      <td>0.0</td>\n",
       "      <td>0.0</td>\n",
       "      <td>0.0</td>\n",
       "      <td>0.0</td>\n",
       "      <td>0.0</td>\n",
       "      <td>1</td>\n",
       "    </tr>\n",
       "  </tbody>\n",
       "</table>\n",
       "<p>5 rows × 48 columns</p>\n",
       "</div>"
      ],
      "text/plain": [
       "         dtg       budget  runtime  genre_comedy  genre_drama  \\\n",
       "0  936662225  245000000.0    136.0             0            0   \n",
       "1  652270625  150000000.0    124.0             0            0   \n",
       "2  353007020  190000000.0    137.0             0            0   \n",
       "3  459005868  250000000.0    141.0             0            0   \n",
       "4  336045770   74000000.0     91.0             0            0   \n",
       "\n",
       "   genre_animation  genre_thriller  genre_unknown  genre_action  genre_horror  \\\n",
       "0                0               0              0             0             0   \n",
       "1                0               0              0             0             1   \n",
       "2                0               0              0             1             0   \n",
       "3                0               0              0             1             0   \n",
       "4                1               0              0             0             0   \n",
       "\n",
       "     ...      family_interact  sports_interact  foreign_interact  \\\n",
       "0    ...                  0.0              0.0               0.0   \n",
       "1    ...                  0.0              0.0               0.0   \n",
       "2    ...                  0.0              0.0               0.0   \n",
       "3    ...                  0.0              0.0               0.0   \n",
       "4    ...                  0.0              0.0               0.0   \n",
       "\n",
       "   music_interact  western_interact  crime_interact  sci_fi_interact  \\\n",
       "0             0.0               0.0             0.0      245000000.0   \n",
       "1             0.0               0.0             0.0      150000000.0   \n",
       "2             0.0               0.0             0.0              0.0   \n",
       "3             0.0               0.0             0.0              0.0   \n",
       "4             0.0               0.0             0.0              0.0   \n",
       "\n",
       "   war_interact  documentary_interact  intercept  \n",
       "0           0.0                   0.0          1  \n",
       "1           0.0                   0.0          1  \n",
       "2           0.0                   0.0          1  \n",
       "3           0.0                   0.0          1  \n",
       "4           0.0                   0.0          1  \n",
       "\n",
       "[5 rows x 48 columns]"
      ]
     },
     "execution_count": 70,
     "metadata": {},
     "output_type": "execute_result"
    }
   ],
   "source": [
    "df_skall.head()"
   ]
  },
  {
   "cell_type": "code",
   "execution_count": 71,
   "metadata": {
    "collapsed": false
   },
   "outputs": [
    {
     "data": {
      "text/plain": [
       "(417, 417, 179, 179)"
      ]
     },
     "execution_count": 71,
     "metadata": {},
     "output_type": "execute_result"
    }
   ],
   "source": [
    "len(Xtrain), len(ytrain), len(Xtest), len(ytest)"
   ]
  },
  {
   "cell_type": "code",
   "execution_count": 72,
   "metadata": {
    "collapsed": false
   },
   "outputs": [],
   "source": [
    "model = LinearRegression(fit_intercept=True)\n",
    "model.fit(Xtrain, ytrain);"
   ]
  },
  {
   "cell_type": "code",
   "execution_count": 73,
   "metadata": {
    "collapsed": false
   },
   "outputs": [
    {
     "name": "stdout",
     "output_type": "stream",
     "text": [
      "Score: 0.100269302545\n"
     ]
    }
   ],
   "source": [
    "print(\"Score: \" + str(model.score(Xtest,ytest)))"
   ]
  },
  {
   "cell_type": "markdown",
   "metadata": {},
   "source": [
    "We clearly have too many features now!!"
   ]
  },
  {
   "cell_type": "markdown",
   "metadata": {},
   "source": [
    "# Look at all the models... what are they doing?"
   ]
  },
  {
   "cell_type": "code",
   "execution_count": 74,
   "metadata": {
    "collapsed": true
   },
   "outputs": [],
   "source": [
    "models = {}\n",
    "models['lin_reg'] = linear_model.LinearRegression()\n",
    "models['ridge'] = linear_model.Ridge()\n",
    "models['lasso'] = linear_model.Lasso(alpha=.6)\n",
    "models['elasticnet'] = linear_model.ElasticNet()"
   ]
  },
  {
   "cell_type": "code",
   "execution_count": 75,
   "metadata": {
    "collapsed": false
   },
   "outputs": [
    {
     "name": "stdout",
     "output_type": "stream",
     "text": [
      "Model: ridge\n",
      "Score: 0.118933524287\n",
      "('genre_romance', -64798941.130779609)\n",
      "('winter', 33318426.037756737)\n",
      "('genre_action', -23697814.150430638)\n",
      "('summer', 17843551.761556804)\n",
      "('genre_animation', 15873259.07835531)\n",
      "('genre_thriller', -11987303.764181435)\n",
      "('genre_comedy', 11558828.230992982)\n",
      "('genre_drama', -9305167.1047257576)\n",
      "('genre_western', 8592637.6529786792)\n",
      "('genre_sci_fi', 7267158.6067869822)\n",
      "('genre_fantasy', 6616403.6533881174)\n",
      "('spring', 6275407.3180099893)\n",
      "('genre_horror', 6099708.0535616688)\n",
      "('genre_foreign', -4860686.8407850815)\n",
      "('genre_music', -4095290.7339669066)\n",
      "('genre_documentary', 3447753.172851854)\n",
      "('genre_family', 3010222.769620996)\n",
      "('R_rated', -1962612.8012835043)\n",
      "('PG-13', -1300587.4135609532)\n",
      "('runtime', 1273266.0758412317)\n",
      "('genre_crime', -1009230.0907894016)\n",
      "('genre_sports', -71431.046181335289)\n",
      "('genre_war', 15371.275043589876)\n",
      "('foreign_interact', -5.5699060190632608)\n",
      "('documentary_interact', -5.0367210600536252)\n",
      "('romance_interact', 1.7807236429848889)\n",
      "('budget', 0.99964818184433046)\n",
      "('BWinteract', -0.8350199839027016)\n",
      "('horror_interact', 0.6820339538964395)\n",
      "('western_interact', -0.49242160169520921)\n",
      "('action_interact', 0.45436386819249081)\n",
      "('war_interact', -0.44403426887619857)\n",
      "('drama_interact', -0.41200560715938372)\n",
      "('BSinteract', -0.39153378508387826)\n",
      "('animation_interact', 0.38289133473107684)\n",
      "('thriller_interact', 0.27055910580368298)\n",
      "('sci_fi_interact', -0.26331517226420315)\n",
      "('fantasy_interact', -0.23858984387411117)\n",
      "('crime_interact', 0.2234636409214342)\n",
      "('BSpinteract', -0.20634800719358207)\n",
      "('sports_interact', -0.17974050154703031)\n",
      "('family_interact', 0.079371339061518609)\n",
      "('comedy_interact', -0.0074424832150837899)\n",
      "('music_interact', -0.0037634308581462393)\n",
      "('genre_unknown', 0.0)\n",
      "('unknown_interact', 0.0)\n",
      "('intercept', 0.0)\n",
      "\n",
      "Model: elasticnet\n",
      "Score: 0.167620084471\n",
      "('winter', 2728900.6189635051)\n",
      "('genre_action', -2549260.091197663)\n",
      "('genre_comedy', 2389079.4794394067)\n",
      "('genre_thriller', -1246060.6077249285)\n",
      "('runtime', 1123218.0681486391)\n",
      "('summer', 1071226.8047584863)\n",
      "('genre_romance', -921521.01653458597)\n",
      "('genre_drama', -677243.05078331195)\n",
      "('genre_horror', 595094.73646193417)\n",
      "('genre_animation', 508711.25764562684)\n",
      "('spring', -483481.41851150861)\n",
      "('PG-13', -478891.76106942142)\n",
      "('R_rated', -380273.26374694379)\n",
      "('genre_sci_fi', 316482.20469836431)\n",
      "('genre_crime', -237554.99068414446)\n",
      "('genre_family', 169258.83732957)\n",
      "('genre_western', 105974.15184719252)\n",
      "('genre_fantasy', 89296.735849885779)\n",
      "('genre_music', -43452.547080326782)\n",
      "('genre_sports', -29747.548627483971)\n",
      "('genre_foreign', -21783.087489080088)\n",
      "('genre_documentary', -4052.8070697837657)\n",
      "('genre_war', 550.43377330516864)\n",
      "('foreign_interact', -5.0813304793672271)\n",
      "('romance_interact', 1.1049927510265163)\n",
      "('budget', 0.94636425058036255)\n",
      "('horror_interact', 0.6886654695771508)\n",
      "('documentary_interact', -0.65389373780101412)\n",
      "('drama_interact', -0.55422990218445845)\n",
      "('western_interact', -0.51661754352928357)\n",
      "('animation_interact', 0.46834400884617128)\n",
      "('BWinteract', -0.43375911536736494)\n",
      "('war_interact', -0.387825039753871)\n",
      "('action_interact', 0.27082036370975265)\n",
      "('sci_fi_interact', -0.2693489662189309)\n",
      "('fantasy_interact', -0.18790911655974366)\n",
      "('BSinteract', -0.17875785800461075)\n",
      "('crime_interact', 0.16369085009235379)\n",
      "('sports_interact', -0.13774315532058765)\n",
      "('comedy_interact', 0.13410267163624529)\n",
      "('thriller_interact', 0.11873919312485792)\n",
      "('BSpinteract', -0.10577676367179673)\n",
      "('family_interact', 0.036181340867242229)\n",
      "('music_interact', -0.020160677331896984)\n",
      "('genre_unknown', 0.0)\n",
      "('unknown_interact', 0.0)\n",
      "('intercept', 0.0)\n",
      "\n",
      "Model: lasso\n",
      "Score: 0.10000389249\n",
      "('genre_romance', -96128888.368479446)\n",
      "('genre_war', -45511834.260300674)\n",
      "('winter', 36127841.795937538)\n",
      "('genre_foreign', -27436654.794236712)\n",
      "('genre_action', -25648412.880755745)\n",
      "('summer', 19896570.887665417)\n",
      "('genre_animation', 17831938.143880799)\n",
      "('genre_thriller', -14169671.914574901)\n",
      "('genre_western', 13232115.503260359)\n",
      "('genre_drama', -12049018.501830345)\n",
      "('genre_documentary', 10892225.558376759)\n",
      "('genre_comedy', 10149274.220671173)\n",
      "('genre_fantasy', 9710354.9131628685)\n",
      "('spring', 7669442.0954091335)\n",
      "('genre_music', -6767988.4111758396)\n",
      "('genre_sci_fi', 6643706.5640580803)\n",
      "('genre_horror', 4735262.231089727)\n",
      "('genre_family', 2445250.4172094837)\n",
      "('R_rated', -1381905.6182829794)\n",
      "('runtime', 1321458.6993516034)\n",
      "('genre_sports', 1226011.3919915673)\n",
      "('PG-13', -299351.12716240901)\n",
      "('genre_crime', -219775.61710940741)\n",
      "('documentary_interact', -7.4041951806108637)\n",
      "('foreign_interact', -3.6254969210310755)\n",
      "('romance_interact', 2.1169244153834637)\n",
      "('budget', 0.98109523485297057)\n",
      "('BWinteract', -0.86791875518376704)\n",
      "('horror_interact', 0.70023807105808555)\n",
      "('western_interact', -0.51507350043323374)\n",
      "('action_interact', 0.47056823043934276)\n",
      "('BSinteract', -0.40777749709147076)\n",
      "('drama_interact', -0.38818969927085395)\n",
      "('animation_interact', 0.3803265566827434)\n",
      "('thriller_interact', 0.2859019785943217)\n",
      "('fantasy_interact', -0.27904493193914109)\n",
      "('sci_fi_interact', -0.25619806169657688)\n",
      "('sports_interact', -0.2213111348827988)\n",
      "('BSpinteract', -0.21267873146665436)\n",
      "('crime_interact', 0.20534171599589407)\n",
      "('war_interact', 0.20372880477421287)\n",
      "('family_interact', 0.10250656892934734)\n",
      "('music_interact', 0.022826714029858742)\n",
      "('comedy_interact', 0.00095006386838295887)\n",
      "('genre_unknown', 0.0)\n",
      "('unknown_interact', 0.0)\n",
      "('intercept', 0.0)\n",
      "\n",
      "Model: lin_reg\n",
      "Score: 0.100269302545\n",
      "('genre_romance', -96120290.39408496)\n",
      "('winter', 36126528.673130907)\n",
      "('genre_foreign', -27438499.633591462)\n",
      "('genre_action', -25649199.298425328)\n",
      "('genre_war', -23115025.175072573)\n",
      "('summer', 19895583.296119142)\n",
      "('genre_animation', 17832857.110680208)\n",
      "('genre_thriller', -14171540.446576269)\n",
      "('genre_western', 13235565.892968198)\n",
      "('genre_drama', -12049254.413951907)\n",
      "('genre_documentary', 10892344.565512415)\n",
      "('genre_comedy', 10147611.534492744)\n",
      "('genre_fantasy', 9711555.447449388)\n",
      "('spring', 7669560.9230762217)\n",
      "('genre_music', -6767469.980025379)\n",
      "('genre_sci_fi', 6643541.0922657903)\n",
      "('genre_horror', 4732271.8256145176)\n",
      "('genre_family', 2442499.2701313924)\n",
      "('R_rated', -1377958.4031084278)\n",
      "('runtime', 1321346.5287772298)\n",
      "('genre_sports', 1226787.3163124786)\n",
      "('PG-13', -300518.41920845862)\n",
      "('genre_crime', -224533.64585117609)\n",
      "('genre_unknown', 104.26274081106818)\n",
      "('documentary_interact', -7.4041327163286041)\n",
      "('foreign_interact', -3.6251834015711211)\n",
      "('romance_interact', 2.1167793720960617)\n",
      "('budget', 0.98118889847726443)\n",
      "('BWinteract', -0.86805579345673323)\n",
      "('horror_interact', 0.70024736411869526)\n",
      "('western_interact', -0.51507060043513775)\n",
      "('action_interact', 0.47057073563337326)\n",
      "('BSinteract', -0.40784329548478127)\n",
      "('drama_interact', -0.3881486039608717)\n",
      "('animation_interact', 0.38028267212212086)\n",
      "('thriller_interact', 0.28592375293374062)\n",
      "('fantasy_interact', -0.27907036244869232)\n",
      "('sci_fi_interact', -0.25619151256978512)\n",
      "('sports_interact', -0.22129945550113916)\n",
      "('BSpinteract', -0.21275289170444012)\n",
      "('crime_interact', 0.20541266514919698)\n",
      "('war_interact', -0.13044915394857526)\n",
      "('family_interact', 0.10256709111854434)\n",
      "('music_interact', 0.022884662728756666)\n",
      "('comedy_interact', 0.00094925984740257263)\n",
      "('unknown_interact', -3.0407682061195374e-07)\n",
      "('intercept', 0.0)\n",
      "\n"
     ]
    },
    {
     "name": "stderr",
     "output_type": "stream",
     "text": [
      "/Users/ANTARES/anaconda2/envs/snakes/lib/python3.5/site-packages/sklearn/linear_model/coordinate_descent.py:466: ConvergenceWarning: Objective did not converge. You might want to increase the number of iterations\n",
      "  ConvergenceWarning)\n"
     ]
    }
   ],
   "source": [
    "for name,model in models.items():\n",
    "    model.fit(Xtrain,ytrain)\n",
    "    print('Model: '+name)\n",
    "    print(\"Score: \" + str(model.score(Xtest,ytest)))\n",
    "    sorted_features = sorted(zip(Xtrain.columns,model.coef_), key=lambda tup: abs(tup[1]), reverse=True)\n",
    "    for feature in sorted_features:\n",
    "        print(feature)\n",
    "        \n",
    "    print(\"\")"
   ]
  },
  {
   "cell_type": "markdown",
   "metadata": {},
   "source": [
    "# Let's choose a better alpha for Lasso?"
   ]
  },
  {
   "cell_type": "code",
   "execution_count": 76,
   "metadata": {
    "collapsed": true
   },
   "outputs": [],
   "source": [
    "def plot_overfit(X,y,model_obj,param_ranges,param_static=None): \n",
    "    for parameter,parameter_range in param_ranges.items():\n",
    "        avg_train_score, avg_test_score = [],[]\n",
    "        std_train_score, std_test_score = [],[]\n",
    "        \n",
    "        for param_val in parameter_range:\n",
    "            param = {parameter:param_val}\n",
    "            if param_static:\n",
    "                param.update(param_static)\n",
    "                \n",
    "            model = model_obj(**param)\n",
    "            \n",
    "            train_scores,test_scores = [],[]\n",
    "            for i in range(20):\n",
    "                Xtrain,Xtest,ytrain,ytest = cross_validation.train_test_split(X,y,test_size = .3)\n",
    "                model.fit(Xtrain,ytrain)\n",
    "                \n",
    "                train_scores.append(model.score(Xtrain,ytrain))\n",
    "                test_scores.append(model.score(Xtest,ytest))\n",
    "            \n",
    "            avg_train_score.append(np.mean(train_scores))\n",
    "            avg_test_score.append(np.mean(test_scores))\n",
    "            \n",
    "            std_train_score.append(np.std(train_scores))\n",
    "            std_test_score.append(np.std(test_scores))\n",
    "            \n",
    "        fig,ax = plt.subplots()\n",
    "        ax.errorbar(parameter_range,avg_train_score,yerr=std_train_score,label='training score')\n",
    "        ax.errorbar(parameter_range,avg_test_score,yerr=std_test_score,label='testing score')\n",
    "        \n",
    "        ax.set_xlabel(parameter)\n",
    "        ax.set_ylabel('score')\n",
    "        ax.legend(loc=0)"
   ]
  },
  {
   "cell_type": "code",
   "execution_count": 77,
   "metadata": {
    "collapsed": false
   },
   "outputs": [
    {
     "data": {
      "text/plain": [
       "(596, 51)"
      ]
     },
     "execution_count": 77,
     "metadata": {},
     "output_type": "execute_result"
    }
   ],
   "source": [
    "df_no_missing.shape"
   ]
  },
  {
   "cell_type": "code",
   "execution_count": 79,
   "metadata": {
    "collapsed": false
   },
   "outputs": [
    {
     "name": "stderr",
     "output_type": "stream",
     "text": [
      "/Users/ANTARES/anaconda2/envs/snakes/lib/python3.5/site-packages/sklearn/linear_model/coordinate_descent.py:466: ConvergenceWarning: Objective did not converge. You might want to increase the number of iterations\n",
      "  ConvergenceWarning)\n"
     ]
    },
    {
     "data": {
      "image/png": "[encoded data removed]",
      "text/plain": [
       "<matplotlib.figure.Figure at 0x11a147e48>"
      ]
     },
     "metadata": {},
     "output_type": "display_data"
    }
   ],
   "source": [
    "plot_overfit(X,y,linear_model.Lasso,{'alpha':np.arange(.01,1,.1)})"
   ]
  },
  {
   "cell_type": "markdown",
   "metadata": {},
   "source": [
    "It's hard to say where our \"peak\" is in the testing score, but alpha = 0.51 is probably our best bet in this case."
   ]
  },
  {
   "cell_type": "code",
   "execution_count": 80,
   "metadata": {
    "collapsed": false
   },
   "outputs": [
    {
     "name": "stdout",
     "output_type": "stream",
     "text": [
      "Name: Lasso\n",
      "Score: 0.100003486901\n"
     ]
    },
    {
     "name": "stderr",
     "output_type": "stream",
     "text": [
      "/Users/ANTARES/anaconda2/envs/snakes/lib/python3.5/site-packages/sklearn/linear_model/coordinate_descent.py:466: ConvergenceWarning: Objective did not converge. You might want to increase the number of iterations\n",
      "  ConvergenceWarning)\n"
     ]
    }
   ],
   "source": [
    "print(\"Name: Lasso\")\n",
    "model = linear_model.Lasso(alpha=.51)\n",
    "model.fit(Xtrain,ytrain)\n",
    "print(\"Score: \" + str(model.score(Xtest,ytest)))\n",
    "#sorted_features = sorted(zip(Xtrain.columns,model.coef_), key=lambda tup: abs(tup[1]), reverse=True)\n",
    "#print(sorted_features)"
   ]
  },
  {
   "cell_type": "markdown",
   "metadata": {},
   "source": [
    "Ok, it's kind of the same as previously. But our scores in the .10-.20 range are a far cry from the earlier simple OLS model with the R^2 in the .40-.50 range. Let's trim back some features. To do this, let's feed the complete model into OLS and see the confidence intervals that emerge."
   ]
  },
  {
   "cell_type": "markdown",
   "metadata": {},
   "source": [
    "## Revisit OLS to drop non-significant features"
   ]
  },
  {
   "cell_type": "code",
   "execution_count": 81,
   "metadata": {
    "collapsed": true
   },
   "outputs": [],
   "source": [
    "# X, y = df_skall.drop(['dtg'], axis=1),df_no_missing['dtg'] #run only if not already in memory"
   ]
  },
  {
   "cell_type": "code",
   "execution_count": 82,
   "metadata": {
    "collapsed": false
   },
   "outputs": [
    {
     "data": {
      "text/html": [
       "<table class=\"simpletable\">\n",
       "<caption>OLS Regression Results</caption>\n",
       "<tr>\n",
       "  <th>Dep. Variable:</th>           <td>dtg</td>       <th>  R-squared:         </th> <td>   0.552</td> \n",
       "</tr>\n",
       "<tr>\n",
       "  <th>Model:</th>                   <td>OLS</td>       <th>  Adj. R-squared:    </th> <td>   0.516</td> \n",
       "</tr>\n",
       "<tr>\n",
       "  <th>Method:</th>             <td>Least Squares</td>  <th>  F-statistic:       </th> <td>   15.44</td> \n",
       "</tr>\n",
       "<tr>\n",
       "  <th>Date:</th>             <td>Thu, 06 Oct 2016</td> <th>  Prob (F-statistic):</th> <td>2.45e-70</td> \n",
       "</tr>\n",
       "<tr>\n",
       "  <th>Time:</th>                 <td>22:46:50</td>     <th>  Log-Likelihood:    </th> <td> -11530.</td> \n",
       "</tr>\n",
       "<tr>\n",
       "  <th>No. Observations:</th>      <td>   596</td>      <th>  AIC:               </th> <td>2.315e+04</td>\n",
       "</tr>\n",
       "<tr>\n",
       "  <th>Df Residuals:</th>          <td>   551</td>      <th>  BIC:               </th> <td>2.335e+04</td>\n",
       "</tr>\n",
       "<tr>\n",
       "  <th>Df Model:</th>              <td>    44</td>      <th>                     </th>     <td> </td>    \n",
       "</tr>\n",
       "<tr>\n",
       "  <th>Covariance Type:</th>      <td>nonrobust</td>    <th>                     </th>     <td> </td>    \n",
       "</tr>\n",
       "</table>\n",
       "<table class=\"simpletable\">\n",
       "<tr>\n",
       "            <td></td>              <th>coef</th>     <th>std err</th>      <th>t</th>      <th>P>|t|</th> <th>[95.0% Conf. Int.]</th> \n",
       "</tr>\n",
       "<tr>\n",
       "  <th>budget</th>               <td>    0.5268</td> <td>    0.182</td> <td>    2.888</td> <td> 0.004</td> <td>    0.169     0.885</td>\n",
       "</tr>\n",
       "<tr>\n",
       "  <th>runtime</th>              <td>  1.26e+06</td> <td> 2.14e+05</td> <td>    5.892</td> <td> 0.000</td> <td>  8.4e+05  1.68e+06</td>\n",
       "</tr>\n",
       "<tr>\n",
       "  <th>genre_comedy</th>         <td> 1.052e+07</td> <td>  1.2e+07</td> <td>    0.875</td> <td> 0.382</td> <td>-1.31e+07  3.42e+07</td>\n",
       "</tr>\n",
       "<tr>\n",
       "  <th>genre_drama</th>          <td>-1.084e+07</td> <td> 1.23e+07</td> <td>   -0.879</td> <td> 0.380</td> <td>-3.51e+07  1.34e+07</td>\n",
       "</tr>\n",
       "<tr>\n",
       "  <th>genre_animation</th>      <td> 2.691e+07</td> <td> 2.62e+07</td> <td>    1.025</td> <td> 0.306</td> <td>-2.46e+07  7.85e+07</td>\n",
       "</tr>\n",
       "<tr>\n",
       "  <th>genre_thriller</th>       <td>-2.208e+07</td> <td>  1.5e+07</td> <td>   -1.475</td> <td> 0.141</td> <td>-5.15e+07  7.32e+06</td>\n",
       "</tr>\n",
       "<tr>\n",
       "  <th>genre_unknown</th>        <td>   -4.2129</td> <td>    1.524</td> <td>   -2.764</td> <td> 0.006</td> <td>   -7.207    -1.218</td>\n",
       "</tr>\n",
       "<tr>\n",
       "  <th>genre_action</th>         <td>-3.752e+07</td> <td> 1.26e+07</td> <td>   -2.978</td> <td> 0.003</td> <td>-6.23e+07 -1.28e+07</td>\n",
       "</tr>\n",
       "<tr>\n",
       "  <th>genre_horror</th>         <td> 2.588e+06</td> <td> 1.62e+07</td> <td>    0.160</td> <td> 0.873</td> <td>-2.93e+07  3.44e+07</td>\n",
       "</tr>\n",
       "<tr>\n",
       "  <th>genre_romance</th>        <td> -8.37e+07</td> <td> 3.61e+07</td> <td>   -2.321</td> <td> 0.021</td> <td>-1.55e+08 -1.29e+07</td>\n",
       "</tr>\n",
       "<tr>\n",
       "  <th>genre_fantasy</th>        <td>-1.661e+08</td> <td> 3.35e+07</td> <td>   -4.961</td> <td> 0.000</td> <td>-2.32e+08    -1e+08</td>\n",
       "</tr>\n",
       "<tr>\n",
       "  <th>genre_family</th>         <td> 4.822e+06</td> <td> 3.91e+07</td> <td>    0.123</td> <td> 0.902</td> <td> -7.2e+07  8.16e+07</td>\n",
       "</tr>\n",
       "<tr>\n",
       "  <th>genre_sports</th>         <td>-2.387e+04</td> <td> 6.59e+07</td> <td>   -0.000</td> <td> 1.000</td> <td> -1.3e+08  1.29e+08</td>\n",
       "</tr>\n",
       "<tr>\n",
       "  <th>genre_foreign</th>        <td>-3.487e+07</td> <td> 1.13e+08</td> <td>   -0.309</td> <td> 0.757</td> <td>-2.56e+08  1.87e+08</td>\n",
       "</tr>\n",
       "<tr>\n",
       "  <th>genre_music</th>          <td>-1.784e+07</td> <td> 3.49e+07</td> <td>   -0.512</td> <td> 0.609</td> <td>-8.63e+07  5.07e+07</td>\n",
       "</tr>\n",
       "<tr>\n",
       "  <th>genre_western</th>        <td>-2.341e+07</td> <td> 4.38e+07</td> <td>   -0.534</td> <td> 0.593</td> <td> -1.1e+08  6.27e+07</td>\n",
       "</tr>\n",
       "<tr>\n",
       "  <th>genre_crime</th>          <td>-2.778e+06</td> <td> 3.32e+07</td> <td>   -0.084</td> <td> 0.933</td> <td>-6.81e+07  6.25e+07</td>\n",
       "</tr>\n",
       "<tr>\n",
       "  <th>genre_sci_fi</th>         <td> 2.295e+06</td> <td> 1.72e+07</td> <td>    0.133</td> <td> 0.894</td> <td>-3.15e+07  3.61e+07</td>\n",
       "</tr>\n",
       "<tr>\n",
       "  <th>genre_war</th>            <td>-3.014e+07</td> <td> 9.89e+07</td> <td>   -0.305</td> <td> 0.761</td> <td>-2.24e+08  1.64e+08</td>\n",
       "</tr>\n",
       "<tr>\n",
       "  <th>genre_documentary</th>    <td>-9.542e+06</td> <td> 6.68e+07</td> <td>   -0.143</td> <td> 0.886</td> <td>-1.41e+08  1.22e+08</td>\n",
       "</tr>\n",
       "<tr>\n",
       "  <th>winter</th>               <td> 2.984e+06</td> <td> 1.19e+07</td> <td>    0.251</td> <td> 0.802</td> <td>-2.04e+07  2.63e+07</td>\n",
       "</tr>\n",
       "<tr>\n",
       "  <th>spring</th>               <td>-3.116e+06</td> <td> 1.09e+07</td> <td>   -0.286</td> <td> 0.775</td> <td>-2.45e+07  1.83e+07</td>\n",
       "</tr>\n",
       "<tr>\n",
       "  <th>summer</th>               <td> 1.576e+07</td> <td> 1.05e+07</td> <td>    1.500</td> <td> 0.134</td> <td>-4.88e+06  3.64e+07</td>\n",
       "</tr>\n",
       "<tr>\n",
       "  <th>R_rated</th>              <td> 5.575e+06</td> <td> 1.19e+07</td> <td>    0.470</td> <td> 0.639</td> <td>-1.77e+07  2.89e+07</td>\n",
       "</tr>\n",
       "<tr>\n",
       "  <th>PG-13</th>                <td> 8.985e+06</td> <td> 1.16e+07</td> <td>    0.775</td> <td> 0.439</td> <td>-1.38e+07  3.18e+07</td>\n",
       "</tr>\n",
       "<tr>\n",
       "  <th>BSinteract</th>           <td>   -0.1710</td> <td>    0.149</td> <td>   -1.144</td> <td> 0.253</td> <td>   -0.465     0.123</td>\n",
       "</tr>\n",
       "<tr>\n",
       "  <th>BSpinteract</th>          <td>    0.0275</td> <td>    0.148</td> <td>    0.186</td> <td> 0.853</td> <td>   -0.263     0.318</td>\n",
       "</tr>\n",
       "<tr>\n",
       "  <th>BWinteract</th>           <td>    0.0079</td> <td>    0.200</td> <td>    0.040</td> <td> 0.968</td> <td>   -0.384     0.400</td>\n",
       "</tr>\n",
       "<tr>\n",
       "  <th>comedy_interact</th>      <td>   -0.0309</td> <td>    0.202</td> <td>   -0.153</td> <td> 0.879</td> <td>   -0.428     0.366</td>\n",
       "</tr>\n",
       "<tr>\n",
       "  <th>drama_interact</th>       <td>   -0.2964</td> <td>    0.224</td> <td>   -1.321</td> <td> 0.187</td> <td>   -0.737     0.144</td>\n",
       "</tr>\n",
       "<tr>\n",
       "  <th>animation_interact</th>   <td>    0.5248</td> <td>    0.252</td> <td>    2.083</td> <td> 0.038</td> <td>    0.030     1.020</td>\n",
       "</tr>\n",
       "<tr>\n",
       "  <th>thriller_interact</th>    <td>    0.4626</td> <td>    0.245</td> <td>    1.885</td> <td> 0.060</td> <td>   -0.019     0.944</td>\n",
       "</tr>\n",
       "<tr>\n",
       "  <th>unknown_interact</th>     <td> 5.332e-08</td> <td> 5.87e-08</td> <td>    0.909</td> <td> 0.364</td> <td>-6.19e-08  1.69e-07</td>\n",
       "</tr>\n",
       "<tr>\n",
       "  <th>action_interact</th>      <td>    0.5726</td> <td>    0.150</td> <td>    3.822</td> <td> 0.000</td> <td>    0.278     0.867</td>\n",
       "</tr>\n",
       "<tr>\n",
       "  <th>horror_interact</th>      <td>    0.4741</td> <td>    0.251</td> <td>    1.892</td> <td> 0.059</td> <td>   -0.018     0.966</td>\n",
       "</tr>\n",
       "<tr>\n",
       "  <th>romance_interact</th>     <td>    2.3795</td> <td>    0.591</td> <td>    4.026</td> <td> 0.000</td> <td>    1.219     3.540</td>\n",
       "</tr>\n",
       "<tr>\n",
       "  <th>fantasy_interact</th>     <td>    2.1594</td> <td>    0.311</td> <td>    6.938</td> <td> 0.000</td> <td>    1.548     2.771</td>\n",
       "</tr>\n",
       "<tr>\n",
       "  <th>family_interact</th>      <td>    0.1937</td> <td>    0.558</td> <td>    0.347</td> <td> 0.729</td> <td>   -0.902     1.289</td>\n",
       "</tr>\n",
       "<tr>\n",
       "  <th>sports_interact</th>      <td>   -0.1936</td> <td>    2.094</td> <td>   -0.092</td> <td> 0.926</td> <td>   -4.307     3.920</td>\n",
       "</tr>\n",
       "<tr>\n",
       "  <th>foreign_interact</th>     <td>   -2.6824</td> <td>   12.928</td> <td>   -0.207</td> <td> 0.836</td> <td>  -28.077    22.712</td>\n",
       "</tr>\n",
       "<tr>\n",
       "  <th>music_interact</th>       <td>    0.1969</td> <td>    0.814</td> <td>    0.242</td> <td> 0.809</td> <td>   -1.402     1.796</td>\n",
       "</tr>\n",
       "<tr>\n",
       "  <th>western_interact</th>     <td>   -0.2426</td> <td>    0.419</td> <td>   -0.578</td> <td> 0.563</td> <td>   -1.066     0.581</td>\n",
       "</tr>\n",
       "<tr>\n",
       "  <th>crime_interact</th>       <td>    0.0042</td> <td>    0.944</td> <td>    0.004</td> <td> 0.996</td> <td>   -1.850     1.858</td>\n",
       "</tr>\n",
       "<tr>\n",
       "  <th>sci_fi_interact</th>      <td>    0.0826</td> <td>    0.154</td> <td>    0.536</td> <td> 0.592</td> <td>   -0.220     0.385</td>\n",
       "</tr>\n",
       "<tr>\n",
       "  <th>war_interact</th>         <td>    0.3377</td> <td>    1.694</td> <td>    0.199</td> <td> 0.842</td> <td>   -2.989     3.664</td>\n",
       "</tr>\n",
       "<tr>\n",
       "  <th>documentary_interact</th> <td>    0.4220</td> <td>    8.715</td> <td>    0.048</td> <td> 0.961</td> <td>  -16.697    17.541</td>\n",
       "</tr>\n",
       "<tr>\n",
       "  <th>intercept</th>            <td>-1.091e+08</td> <td> 2.74e+07</td> <td>   -3.983</td> <td> 0.000</td> <td>-1.63e+08 -5.53e+07</td>\n",
       "</tr>\n",
       "</table>\n",
       "<table class=\"simpletable\">\n",
       "<tr>\n",
       "  <th>Omnibus:</th>       <td>284.279</td> <th>  Durbin-Watson:     </th> <td>   1.554</td>\n",
       "</tr>\n",
       "<tr>\n",
       "  <th>Prob(Omnibus):</th> <td> 0.000</td>  <th>  Jarque-Bera (JB):  </th> <td>2779.897</td>\n",
       "</tr>\n",
       "<tr>\n",
       "  <th>Skew:</th>          <td> 1.867</td>  <th>  Prob(JB):          </th> <td>    0.00</td>\n",
       "</tr>\n",
       "<tr>\n",
       "  <th>Kurtosis:</th>      <td>12.899</td>  <th>  Cond. No.          </th> <td>1.28e+16</td>\n",
       "</tr>\n",
       "</table>"
      ],
      "text/plain": [
       "<class 'statsmodels.iolib.summary.Summary'>\n",
       "\"\"\"\n",
       "                            OLS Regression Results                            \n",
       "==============================================================================\n",
       "Dep. Variable:                    dtg   R-squared:                       0.552\n",
       "Model:                            OLS   Adj. R-squared:                  0.516\n",
       "Method:                 Least Squares   F-statistic:                     15.44\n",
       "Date:                Thu, 06 Oct 2016   Prob (F-statistic):           2.45e-70\n",
       "Time:                        22:46:50   Log-Likelihood:                -11530.\n",
       "No. Observations:                 596   AIC:                         2.315e+04\n",
       "Df Residuals:                     551   BIC:                         2.335e+04\n",
       "Df Model:                          44                                         \n",
       "Covariance Type:            nonrobust                                         \n",
       "========================================================================================\n",
       "                           coef    std err          t      P>|t|      [95.0% Conf. Int.]\n",
       "----------------------------------------------------------------------------------------\n",
       "budget                   0.5268      0.182      2.888      0.004         0.169     0.885\n",
       "runtime                1.26e+06   2.14e+05      5.892      0.000       8.4e+05  1.68e+06\n",
       "genre_comedy          1.052e+07    1.2e+07      0.875      0.382     -1.31e+07  3.42e+07\n",
       "genre_drama          -1.084e+07   1.23e+07     -0.879      0.380     -3.51e+07  1.34e+07\n",
       "genre_animation       2.691e+07   2.62e+07      1.025      0.306     -2.46e+07  7.85e+07\n",
       "genre_thriller       -2.208e+07    1.5e+07     -1.475      0.141     -5.15e+07  7.32e+06\n",
       "genre_unknown           -4.2129      1.524     -2.764      0.006        -7.207    -1.218\n",
       "genre_action         -3.752e+07   1.26e+07     -2.978      0.003     -6.23e+07 -1.28e+07\n",
       "genre_horror          2.588e+06   1.62e+07      0.160      0.873     -2.93e+07  3.44e+07\n",
       "genre_romance         -8.37e+07   3.61e+07     -2.321      0.021     -1.55e+08 -1.29e+07\n",
       "genre_fantasy        -1.661e+08   3.35e+07     -4.961      0.000     -2.32e+08    -1e+08\n",
       "genre_family          4.822e+06   3.91e+07      0.123      0.902      -7.2e+07  8.16e+07\n",
       "genre_sports         -2.387e+04   6.59e+07     -0.000      1.000      -1.3e+08  1.29e+08\n",
       "genre_foreign        -3.487e+07   1.13e+08     -0.309      0.757     -2.56e+08  1.87e+08\n",
       "genre_music          -1.784e+07   3.49e+07     -0.512      0.609     -8.63e+07  5.07e+07\n",
       "genre_western        -2.341e+07   4.38e+07     -0.534      0.593      -1.1e+08  6.27e+07\n",
       "genre_crime          -2.778e+06   3.32e+07     -0.084      0.933     -6.81e+07  6.25e+07\n",
       "genre_sci_fi          2.295e+06   1.72e+07      0.133      0.894     -3.15e+07  3.61e+07\n",
       "genre_war            -3.014e+07   9.89e+07     -0.305      0.761     -2.24e+08  1.64e+08\n",
       "genre_documentary    -9.542e+06   6.68e+07     -0.143      0.886     -1.41e+08  1.22e+08\n",
       "winter                2.984e+06   1.19e+07      0.251      0.802     -2.04e+07  2.63e+07\n",
       "spring               -3.116e+06   1.09e+07     -0.286      0.775     -2.45e+07  1.83e+07\n",
       "summer                1.576e+07   1.05e+07      1.500      0.134     -4.88e+06  3.64e+07\n",
       "R_rated               5.575e+06   1.19e+07      0.470      0.639     -1.77e+07  2.89e+07\n",
       "PG-13                 8.985e+06   1.16e+07      0.775      0.439     -1.38e+07  3.18e+07\n",
       "BSinteract              -0.1710      0.149     -1.144      0.253        -0.465     0.123\n",
       "BSpinteract              0.0275      0.148      0.186      0.853        -0.263     0.318\n",
       "BWinteract               0.0079      0.200      0.040      0.968        -0.384     0.400\n",
       "comedy_interact         -0.0309      0.202     -0.153      0.879        -0.428     0.366\n",
       "drama_interact          -0.2964      0.224     -1.321      0.187        -0.737     0.144\n",
       "animation_interact       0.5248      0.252      2.083      0.038         0.030     1.020\n",
       "thriller_interact        0.4626      0.245      1.885      0.060        -0.019     0.944\n",
       "unknown_interact      5.332e-08   5.87e-08      0.909      0.364     -6.19e-08  1.69e-07\n",
       "action_interact          0.5726      0.150      3.822      0.000         0.278     0.867\n",
       "horror_interact          0.4741      0.251      1.892      0.059        -0.018     0.966\n",
       "romance_interact         2.3795      0.591      4.026      0.000         1.219     3.540\n",
       "fantasy_interact         2.1594      0.311      6.938      0.000         1.548     2.771\n",
       "family_interact          0.1937      0.558      0.347      0.729        -0.902     1.289\n",
       "sports_interact         -0.1936      2.094     -0.092      0.926        -4.307     3.920\n",
       "foreign_interact        -2.6824     12.928     -0.207      0.836       -28.077    22.712\n",
       "music_interact           0.1969      0.814      0.242      0.809        -1.402     1.796\n",
       "western_interact        -0.2426      0.419     -0.578      0.563        -1.066     0.581\n",
       "crime_interact           0.0042      0.944      0.004      0.996        -1.850     1.858\n",
       "sci_fi_interact          0.0826      0.154      0.536      0.592        -0.220     0.385\n",
       "war_interact             0.3377      1.694      0.199      0.842        -2.989     3.664\n",
       "documentary_interact     0.4220      8.715      0.048      0.961       -16.697    17.541\n",
       "intercept            -1.091e+08   2.74e+07     -3.983      0.000     -1.63e+08 -5.53e+07\n",
       "==============================================================================\n",
       "Omnibus:                      284.279   Durbin-Watson:                   1.554\n",
       "Prob(Omnibus):                  0.000   Jarque-Bera (JB):             2779.897\n",
       "Skew:                           1.867   Prob(JB):                         0.00\n",
       "Kurtosis:                      12.899   Cond. No.                     1.28e+16\n",
       "==============================================================================\n",
       "\n",
       "Warnings:\n",
       "[1] Standard Errors assume that the covariance matrix of the errors is correctly specified.\n",
       "[2] The smallest eigenvalue is 3.57e-14. This might indicate that there are\n",
       "strong multicollinearity problems or that the design matrix is singular.\n",
       "\"\"\""
      ]
     },
     "execution_count": 82,
     "metadata": {},
     "output_type": "execute_result"
    }
   ],
   "source": [
    "model_skall = sm.OLS(y, X)\n",
    "results = model_skall.fit()\n",
    "results.summary()"
   ]
  },
  {
   "cell_type": "markdown",
   "metadata": {},
   "source": [
    "R^2 went up compared to our very simple OLS model, but we have too many features, most of them are not measurably improving the model. Based on this analysis, the genres I will include are action, romance, and fantasy, as well as their three interaction terms."
   ]
  },
  {
   "cell_type": "code",
   "execution_count": 103,
   "metadata": {
    "collapsed": false
   },
   "outputs": [],
   "source": [
    "df_final = df_skall.copy(deep=True)"
   ]
  },
  {
   "cell_type": "code",
   "execution_count": 114,
   "metadata": {
    "collapsed": true
   },
   "outputs": [],
   "source": [
    "del df_final[\"foreign_interact\"], df_final[\"drama_interact\"], df_final[\"animation_interact\"]"
   ]
  },
  {
   "cell_type": "code",
   "execution_count": 105,
   "metadata": {
    "collapsed": false
   },
   "outputs": [],
   "source": [
    "del df_final[\"genre_comedy\"], df_final[\"genre_drama\"], df_final[\"genre_animation\"], df_final[\"genre_sports\"], df_final[\"genre_war\"]"
   ]
  },
  {
   "cell_type": "code",
   "execution_count": 112,
   "metadata": {
    "collapsed": true
   },
   "outputs": [],
   "source": [
    "del df_final[\"thriller_interact\"], df_final[\"crime_interact\"], df_final[\"sports_interact\"], df_final[\"documentary_interact\"]"
   ]
  },
  {
   "cell_type": "code",
   "execution_count": 106,
   "metadata": {
    "collapsed": true
   },
   "outputs": [],
   "source": [
    "del df_final[\"genre_western\"], df_final[\"western_interact\"], df_final[\"comedy_interact\"], df_final[\"unknown_interact\"]"
   ]
  },
  {
   "cell_type": "code",
   "execution_count": 107,
   "metadata": {
    "collapsed": false
   },
   "outputs": [],
   "source": [
    "del df_final[\"genre_thriller\"], df_final[\"genre_sci_fi\"], df_final[\"genre_family\"], df_final[\"genre_foreign\"]"
   ]
  },
  {
   "cell_type": "code",
   "execution_count": 108,
   "metadata": {
    "collapsed": false
   },
   "outputs": [],
   "source": [
    "del df_final[\"genre_horror\"], df_final[\"horror_interact\"], df_final[\"sci_fi_interact\"], df_final[\"war_interact\"], df_final[\"music_interact\"]"
   ]
  },
  {
   "cell_type": "code",
   "execution_count": 110,
   "metadata": {
    "collapsed": true
   },
   "outputs": [],
   "source": [
    "del df_final[\"genre_unknown\"], df_final[\"genre_music\"], df_final[\"genre_crime\"], df_final[\"genre_documentary\"], df_final[\"family_interact\"]"
   ]
  },
  {
   "cell_type": "code",
   "execution_count": 115,
   "metadata": {
    "collapsed": false
   },
   "outputs": [
    {
     "data": {
      "text/plain": [
       "Index(['dtg', 'budget', 'runtime', 'genre_action', 'genre_romance',\n",
       "       'genre_fantasy', 'winter', 'spring', 'summer', 'R_rated', 'PG-13',\n",
       "       'BSinteract', 'BSpinteract', 'BWinteract', 'action_interact',\n",
       "       'romance_interact', 'fantasy_interact', 'intercept'],\n",
       "      dtype='object')"
      ]
     },
     "execution_count": 115,
     "metadata": {},
     "output_type": "execute_result"
    }
   ],
   "source": [
    "df_final.columns"
   ]
  },
  {
   "cell_type": "code",
   "execution_count": 116,
   "metadata": {
    "collapsed": true
   },
   "outputs": [],
   "source": [
    "X, y = df_final.drop(['dtg'], axis=1),df_final['dtg']"
   ]
  },
  {
   "cell_type": "code",
   "execution_count": 117,
   "metadata": {
    "collapsed": false
   },
   "outputs": [
    {
     "data": {
      "text/html": [
       "<table class=\"simpletable\">\n",
       "<caption>OLS Regression Results</caption>\n",
       "<tr>\n",
       "  <th>Dep. Variable:</th>           <td>dtg</td>       <th>  R-squared:         </th> <td>   0.510</td> \n",
       "</tr>\n",
       "<tr>\n",
       "  <th>Model:</th>                   <td>OLS</td>       <th>  Adj. R-squared:    </th> <td>   0.496</td> \n",
       "</tr>\n",
       "<tr>\n",
       "  <th>Method:</th>             <td>Least Squares</td>  <th>  F-statistic:       </th> <td>   37.61</td> \n",
       "</tr>\n",
       "<tr>\n",
       "  <th>Date:</th>             <td>Thu, 06 Oct 2016</td> <th>  Prob (F-statistic):</th> <td>8.56e-79</td> \n",
       "</tr>\n",
       "<tr>\n",
       "  <th>Time:</th>                 <td>22:57:29</td>     <th>  Log-Likelihood:    </th> <td> -11557.</td> \n",
       "</tr>\n",
       "<tr>\n",
       "  <th>No. Observations:</th>      <td>   596</td>      <th>  AIC:               </th> <td>2.315e+04</td>\n",
       "</tr>\n",
       "<tr>\n",
       "  <th>Df Residuals:</th>          <td>   579</td>      <th>  BIC:               </th> <td>2.322e+04</td>\n",
       "</tr>\n",
       "<tr>\n",
       "  <th>Df Model:</th>              <td>    16</td>      <th>                     </th>     <td> </td>    \n",
       "</tr>\n",
       "<tr>\n",
       "  <th>Covariance Type:</th>      <td>nonrobust</td>    <th>                     </th>     <td> </td>    \n",
       "</tr>\n",
       "</table>\n",
       "<table class=\"simpletable\">\n",
       "<tr>\n",
       "          <td></td>            <th>coef</th>     <th>std err</th>      <th>t</th>      <th>P>|t|</th> <th>[95.0% Conf. Int.]</th> \n",
       "</tr>\n",
       "<tr>\n",
       "  <th>budget</th>           <td>    0.9598</td> <td>    0.134</td> <td>    7.170</td> <td> 0.000</td> <td>    0.697     1.223</td>\n",
       "</tr>\n",
       "<tr>\n",
       "  <th>runtime</th>          <td> 6.335e+05</td> <td>  1.8e+05</td> <td>    3.516</td> <td> 0.000</td> <td>  2.8e+05  9.87e+05</td>\n",
       "</tr>\n",
       "<tr>\n",
       "  <th>genre_action</th>     <td>-3.034e+07</td> <td>  1.1e+07</td> <td>   -2.748</td> <td> 0.006</td> <td> -5.2e+07 -8.65e+06</td>\n",
       "</tr>\n",
       "<tr>\n",
       "  <th>genre_romance</th>    <td>-4.998e+07</td> <td> 3.48e+07</td> <td>   -1.437</td> <td> 0.151</td> <td>-1.18e+08  1.83e+07</td>\n",
       "</tr>\n",
       "<tr>\n",
       "  <th>genre_fantasy</th>    <td>-1.773e+08</td> <td> 3.28e+07</td> <td>   -5.412</td> <td> 0.000</td> <td>-2.42e+08 -1.13e+08</td>\n",
       "</tr>\n",
       "<tr>\n",
       "  <th>winter</th>           <td> 6.138e+06</td> <td> 1.18e+07</td> <td>    0.518</td> <td> 0.605</td> <td>-1.71e+07  2.94e+07</td>\n",
       "</tr>\n",
       "<tr>\n",
       "  <th>spring</th>           <td> 1.879e+06</td> <td> 1.06e+07</td> <td>    0.178</td> <td> 0.859</td> <td>-1.88e+07  2.26e+07</td>\n",
       "</tr>\n",
       "<tr>\n",
       "  <th>summer</th>           <td> 1.512e+07</td> <td> 1.04e+07</td> <td>    1.448</td> <td> 0.148</td> <td>-5.39e+06  3.56e+07</td>\n",
       "</tr>\n",
       "<tr>\n",
       "  <th>R_rated</th>          <td>-1.039e+07</td> <td> 8.95e+06</td> <td>   -1.161</td> <td> 0.246</td> <td> -2.8e+07  7.18e+06</td>\n",
       "</tr>\n",
       "<tr>\n",
       "  <th>PG-13</th>            <td>-1.214e+07</td> <td> 8.67e+06</td> <td>   -1.400</td> <td> 0.162</td> <td>-2.92e+07  4.89e+06</td>\n",
       "</tr>\n",
       "<tr>\n",
       "  <th>BSinteract</th>       <td>   -0.1957</td> <td>    0.147</td> <td>   -1.328</td> <td> 0.185</td> <td>   -0.485     0.094</td>\n",
       "</tr>\n",
       "<tr>\n",
       "  <th>BSpinteract</th>      <td>   -0.1287</td> <td>    0.145</td> <td>   -0.888</td> <td> 0.375</td> <td>   -0.413     0.156</td>\n",
       "</tr>\n",
       "<tr>\n",
       "  <th>BWinteract</th>       <td>   -0.1889</td> <td>    0.192</td> <td>   -0.982</td> <td> 0.327</td> <td>   -0.567     0.189</td>\n",
       "</tr>\n",
       "<tr>\n",
       "  <th>action_interact</th>  <td>    0.3791</td> <td>    0.119</td> <td>    3.176</td> <td> 0.002</td> <td>    0.145     0.613</td>\n",
       "</tr>\n",
       "<tr>\n",
       "  <th>romance_interact</th> <td>    1.8281</td> <td>    0.587</td> <td>    3.113</td> <td> 0.002</td> <td>    0.675     2.981</td>\n",
       "</tr>\n",
       "<tr>\n",
       "  <th>fantasy_interact</th> <td>    2.0136</td> <td>    0.299</td> <td>    6.724</td> <td> 0.000</td> <td>    1.425     2.602</td>\n",
       "</tr>\n",
       "<tr>\n",
       "  <th>intercept</th>        <td> -3.79e+07</td> <td> 1.99e+07</td> <td>   -1.907</td> <td> 0.057</td> <td>-7.69e+07  1.14e+06</td>\n",
       "</tr>\n",
       "</table>\n",
       "<table class=\"simpletable\">\n",
       "<tr>\n",
       "  <th>Omnibus:</th>       <td>318.993</td> <th>  Durbin-Watson:     </th> <td>   1.472</td>\n",
       "</tr>\n",
       "<tr>\n",
       "  <th>Prob(Omnibus):</th> <td> 0.000</td>  <th>  Jarque-Bera (JB):  </th> <td>4018.182</td>\n",
       "</tr>\n",
       "<tr>\n",
       "  <th>Skew:</th>          <td> 2.074</td>  <th>  Prob(JB):          </th> <td>    0.00</td>\n",
       "</tr>\n",
       "<tr>\n",
       "  <th>Kurtosis:</th>      <td>15.025</td>  <th>  Cond. No.          </th> <td>1.27e+09</td>\n",
       "</tr>\n",
       "</table>"
      ],
      "text/plain": [
       "<class 'statsmodels.iolib.summary.Summary'>\n",
       "\"\"\"\n",
       "                            OLS Regression Results                            \n",
       "==============================================================================\n",
       "Dep. Variable:                    dtg   R-squared:                       0.510\n",
       "Model:                            OLS   Adj. R-squared:                  0.496\n",
       "Method:                 Least Squares   F-statistic:                     37.61\n",
       "Date:                Thu, 06 Oct 2016   Prob (F-statistic):           8.56e-79\n",
       "Time:                        22:57:29   Log-Likelihood:                -11557.\n",
       "No. Observations:                 596   AIC:                         2.315e+04\n",
       "Df Residuals:                     579   BIC:                         2.322e+04\n",
       "Df Model:                          16                                         \n",
       "Covariance Type:            nonrobust                                         \n",
       "====================================================================================\n",
       "                       coef    std err          t      P>|t|      [95.0% Conf. Int.]\n",
       "------------------------------------------------------------------------------------\n",
       "budget               0.9598      0.134      7.170      0.000         0.697     1.223\n",
       "runtime           6.335e+05    1.8e+05      3.516      0.000       2.8e+05  9.87e+05\n",
       "genre_action     -3.034e+07    1.1e+07     -2.748      0.006      -5.2e+07 -8.65e+06\n",
       "genre_romance    -4.998e+07   3.48e+07     -1.437      0.151     -1.18e+08  1.83e+07\n",
       "genre_fantasy    -1.773e+08   3.28e+07     -5.412      0.000     -2.42e+08 -1.13e+08\n",
       "winter            6.138e+06   1.18e+07      0.518      0.605     -1.71e+07  2.94e+07\n",
       "spring            1.879e+06   1.06e+07      0.178      0.859     -1.88e+07  2.26e+07\n",
       "summer            1.512e+07   1.04e+07      1.448      0.148     -5.39e+06  3.56e+07\n",
       "R_rated          -1.039e+07   8.95e+06     -1.161      0.246      -2.8e+07  7.18e+06\n",
       "PG-13            -1.214e+07   8.67e+06     -1.400      0.162     -2.92e+07  4.89e+06\n",
       "BSinteract          -0.1957      0.147     -1.328      0.185        -0.485     0.094\n",
       "BSpinteract         -0.1287      0.145     -0.888      0.375        -0.413     0.156\n",
       "BWinteract          -0.1889      0.192     -0.982      0.327        -0.567     0.189\n",
       "action_interact      0.3791      0.119      3.176      0.002         0.145     0.613\n",
       "romance_interact     1.8281      0.587      3.113      0.002         0.675     2.981\n",
       "fantasy_interact     2.0136      0.299      6.724      0.000         1.425     2.602\n",
       "intercept         -3.79e+07   1.99e+07     -1.907      0.057     -7.69e+07  1.14e+06\n",
       "==============================================================================\n",
       "Omnibus:                      318.993   Durbin-Watson:                   1.472\n",
       "Prob(Omnibus):                  0.000   Jarque-Bera (JB):             4018.182\n",
       "Skew:                           2.074   Prob(JB):                         0.00\n",
       "Kurtosis:                      15.025   Cond. No.                     1.27e+09\n",
       "==============================================================================\n",
       "\n",
       "Warnings:\n",
       "[1] Standard Errors assume that the covariance matrix of the errors is correctly specified.\n",
       "[2] The condition number is large, 1.27e+09. This might indicate that there are\n",
       "strong multicollinearity or other numerical problems.\n",
       "\"\"\""
      ]
     },
     "execution_count": 117,
     "metadata": {},
     "output_type": "execute_result"
    }
   ],
   "source": [
    "model_skall = sm.OLS(y, X)\n",
    "results = model_skall.fit()\n",
    "results.summary()"
   ]
  },
  {
   "cell_type": "markdown",
   "metadata": {
    "collapsed": true
   },
   "source": [
    "We can also drop the budget/season interaction terms"
   ]
  },
  {
   "cell_type": "code",
   "execution_count": 118,
   "metadata": {
    "collapsed": true
   },
   "outputs": [],
   "source": [
    "del df_final[\"BSpinteract\"], df_final[\"BSinteract\"], df_final[\"BWinteract\"]"
   ]
  },
  {
   "cell_type": "code",
   "execution_count": 119,
   "metadata": {
    "collapsed": false
   },
   "outputs": [
    {
     "data": {
      "text/html": [
       "<table class=\"simpletable\">\n",
       "<caption>OLS Regression Results</caption>\n",
       "<tr>\n",
       "  <th>Dep. Variable:</th>           <td>dtg</td>       <th>  R-squared:         </th> <td>   0.508</td> \n",
       "</tr>\n",
       "<tr>\n",
       "  <th>Model:</th>                   <td>OLS</td>       <th>  Adj. R-squared:    </th> <td>   0.497</td> \n",
       "</tr>\n",
       "<tr>\n",
       "  <th>Method:</th>             <td>Least Squares</td>  <th>  F-statistic:       </th> <td>   46.23</td> \n",
       "</tr>\n",
       "<tr>\n",
       "  <th>Date:</th>             <td>Thu, 06 Oct 2016</td> <th>  Prob (F-statistic):</th> <td>7.35e-81</td> \n",
       "</tr>\n",
       "<tr>\n",
       "  <th>Time:</th>                 <td>22:59:50</td>     <th>  Log-Likelihood:    </th> <td> -11558.</td> \n",
       "</tr>\n",
       "<tr>\n",
       "  <th>No. Observations:</th>      <td>   596</td>      <th>  AIC:               </th> <td>2.314e+04</td>\n",
       "</tr>\n",
       "<tr>\n",
       "  <th>Df Residuals:</th>          <td>   582</td>      <th>  BIC:               </th> <td>2.321e+04</td>\n",
       "</tr>\n",
       "<tr>\n",
       "  <th>Df Model:</th>              <td>    13</td>      <th>                     </th>     <td> </td>    \n",
       "</tr>\n",
       "<tr>\n",
       "  <th>Covariance Type:</th>      <td>nonrobust</td>    <th>                     </th>     <td> </td>    \n",
       "</tr>\n",
       "</table>\n",
       "<table class=\"simpletable\">\n",
       "<tr>\n",
       "          <td></td>            <th>coef</th>     <th>std err</th>      <th>t</th>      <th>P>|t|</th> <th>[95.0% Conf. Int.]</th> \n",
       "</tr>\n",
       "<tr>\n",
       "  <th>budget</th>           <td>    0.8303</td> <td>    0.078</td> <td>   10.641</td> <td> 0.000</td> <td>    0.677     0.984</td>\n",
       "</tr>\n",
       "<tr>\n",
       "  <th>runtime</th>          <td>  6.35e+05</td> <td> 1.78e+05</td> <td>    3.568</td> <td> 0.000</td> <td> 2.85e+05  9.85e+05</td>\n",
       "</tr>\n",
       "<tr>\n",
       "  <th>genre_action</th>     <td>-2.983e+07</td> <td> 1.09e+07</td> <td>   -2.725</td> <td> 0.007</td> <td>-5.13e+07 -8.33e+06</td>\n",
       "</tr>\n",
       "<tr>\n",
       "  <th>genre_romance</th>    <td>-5.163e+07</td> <td> 3.47e+07</td> <td>   -1.489</td> <td> 0.137</td> <td> -1.2e+08  1.65e+07</td>\n",
       "</tr>\n",
       "<tr>\n",
       "  <th>genre_fantasy</th>    <td>-1.745e+08</td> <td> 3.24e+07</td> <td>   -5.391</td> <td> 0.000</td> <td>-2.38e+08 -1.11e+08</td>\n",
       "</tr>\n",
       "<tr>\n",
       "  <th>winter</th>           <td>-2.396e+06</td> <td> 7.72e+06</td> <td>   -0.310</td> <td> 0.756</td> <td>-1.76e+07  1.28e+07</td>\n",
       "</tr>\n",
       "<tr>\n",
       "  <th>spring</th>           <td>-3.677e+06</td> <td> 7.51e+06</td> <td>   -0.489</td> <td> 0.625</td> <td>-1.84e+07  1.11e+07</td>\n",
       "</tr>\n",
       "<tr>\n",
       "  <th>summer</th>           <td> 5.509e+06</td> <td> 7.44e+06</td> <td>    0.740</td> <td> 0.460</td> <td>-9.11e+06  2.01e+07</td>\n",
       "</tr>\n",
       "<tr>\n",
       "  <th>R_rated</th>          <td>-1.141e+07</td> <td> 8.84e+06</td> <td>   -1.290</td> <td> 0.197</td> <td>-2.88e+07  5.96e+06</td>\n",
       "</tr>\n",
       "<tr>\n",
       "  <th>PG-13</th>            <td>-1.319e+07</td> <td>  8.6e+06</td> <td>   -1.534</td> <td> 0.126</td> <td>-3.01e+07   3.7e+06</td>\n",
       "</tr>\n",
       "<tr>\n",
       "  <th>action_interact</th>  <td>    0.3657</td> <td>    0.117</td> <td>    3.136</td> <td> 0.002</td> <td>    0.137     0.595</td>\n",
       "</tr>\n",
       "<tr>\n",
       "  <th>romance_interact</th> <td>    1.9197</td> <td>    0.581</td> <td>    3.304</td> <td> 0.001</td> <td>    0.779     3.061</td>\n",
       "</tr>\n",
       "<tr>\n",
       "  <th>fantasy_interact</th> <td>    1.9886</td> <td>    0.291</td> <td>    6.839</td> <td> 0.000</td> <td>    1.417     2.560</td>\n",
       "</tr>\n",
       "<tr>\n",
       "  <th>intercept</th>        <td>-3.144e+07</td> <td> 1.91e+07</td> <td>   -1.646</td> <td> 0.100</td> <td>-6.89e+07  6.08e+06</td>\n",
       "</tr>\n",
       "</table>\n",
       "<table class=\"simpletable\">\n",
       "<tr>\n",
       "  <th>Omnibus:</th>       <td>314.276</td> <th>  Durbin-Watson:     </th> <td>   1.460</td>\n",
       "</tr>\n",
       "<tr>\n",
       "  <th>Prob(Omnibus):</th> <td> 0.000</td>  <th>  Jarque-Bera (JB):  </th> <td>3736.263</td>\n",
       "</tr>\n",
       "<tr>\n",
       "  <th>Skew:</th>          <td> 2.054</td>  <th>  Prob(JB):          </th> <td>    0.00</td>\n",
       "</tr>\n",
       "<tr>\n",
       "  <th>Kurtosis:</th>      <td>14.557</td>  <th>  Cond. No.          </th> <td>1.16e+09</td>\n",
       "</tr>\n",
       "</table>"
      ],
      "text/plain": [
       "<class 'statsmodels.iolib.summary.Summary'>\n",
       "\"\"\"\n",
       "                            OLS Regression Results                            \n",
       "==============================================================================\n",
       "Dep. Variable:                    dtg   R-squared:                       0.508\n",
       "Model:                            OLS   Adj. R-squared:                  0.497\n",
       "Method:                 Least Squares   F-statistic:                     46.23\n",
       "Date:                Thu, 06 Oct 2016   Prob (F-statistic):           7.35e-81\n",
       "Time:                        22:59:50   Log-Likelihood:                -11558.\n",
       "No. Observations:                 596   AIC:                         2.314e+04\n",
       "Df Residuals:                     582   BIC:                         2.321e+04\n",
       "Df Model:                          13                                         \n",
       "Covariance Type:            nonrobust                                         \n",
       "====================================================================================\n",
       "                       coef    std err          t      P>|t|      [95.0% Conf. Int.]\n",
       "------------------------------------------------------------------------------------\n",
       "budget               0.8303      0.078     10.641      0.000         0.677     0.984\n",
       "runtime            6.35e+05   1.78e+05      3.568      0.000      2.85e+05  9.85e+05\n",
       "genre_action     -2.983e+07   1.09e+07     -2.725      0.007     -5.13e+07 -8.33e+06\n",
       "genre_romance    -5.163e+07   3.47e+07     -1.489      0.137      -1.2e+08  1.65e+07\n",
       "genre_fantasy    -1.745e+08   3.24e+07     -5.391      0.000     -2.38e+08 -1.11e+08\n",
       "winter           -2.396e+06   7.72e+06     -0.310      0.756     -1.76e+07  1.28e+07\n",
       "spring           -3.677e+06   7.51e+06     -0.489      0.625     -1.84e+07  1.11e+07\n",
       "summer            5.509e+06   7.44e+06      0.740      0.460     -9.11e+06  2.01e+07\n",
       "R_rated          -1.141e+07   8.84e+06     -1.290      0.197     -2.88e+07  5.96e+06\n",
       "PG-13            -1.319e+07    8.6e+06     -1.534      0.126     -3.01e+07   3.7e+06\n",
       "action_interact      0.3657      0.117      3.136      0.002         0.137     0.595\n",
       "romance_interact     1.9197      0.581      3.304      0.001         0.779     3.061\n",
       "fantasy_interact     1.9886      0.291      6.839      0.000         1.417     2.560\n",
       "intercept        -3.144e+07   1.91e+07     -1.646      0.100     -6.89e+07  6.08e+06\n",
       "==============================================================================\n",
       "Omnibus:                      314.276   Durbin-Watson:                   1.460\n",
       "Prob(Omnibus):                  0.000   Jarque-Bera (JB):             3736.263\n",
       "Skew:                           2.054   Prob(JB):                         0.00\n",
       "Kurtosis:                      14.557   Cond. No.                     1.16e+09\n",
       "==============================================================================\n",
       "\n",
       "Warnings:\n",
       "[1] Standard Errors assume that the covariance matrix of the errors is correctly specified.\n",
       "[2] The condition number is large, 1.16e+09. This might indicate that there are\n",
       "strong multicollinearity or other numerical problems.\n",
       "\"\"\""
      ]
     },
     "execution_count": 119,
     "metadata": {},
     "output_type": "execute_result"
    }
   ],
   "source": [
    "X, y = df_final.drop(['dtg'], axis=1),df_final['dtg']\n",
    "model_final = sm.OLS(y, X)\n",
    "results = model_final.fit()\n",
    "results.summary()"
   ]
  },
  {
   "cell_type": "markdown",
   "metadata": {},
   "source": [
    "Actually I thought this would be final, but let's get rid of the seasons. And I also have a new hypothesis: runtime and budget may interact as well."
   ]
  },
  {
   "cell_type": "code",
   "execution_count": 122,
   "metadata": {
    "collapsed": true
   },
   "outputs": [],
   "source": [
    "df_noseasons = df_final.copy(deep=True)"
   ]
  },
  {
   "cell_type": "code",
   "execution_count": 123,
   "metadata": {
    "collapsed": true
   },
   "outputs": [],
   "source": [
    "del df_noseasons[\"winter\"], df_noseasons[\"summer\"], df_noseasons[\"spring\"]"
   ]
  },
  {
   "cell_type": "code",
   "execution_count": 124,
   "metadata": {
    "collapsed": false
   },
   "outputs": [
    {
     "data": {
      "text/html": [
       "<table class=\"simpletable\">\n",
       "<caption>OLS Regression Results</caption>\n",
       "<tr>\n",
       "  <th>Dep. Variable:</th>           <td>dtg</td>       <th>  R-squared:         </th> <td>   0.507</td> \n",
       "</tr>\n",
       "<tr>\n",
       "  <th>Model:</th>                   <td>OLS</td>       <th>  Adj. R-squared:    </th> <td>   0.498</td> \n",
       "</tr>\n",
       "<tr>\n",
       "  <th>Method:</th>             <td>Least Squares</td>  <th>  F-statistic:       </th> <td>   60.05</td> \n",
       "</tr>\n",
       "<tr>\n",
       "  <th>Date:</th>             <td>Thu, 06 Oct 2016</td> <th>  Prob (F-statistic):</th> <td>3.96e-83</td> \n",
       "</tr>\n",
       "<tr>\n",
       "  <th>Time:</th>                 <td>23:07:04</td>     <th>  Log-Likelihood:    </th> <td> -11559.</td> \n",
       "</tr>\n",
       "<tr>\n",
       "  <th>No. Observations:</th>      <td>   596</td>      <th>  AIC:               </th> <td>2.314e+04</td>\n",
       "</tr>\n",
       "<tr>\n",
       "  <th>Df Residuals:</th>          <td>   585</td>      <th>  BIC:               </th> <td>2.319e+04</td>\n",
       "</tr>\n",
       "<tr>\n",
       "  <th>Df Model:</th>              <td>    10</td>      <th>                     </th>     <td> </td>    \n",
       "</tr>\n",
       "<tr>\n",
       "  <th>Covariance Type:</th>      <td>nonrobust</td>    <th>                     </th>     <td> </td>    \n",
       "</tr>\n",
       "</table>\n",
       "<table class=\"simpletable\">\n",
       "<tr>\n",
       "          <td></td>            <th>coef</th>     <th>std err</th>      <th>t</th>      <th>P>|t|</th> <th>[95.0% Conf. Int.]</th> \n",
       "</tr>\n",
       "<tr>\n",
       "  <th>budget</th>           <td>    0.8269</td> <td>    0.078</td> <td>   10.662</td> <td> 0.000</td> <td>    0.675     0.979</td>\n",
       "</tr>\n",
       "<tr>\n",
       "  <th>runtime</th>          <td>  6.24e+05</td> <td> 1.77e+05</td> <td>    3.528</td> <td> 0.000</td> <td> 2.77e+05  9.71e+05</td>\n",
       "</tr>\n",
       "<tr>\n",
       "  <th>genre_action</th>     <td>-3.058e+07</td> <td> 1.08e+07</td> <td>   -2.821</td> <td> 0.005</td> <td>-5.19e+07 -9.29e+06</td>\n",
       "</tr>\n",
       "<tr>\n",
       "  <th>genre_romance</th>    <td>-5.234e+07</td> <td> 3.45e+07</td> <td>   -1.516</td> <td> 0.130</td> <td> -1.2e+08  1.55e+07</td>\n",
       "</tr>\n",
       "<tr>\n",
       "  <th>genre_fantasy</th>    <td>-1.732e+08</td> <td> 3.23e+07</td> <td>   -5.363</td> <td> 0.000</td> <td>-2.37e+08  -1.1e+08</td>\n",
       "</tr>\n",
       "<tr>\n",
       "  <th>R_rated</th>          <td>-1.139e+07</td> <td> 8.83e+06</td> <td>   -1.290</td> <td> 0.197</td> <td>-2.87e+07  5.95e+06</td>\n",
       "</tr>\n",
       "<tr>\n",
       "  <th>PG-13</th>            <td>-1.396e+07</td> <td> 8.55e+06</td> <td>   -1.632</td> <td> 0.103</td> <td>-3.08e+07  2.84e+06</td>\n",
       "</tr>\n",
       "<tr>\n",
       "  <th>action_interact</th>  <td>    0.3842</td> <td>    0.115</td> <td>    3.337</td> <td> 0.001</td> <td>    0.158     0.610</td>\n",
       "</tr>\n",
       "<tr>\n",
       "  <th>romance_interact</th> <td>    1.9286</td> <td>    0.577</td> <td>    3.344</td> <td> 0.001</td> <td>    0.796     3.061</td>\n",
       "</tr>\n",
       "<tr>\n",
       "  <th>fantasy_interact</th> <td>    1.9724</td> <td>    0.290</td> <td>    6.803</td> <td> 0.000</td> <td>    1.403     2.542</td>\n",
       "</tr>\n",
       "<tr>\n",
       "  <th>intercept</th>        <td>-2.991e+07</td> <td> 1.83e+07</td> <td>   -1.633</td> <td> 0.103</td> <td>-6.59e+07  6.06e+06</td>\n",
       "</tr>\n",
       "</table>\n",
       "<table class=\"simpletable\">\n",
       "<tr>\n",
       "  <th>Omnibus:</th>       <td>317.579</td> <th>  Durbin-Watson:     </th> <td>   1.459</td>\n",
       "</tr>\n",
       "<tr>\n",
       "  <th>Prob(Omnibus):</th> <td> 0.000</td>  <th>  Jarque-Bera (JB):  </th> <td>3863.437</td>\n",
       "</tr>\n",
       "<tr>\n",
       "  <th>Skew:</th>          <td> 2.075</td>  <th>  Prob(JB):          </th> <td>    0.00</td>\n",
       "</tr>\n",
       "<tr>\n",
       "  <th>Kurtosis:</th>      <td>14.762</td>  <th>  Cond. No.          </th> <td>1.15e+09</td>\n",
       "</tr>\n",
       "</table>"
      ],
      "text/plain": [
       "<class 'statsmodels.iolib.summary.Summary'>\n",
       "\"\"\"\n",
       "                            OLS Regression Results                            \n",
       "==============================================================================\n",
       "Dep. Variable:                    dtg   R-squared:                       0.507\n",
       "Model:                            OLS   Adj. R-squared:                  0.498\n",
       "Method:                 Least Squares   F-statistic:                     60.05\n",
       "Date:                Thu, 06 Oct 2016   Prob (F-statistic):           3.96e-83\n",
       "Time:                        23:07:04   Log-Likelihood:                -11559.\n",
       "No. Observations:                 596   AIC:                         2.314e+04\n",
       "Df Residuals:                     585   BIC:                         2.319e+04\n",
       "Df Model:                          10                                         \n",
       "Covariance Type:            nonrobust                                         \n",
       "====================================================================================\n",
       "                       coef    std err          t      P>|t|      [95.0% Conf. Int.]\n",
       "------------------------------------------------------------------------------------\n",
       "budget               0.8269      0.078     10.662      0.000         0.675     0.979\n",
       "runtime            6.24e+05   1.77e+05      3.528      0.000      2.77e+05  9.71e+05\n",
       "genre_action     -3.058e+07   1.08e+07     -2.821      0.005     -5.19e+07 -9.29e+06\n",
       "genre_romance    -5.234e+07   3.45e+07     -1.516      0.130      -1.2e+08  1.55e+07\n",
       "genre_fantasy    -1.732e+08   3.23e+07     -5.363      0.000     -2.37e+08  -1.1e+08\n",
       "R_rated          -1.139e+07   8.83e+06     -1.290      0.197     -2.87e+07  5.95e+06\n",
       "PG-13            -1.396e+07   8.55e+06     -1.632      0.103     -3.08e+07  2.84e+06\n",
       "action_interact      0.3842      0.115      3.337      0.001         0.158     0.610\n",
       "romance_interact     1.9286      0.577      3.344      0.001         0.796     3.061\n",
       "fantasy_interact     1.9724      0.290      6.803      0.000         1.403     2.542\n",
       "intercept        -2.991e+07   1.83e+07     -1.633      0.103     -6.59e+07  6.06e+06\n",
       "==============================================================================\n",
       "Omnibus:                      317.579   Durbin-Watson:                   1.459\n",
       "Prob(Omnibus):                  0.000   Jarque-Bera (JB):             3863.437\n",
       "Skew:                           2.075   Prob(JB):                         0.00\n",
       "Kurtosis:                      14.762   Cond. No.                     1.15e+09\n",
       "==============================================================================\n",
       "\n",
       "Warnings:\n",
       "[1] Standard Errors assume that the covariance matrix of the errors is correctly specified.\n",
       "[2] The condition number is large, 1.15e+09. This might indicate that there are\n",
       "strong multicollinearity or other numerical problems.\n",
       "\"\"\""
      ]
     },
     "execution_count": 124,
     "metadata": {},
     "output_type": "execute_result"
    }
   ],
   "source": [
    "X, y = df_noseasons.drop(['dtg'], axis=1),df_noseasons['dtg']\n",
    "model_final2 = sm.OLS(y, X)\n",
    "results = model_final2.fit()\n",
    "results.summary()"
   ]
  },
  {
   "cell_type": "markdown",
   "metadata": {},
   "source": [
    "And I want to get rid of MPAA ratings now, too."
   ]
  },
  {
   "cell_type": "code",
   "execution_count": 125,
   "metadata": {
    "collapsed": true
   },
   "outputs": [],
   "source": [
    "df_nompaa = df_noseasons.copy(deep=True)"
   ]
  },
  {
   "cell_type": "code",
   "execution_count": 126,
   "metadata": {
    "collapsed": true
   },
   "outputs": [],
   "source": [
    "del df_nompaa[\"R_rated\"], df_nompaa[\"PG-13\"]"
   ]
  },
  {
   "cell_type": "code",
   "execution_count": 127,
   "metadata": {
    "collapsed": false
   },
   "outputs": [
    {
     "data": {
      "text/html": [
       "<table class=\"simpletable\">\n",
       "<caption>OLS Regression Results</caption>\n",
       "<tr>\n",
       "  <th>Dep. Variable:</th>           <td>dtg</td>       <th>  R-squared:         </th> <td>   0.504</td> \n",
       "</tr>\n",
       "<tr>\n",
       "  <th>Model:</th>                   <td>OLS</td>       <th>  Adj. R-squared:    </th> <td>   0.498</td> \n",
       "</tr>\n",
       "<tr>\n",
       "  <th>Method:</th>             <td>Least Squares</td>  <th>  F-statistic:       </th> <td>   74.64</td> \n",
       "</tr>\n",
       "<tr>\n",
       "  <th>Date:</th>             <td>Thu, 06 Oct 2016</td> <th>  Prob (F-statistic):</th> <td>1.98e-84</td> \n",
       "</tr>\n",
       "<tr>\n",
       "  <th>Time:</th>                 <td>23:09:45</td>     <th>  Log-Likelihood:    </th> <td> -11560.</td> \n",
       "</tr>\n",
       "<tr>\n",
       "  <th>No. Observations:</th>      <td>   596</td>      <th>  AIC:               </th> <td>2.314e+04</td>\n",
       "</tr>\n",
       "<tr>\n",
       "  <th>Df Residuals:</th>          <td>   587</td>      <th>  BIC:               </th> <td>2.318e+04</td>\n",
       "</tr>\n",
       "<tr>\n",
       "  <th>Df Model:</th>              <td>     8</td>      <th>                     </th>     <td> </td>    \n",
       "</tr>\n",
       "<tr>\n",
       "  <th>Covariance Type:</th>      <td>nonrobust</td>    <th>                     </th>     <td> </td>    \n",
       "</tr>\n",
       "</table>\n",
       "<table class=\"simpletable\">\n",
       "<tr>\n",
       "          <td></td>            <th>coef</th>     <th>std err</th>      <th>t</th>      <th>P>|t|</th> <th>[95.0% Conf. Int.]</th> \n",
       "</tr>\n",
       "<tr>\n",
       "  <th>budget</th>           <td>    0.8639</td> <td>    0.071</td> <td>   12.111</td> <td> 0.000</td> <td>    0.724     1.004</td>\n",
       "</tr>\n",
       "<tr>\n",
       "  <th>runtime</th>          <td> 5.438e+05</td> <td> 1.69e+05</td> <td>    3.219</td> <td> 0.001</td> <td> 2.12e+05  8.76e+05</td>\n",
       "</tr>\n",
       "<tr>\n",
       "  <th>genre_action</th>     <td>-3.182e+07</td> <td> 1.08e+07</td> <td>   -2.950</td> <td> 0.003</td> <td> -5.3e+07 -1.06e+07</td>\n",
       "</tr>\n",
       "<tr>\n",
       "  <th>genre_romance</th>    <td>-5.247e+07</td> <td> 3.44e+07</td> <td>   -1.525</td> <td> 0.128</td> <td> -1.2e+08  1.51e+07</td>\n",
       "</tr>\n",
       "<tr>\n",
       "  <th>genre_fantasy</th>    <td>-1.733e+08</td> <td> 3.23e+07</td> <td>   -5.370</td> <td> 0.000</td> <td>-2.37e+08  -1.1e+08</td>\n",
       "</tr>\n",
       "<tr>\n",
       "  <th>action_interact</th>  <td>    0.3502</td> <td>    0.113</td> <td>    3.095</td> <td> 0.002</td> <td>    0.128     0.572</td>\n",
       "</tr>\n",
       "<tr>\n",
       "  <th>romance_interact</th> <td>    1.8756</td> <td>    0.576</td> <td>    3.258</td> <td> 0.001</td> <td>    0.745     3.006</td>\n",
       "</tr>\n",
       "<tr>\n",
       "  <th>fantasy_interact</th> <td>    1.9662</td> <td>    0.290</td> <td>    6.783</td> <td> 0.000</td> <td>    1.397     2.536</td>\n",
       "</tr>\n",
       "<tr>\n",
       "  <th>intercept</th>        <td>-3.271e+07</td> <td> 1.82e+07</td> <td>   -1.795</td> <td> 0.073</td> <td>-6.85e+07  3.08e+06</td>\n",
       "</tr>\n",
       "</table>\n",
       "<table class=\"simpletable\">\n",
       "<tr>\n",
       "  <th>Omnibus:</th>       <td>310.563</td> <th>  Durbin-Watson:     </th> <td>   1.454</td>\n",
       "</tr>\n",
       "<tr>\n",
       "  <th>Prob(Omnibus):</th> <td> 0.000</td>  <th>  Jarque-Bera (JB):  </th> <td>3608.465</td>\n",
       "</tr>\n",
       "<tr>\n",
       "  <th>Skew:</th>          <td> 2.030</td>  <th>  Prob(JB):          </th> <td>    0.00</td>\n",
       "</tr>\n",
       "<tr>\n",
       "  <th>Kurtosis:</th>      <td>14.350</td>  <th>  Cond. No.          </th> <td>1.15e+09</td>\n",
       "</tr>\n",
       "</table>"
      ],
      "text/plain": [
       "<class 'statsmodels.iolib.summary.Summary'>\n",
       "\"\"\"\n",
       "                            OLS Regression Results                            \n",
       "==============================================================================\n",
       "Dep. Variable:                    dtg   R-squared:                       0.504\n",
       "Model:                            OLS   Adj. R-squared:                  0.498\n",
       "Method:                 Least Squares   F-statistic:                     74.64\n",
       "Date:                Thu, 06 Oct 2016   Prob (F-statistic):           1.98e-84\n",
       "Time:                        23:09:45   Log-Likelihood:                -11560.\n",
       "No. Observations:                 596   AIC:                         2.314e+04\n",
       "Df Residuals:                     587   BIC:                         2.318e+04\n",
       "Df Model:                           8                                         \n",
       "Covariance Type:            nonrobust                                         \n",
       "====================================================================================\n",
       "                       coef    std err          t      P>|t|      [95.0% Conf. Int.]\n",
       "------------------------------------------------------------------------------------\n",
       "budget               0.8639      0.071     12.111      0.000         0.724     1.004\n",
       "runtime           5.438e+05   1.69e+05      3.219      0.001      2.12e+05  8.76e+05\n",
       "genre_action     -3.182e+07   1.08e+07     -2.950      0.003      -5.3e+07 -1.06e+07\n",
       "genre_romance    -5.247e+07   3.44e+07     -1.525      0.128      -1.2e+08  1.51e+07\n",
       "genre_fantasy    -1.733e+08   3.23e+07     -5.370      0.000     -2.37e+08  -1.1e+08\n",
       "action_interact      0.3502      0.113      3.095      0.002         0.128     0.572\n",
       "romance_interact     1.8756      0.576      3.258      0.001         0.745     3.006\n",
       "fantasy_interact     1.9662      0.290      6.783      0.000         1.397     2.536\n",
       "intercept        -3.271e+07   1.82e+07     -1.795      0.073     -6.85e+07  3.08e+06\n",
       "==============================================================================\n",
       "Omnibus:                      310.563   Durbin-Watson:                   1.454\n",
       "Prob(Omnibus):                  0.000   Jarque-Bera (JB):             3608.465\n",
       "Skew:                           2.030   Prob(JB):                         0.00\n",
       "Kurtosis:                      14.350   Cond. No.                     1.15e+09\n",
       "==============================================================================\n",
       "\n",
       "Warnings:\n",
       "[1] Standard Errors assume that the covariance matrix of the errors is correctly specified.\n",
       "[2] The condition number is large, 1.15e+09. This might indicate that there are\n",
       "strong multicollinearity or other numerical problems.\n",
       "\"\"\""
      ]
     },
     "execution_count": 127,
     "metadata": {},
     "output_type": "execute_result"
    }
   ],
   "source": [
    "X, y = df_nompaa.drop(['dtg'], axis=1),df_nompaa['dtg']\n",
    "model_final3 = sm.OLS(y, X)\n",
    "results = model_final3.fit()\n",
    "results.summary()"
   ]
  },
  {
   "cell_type": "markdown",
   "metadata": {},
   "source": [
    "And without romance?"
   ]
  },
  {
   "cell_type": "code",
   "execution_count": 128,
   "metadata": {
    "collapsed": true
   },
   "outputs": [],
   "source": [
    "df_noromance = df_nompaa.copy(deep=True)"
   ]
  },
  {
   "cell_type": "code",
   "execution_count": 129,
   "metadata": {
    "collapsed": true
   },
   "outputs": [],
   "source": [
    "del df_noromance[\"genre_romance\"]"
   ]
  },
  {
   "cell_type": "code",
   "execution_count": 130,
   "metadata": {
    "collapsed": false
   },
   "outputs": [
    {
     "data": {
      "text/html": [
       "<table class=\"simpletable\">\n",
       "<caption>OLS Regression Results</caption>\n",
       "<tr>\n",
       "  <th>Dep. Variable:</th>           <td>dtg</td>       <th>  R-squared:         </th> <td>   0.502</td> \n",
       "</tr>\n",
       "<tr>\n",
       "  <th>Model:</th>                   <td>OLS</td>       <th>  Adj. R-squared:    </th> <td>   0.496</td> \n",
       "</tr>\n",
       "<tr>\n",
       "  <th>Method:</th>             <td>Least Squares</td>  <th>  F-statistic:       </th> <td>   84.78</td> \n",
       "</tr>\n",
       "<tr>\n",
       "  <th>Date:</th>             <td>Thu, 06 Oct 2016</td> <th>  Prob (F-statistic):</th> <td>6.53e-85</td> \n",
       "</tr>\n",
       "<tr>\n",
       "  <th>Time:</th>                 <td>23:11:22</td>     <th>  Log-Likelihood:    </th> <td> -11562.</td> \n",
       "</tr>\n",
       "<tr>\n",
       "  <th>No. Observations:</th>      <td>   596</td>      <th>  AIC:               </th> <td>2.314e+04</td>\n",
       "</tr>\n",
       "<tr>\n",
       "  <th>Df Residuals:</th>          <td>   588</td>      <th>  BIC:               </th> <td>2.317e+04</td>\n",
       "</tr>\n",
       "<tr>\n",
       "  <th>Df Model:</th>              <td>     7</td>      <th>                     </th>     <td> </td>    \n",
       "</tr>\n",
       "<tr>\n",
       "  <th>Covariance Type:</th>      <td>nonrobust</td>    <th>                     </th>     <td> </td>    \n",
       "</tr>\n",
       "</table>\n",
       "<table class=\"simpletable\">\n",
       "<tr>\n",
       "          <td></td>            <th>coef</th>     <th>std err</th>      <th>t</th>      <th>P>|t|</th> <th>[95.0% Conf. Int.]</th> \n",
       "</tr>\n",
       "<tr>\n",
       "  <th>budget</th>           <td>    0.8761</td> <td>    0.071</td> <td>   12.344</td> <td> 0.000</td> <td>    0.737     1.015</td>\n",
       "</tr>\n",
       "<tr>\n",
       "  <th>runtime</th>          <td> 5.077e+05</td> <td> 1.67e+05</td> <td>    3.032</td> <td> 0.003</td> <td> 1.79e+05  8.37e+05</td>\n",
       "</tr>\n",
       "<tr>\n",
       "  <th>genre_action</th>     <td>-3.123e+07</td> <td> 1.08e+07</td> <td>   -2.894</td> <td> 0.004</td> <td>-5.24e+07    -1e+07</td>\n",
       "</tr>\n",
       "<tr>\n",
       "  <th>genre_fantasy</th>    <td>-1.726e+08</td> <td> 3.23e+07</td> <td>   -5.342</td> <td> 0.000</td> <td>-2.36e+08 -1.09e+08</td>\n",
       "</tr>\n",
       "<tr>\n",
       "  <th>action_interact</th>  <td>    0.3443</td> <td>    0.113</td> <td>    3.041</td> <td> 0.002</td> <td>    0.122     0.567</td>\n",
       "</tr>\n",
       "<tr>\n",
       "  <th>romance_interact</th> <td>    1.1996</td> <td>    0.368</td> <td>    3.260</td> <td> 0.001</td> <td>    0.477     1.922</td>\n",
       "</tr>\n",
       "<tr>\n",
       "  <th>fantasy_interact</th> <td>    1.9564</td> <td>    0.290</td> <td>    6.743</td> <td> 0.000</td> <td>    1.387     2.526</td>\n",
       "</tr>\n",
       "<tr>\n",
       "  <th>intercept</th>        <td>-2.974e+07</td> <td> 1.81e+07</td> <td>   -1.640</td> <td> 0.102</td> <td>-6.54e+07  5.88e+06</td>\n",
       "</tr>\n",
       "</table>\n",
       "<table class=\"simpletable\">\n",
       "<tr>\n",
       "  <th>Omnibus:</th>       <td>308.439</td> <th>  Durbin-Watson:     </th> <td>   1.468</td>\n",
       "</tr>\n",
       "<tr>\n",
       "  <th>Prob(Omnibus):</th> <td> 0.000</td>  <th>  Jarque-Bera (JB):  </th> <td>3551.927</td>\n",
       "</tr>\n",
       "<tr>\n",
       "  <th>Skew:</th>          <td> 2.015</td>  <th>  Prob(JB):          </th> <td>    0.00</td>\n",
       "</tr>\n",
       "<tr>\n",
       "  <th>Kurtosis:</th>      <td>14.260</td>  <th>  Cond. No.          </th> <td>1.07e+09</td>\n",
       "</tr>\n",
       "</table>"
      ],
      "text/plain": [
       "<class 'statsmodels.iolib.summary.Summary'>\n",
       "\"\"\"\n",
       "                            OLS Regression Results                            \n",
       "==============================================================================\n",
       "Dep. Variable:                    dtg   R-squared:                       0.502\n",
       "Model:                            OLS   Adj. R-squared:                  0.496\n",
       "Method:                 Least Squares   F-statistic:                     84.78\n",
       "Date:                Thu, 06 Oct 2016   Prob (F-statistic):           6.53e-85\n",
       "Time:                        23:11:22   Log-Likelihood:                -11562.\n",
       "No. Observations:                 596   AIC:                         2.314e+04\n",
       "Df Residuals:                     588   BIC:                         2.317e+04\n",
       "Df Model:                           7                                         \n",
       "Covariance Type:            nonrobust                                         \n",
       "====================================================================================\n",
       "                       coef    std err          t      P>|t|      [95.0% Conf. Int.]\n",
       "------------------------------------------------------------------------------------\n",
       "budget               0.8761      0.071     12.344      0.000         0.737     1.015\n",
       "runtime           5.077e+05   1.67e+05      3.032      0.003      1.79e+05  8.37e+05\n",
       "genre_action     -3.123e+07   1.08e+07     -2.894      0.004     -5.24e+07    -1e+07\n",
       "genre_fantasy    -1.726e+08   3.23e+07     -5.342      0.000     -2.36e+08 -1.09e+08\n",
       "action_interact      0.3443      0.113      3.041      0.002         0.122     0.567\n",
       "romance_interact     1.1996      0.368      3.260      0.001         0.477     1.922\n",
       "fantasy_interact     1.9564      0.290      6.743      0.000         1.387     2.526\n",
       "intercept        -2.974e+07   1.81e+07     -1.640      0.102     -6.54e+07  5.88e+06\n",
       "==============================================================================\n",
       "Omnibus:                      308.439   Durbin-Watson:                   1.468\n",
       "Prob(Omnibus):                  0.000   Jarque-Bera (JB):             3551.927\n",
       "Skew:                           2.015   Prob(JB):                         0.00\n",
       "Kurtosis:                      14.260   Cond. No.                     1.07e+09\n",
       "==============================================================================\n",
       "\n",
       "Warnings:\n",
       "[1] Standard Errors assume that the covariance matrix of the errors is correctly specified.\n",
       "[2] The condition number is large, 1.07e+09. This might indicate that there are\n",
       "strong multicollinearity or other numerical problems.\n",
       "\"\"\""
      ]
     },
     "execution_count": 130,
     "metadata": {},
     "output_type": "execute_result"
    }
   ],
   "source": [
    "X, y = df_noromance.drop(['dtg'], axis=1),df_noromance['dtg']\n",
    "model_final4 = sm.OLS(y, X)\n",
    "results = model_final4.fit()\n",
    "results.summary()"
   ]
  },
  {
   "cell_type": "markdown",
   "metadata": {},
   "source": [
    "Ah yes, we're done here. Let's see it in Scikit-learn."
   ]
  },
  {
   "cell_type": "code",
   "execution_count": 131,
   "metadata": {
    "collapsed": false
   },
   "outputs": [
    {
     "data": {
      "text/html": [
       "<div>\n",
       "<table border=\"1\" class=\"dataframe\">\n",
       "  <thead>\n",
       "    <tr style=\"text-align: right;\">\n",
       "      <th></th>\n",
       "      <th>budget</th>\n",
       "      <th>runtime</th>\n",
       "      <th>genre_action</th>\n",
       "      <th>genre_fantasy</th>\n",
       "      <th>action_interact</th>\n",
       "      <th>romance_interact</th>\n",
       "      <th>fantasy_interact</th>\n",
       "      <th>intercept</th>\n",
       "    </tr>\n",
       "  </thead>\n",
       "  <tbody>\n",
       "    <tr>\n",
       "      <th>count</th>\n",
       "      <td>4.170000e+02</td>\n",
       "      <td>417.000000</td>\n",
       "      <td>417.000000</td>\n",
       "      <td>417.000000</td>\n",
       "      <td>4.170000e+02</td>\n",
       "      <td>4.170000e+02</td>\n",
       "      <td>4.170000e+02</td>\n",
       "      <td>417.0</td>\n",
       "    </tr>\n",
       "    <tr>\n",
       "      <th>mean</th>\n",
       "      <td>5.491535e+07</td>\n",
       "      <td>110.501199</td>\n",
       "      <td>0.230216</td>\n",
       "      <td>0.028777</td>\n",
       "      <td>2.023717e+07</td>\n",
       "      <td>7.218225e+05</td>\n",
       "      <td>2.769784e+06</td>\n",
       "      <td>1.0</td>\n",
       "    </tr>\n",
       "    <tr>\n",
       "      <th>std</th>\n",
       "      <td>5.495549e+07</td>\n",
       "      <td>17.689241</td>\n",
       "      <td>0.421477</td>\n",
       "      <td>0.167380</td>\n",
       "      <td>4.738969e+07</td>\n",
       "      <td>6.819749e+06</td>\n",
       "      <td>1.940732e+07</td>\n",
       "      <td>0.0</td>\n",
       "    </tr>\n",
       "    <tr>\n",
       "      <th>min</th>\n",
       "      <td>1.000000e+05</td>\n",
       "      <td>81.000000</td>\n",
       "      <td>0.000000</td>\n",
       "      <td>0.000000</td>\n",
       "      <td>0.000000e+00</td>\n",
       "      <td>0.000000e+00</td>\n",
       "      <td>0.000000e+00</td>\n",
       "      <td>1.0</td>\n",
       "    </tr>\n",
       "    <tr>\n",
       "      <th>25%</th>\n",
       "      <td>1.700000e+07</td>\n",
       "      <td>97.000000</td>\n",
       "      <td>0.000000</td>\n",
       "      <td>0.000000</td>\n",
       "      <td>0.000000e+00</td>\n",
       "      <td>0.000000e+00</td>\n",
       "      <td>0.000000e+00</td>\n",
       "      <td>1.0</td>\n",
       "    </tr>\n",
       "    <tr>\n",
       "      <th>50%</th>\n",
       "      <td>3.500000e+07</td>\n",
       "      <td>109.000000</td>\n",
       "      <td>0.000000</td>\n",
       "      <td>0.000000</td>\n",
       "      <td>0.000000e+00</td>\n",
       "      <td>0.000000e+00</td>\n",
       "      <td>0.000000e+00</td>\n",
       "      <td>1.0</td>\n",
       "    </tr>\n",
       "    <tr>\n",
       "      <th>75%</th>\n",
       "      <td>7.000000e+07</td>\n",
       "      <td>120.000000</td>\n",
       "      <td>0.000000</td>\n",
       "      <td>0.000000</td>\n",
       "      <td>0.000000e+00</td>\n",
       "      <td>0.000000e+00</td>\n",
       "      <td>0.000000e+00</td>\n",
       "      <td>1.0</td>\n",
       "    </tr>\n",
       "    <tr>\n",
       "      <th>max</th>\n",
       "      <td>2.500000e+08</td>\n",
       "      <td>194.000000</td>\n",
       "      <td>1.000000</td>\n",
       "      <td>1.000000</td>\n",
       "      <td>2.500000e+08</td>\n",
       "      <td>1.200000e+08</td>\n",
       "      <td>2.450000e+08</td>\n",
       "      <td>1.0</td>\n",
       "    </tr>\n",
       "  </tbody>\n",
       "</table>\n",
       "</div>"
      ],
      "text/plain": [
       "             budget     runtime  genre_action  genre_fantasy  action_interact  \\\n",
       "count  4.170000e+02  417.000000    417.000000     417.000000     4.170000e+02   \n",
       "mean   5.491535e+07  110.501199      0.230216       0.028777     2.023717e+07   \n",
       "std    5.495549e+07   17.689241      0.421477       0.167380     4.738969e+07   \n",
       "min    1.000000e+05   81.000000      0.000000       0.000000     0.000000e+00   \n",
       "25%    1.700000e+07   97.000000      0.000000       0.000000     0.000000e+00   \n",
       "50%    3.500000e+07  109.000000      0.000000       0.000000     0.000000e+00   \n",
       "75%    7.000000e+07  120.000000      0.000000       0.000000     0.000000e+00   \n",
       "max    2.500000e+08  194.000000      1.000000       1.000000     2.500000e+08   \n",
       "\n",
       "       romance_interact  fantasy_interact  intercept  \n",
       "count      4.170000e+02      4.170000e+02      417.0  \n",
       "mean       7.218225e+05      2.769784e+06        1.0  \n",
       "std        6.819749e+06      1.940732e+07        0.0  \n",
       "min        0.000000e+00      0.000000e+00        1.0  \n",
       "25%        0.000000e+00      0.000000e+00        1.0  \n",
       "50%        0.000000e+00      0.000000e+00        1.0  \n",
       "75%        0.000000e+00      0.000000e+00        1.0  \n",
       "max        1.200000e+08      2.450000e+08        1.0  "
      ]
     },
     "execution_count": 131,
     "metadata": {},
     "output_type": "execute_result"
    }
   ],
   "source": [
    "Xtrain, Xtest, ytrain, ytest = cross_validation.train_test_split(X, y, test_size=0.3)\n",
    "Xtrain.describe()"
   ]
  },
  {
   "cell_type": "code",
   "execution_count": 132,
   "metadata": {
    "collapsed": true
   },
   "outputs": [],
   "source": [
    "models = {}\n",
    "models['lin_reg'] = linear_model.LinearRegression()\n",
    "models['ridge'] = linear_model.Ridge()\n",
    "models['lasso'] = linear_model.Lasso(alpha=.51)\n",
    "models['elasticnet'] = linear_model.ElasticNet()"
   ]
  },
  {
   "cell_type": "code",
   "execution_count": 133,
   "metadata": {
    "collapsed": false
   },
   "outputs": [
    {
     "name": "stdout",
     "output_type": "stream",
     "text": [
      "Model: ridge\n",
      "Score: 0.394054142119\n",
      "('genre_fantasy', -132746961.49481551)\n",
      "('genre_action', -33786522.338569209)\n",
      "('runtime', 446580.57463981857)\n",
      "('fantasy_interact', 1.9878859444358521)\n",
      "('romance_interact', 1.1254800538813814)\n",
      "('budget', 0.77129764710999293)\n",
      "('action_interact', 0.54286216747945981)\n",
      "('intercept', 0.0)\n",
      "\n",
      "Model: elasticnet\n",
      "Score: 0.380083608638\n",
      "('genre_action', -3609177.1269089384)\n",
      "('genre_fantasy', -2786861.0832726387)\n",
      "('runtime', 509820.23919664143)\n",
      "('romance_interact', 1.1474248109440193)\n",
      "('fantasy_interact', 1.0279119167790711)\n",
      "('budget', 0.83956261428754819)\n",
      "('action_interact', 0.28936827481556754)\n",
      "('intercept', 0.0)\n",
      "\n",
      "Model: lasso\n",
      "Score: 0.395534879362\n",
      "('genre_fantasy', -170099549.13785809)\n",
      "('genre_action', -35910506.910635322)\n",
      "('runtime', 437969.7495635181)\n",
      "('fantasy_interact', 2.2607537892337293)\n",
      "('romance_interact', 1.1222722429306928)\n",
      "('budget', 0.76151892816297451)\n",
      "('action_interact', 0.56235356425125116)\n",
      "('intercept', 0.0)\n",
      "\n",
      "Model: lin_reg\n",
      "Score: 0.395534879877\n",
      "('genre_fantasy', -170099609.81026441)\n",
      "('genre_action', -35910516.33376123)\n",
      "('runtime', 437969.72863760428)\n",
      "('fantasy_interact', 2.2607542324884307)\n",
      "('romance_interact', 1.1222722393472908)\n",
      "('budget', 0.76151890423442314)\n",
      "('action_interact', 0.56235364282824807)\n",
      "('intercept', 0.0)\n",
      "\n"
     ]
    }
   ],
   "source": [
    "for name,model in models.items():\n",
    "    model.fit(Xtrain,ytrain)\n",
    "    print('Model: '+name)\n",
    "    print(\"Score: \" + str(model.score(Xtest,ytest)))\n",
    "    sorted_features = sorted(zip(Xtrain.columns,model.coef_), key=lambda tup: abs(tup[1]), reverse=True)\n",
    "    for feature in sorted_features:\n",
    "        print(feature)\n",
    "        \n",
    "    print(\"\")"
   ]
  },
  {
   "cell_type": "markdown",
   "metadata": {},
   "source": [
    "# Conclusions"
   ]
  },
  {
   "cell_type": "markdown",
   "metadata": {},
   "source": [
    "If we had a median budget, what's our best release season?"
   ]
  },
  {
   "cell_type": "code",
   "execution_count": 121,
   "metadata": {
    "collapsed": false
   },
   "outputs": [
    {
     "data": {
      "text/plain": [
       "35000000.0"
      ]
     },
     "execution_count": 121,
     "metadata": {},
     "output_type": "execute_result"
    }
   ],
   "source": [
    "df_final.budget.median()"
   ]
  },
  {
   "cell_type": "code",
   "execution_count": null,
   "metadata": {
    "collapsed": true
   },
   "outputs": [],
   "source": []
  },
  {
   "cell_type": "markdown",
   "metadata": {},
   "source": [
    "# Misc stuff below"
   ]
  },
  {
   "cell_type": "code",
   "execution_count": 50,
   "metadata": {
    "collapsed": false
   },
   "outputs": [
    {
     "data": {
      "text/plain": [
       "381    729.0\n",
       "Name: runtime, dtype: float64"
      ]
     },
     "execution_count": 50,
     "metadata": {},
     "output_type": "execute_result"
    }
   ],
   "source": [
    "#to do:\n",
    "\n",
    "#hist of release date -- clustering around holidays? gives justification for var choices re: season or issummer\n",
    "#logos from top movies in each season. ANOVA by season\n",
    "#linear graph with CI\n",
    "#slide that shows method as snowball sampling-- scraped 5 years yields x, then drop nans, outliers gives y etc\n",
    "\n",
    "#inspect outliers\n",
    "col = df['runtime']\n",
    "col[np.abs(col) > 700]"
   ]
  },
  {
   "cell_type": "code",
   "execution_count": 108,
   "metadata": {
    "collapsed": false
   },
   "outputs": [
    {
     "data": {
      "text/plain": [
       "<matplotlib.collections.PathCollection at 0x11ff49198>"
      ]
     },
     "execution_count": 108,
     "metadata": {},
     "output_type": "execute_result"
    },
    {
     "data": {
      "image/png": "[encoded data removed]",
      "text/plain": [
       "<matplotlib.figure.Figure at 0x11feeb160>"
      ]
     },
     "metadata": {},
     "output_type": "display_data"
    }
   ],
   "source": [
    "plt.scatter(df_no_missing.budget,df_no_missing.dtg, alpha=.3)"
   ]
  },
  {
   "cell_type": "code",
   "execution_count": 61,
   "metadata": {
    "collapsed": false
   },
   "outputs": [
    {
     "name": "stderr",
     "output_type": "stream",
     "text": [
      "/Users/ANTARES/anaconda2/envs/snakes/lib/python3.5/site-packages/IPython/core/interactiveshell.py:2881: FutureWarning: \n",
      "mpl_style had been deprecated and will be removed in a future version.\n",
      "Use `matplotlib.pyplot.style.use` instead.\n",
      "\n",
      "  exec(code_obj, self.user_global_ns, self.user_ns)\n"
     ]
    },
    {
     "data": {
      "text/plain": [
       "array([[<matplotlib.axes._subplots.AxesSubplot object at 0x119466550>,\n",
       "        <matplotlib.axes._subplots.AxesSubplot object at 0x11a0feb38>]], dtype=object)"
      ]
     },
     "execution_count": 61,
     "metadata": {},
     "output_type": "execute_result"
    },
    {
     "data": {
      "image/png": "[encoded data removed]",
      "text/plain": [
       "<matplotlib.figure.Figure at 0x1190bbeb8>"
      ]
     },
     "metadata": {},
     "output_type": "display_data"
    }
   ],
   "source": [
    "pd.options.display.mpl_style = 'default'\n",
    "df_clean.hist()"
   ]
  },
  {
   "cell_type": "code",
   "execution_count": 62,
   "metadata": {
    "collapsed": false
   },
   "outputs": [
    {
     "data": {
      "text/plain": [
       "mpaa\n",
       "G                [[Axes(0.125,0.125;0.336957x0.775), Axes(0.563...\n",
       "NC-17            [[Axes(0.125,0.125;0.336957x0.775), Axes(0.563...\n",
       "Not Yet Rated    [[Axes(0.125,0.125;0.336957x0.775), Axes(0.563...\n",
       "PG               [[Axes(0.125,0.125;0.336957x0.775), Axes(0.563...\n",
       "PG-13            [[Axes(0.125,0.125;0.336957x0.775), Axes(0.563...\n",
       "R                [[Axes(0.125,0.125;0.336957x0.775), Axes(0.563...\n",
       "Unrated          [[Axes(0.125,0.125;0.336957x0.775), Axes(0.563...\n",
       "dtype: object"
      ]
     },
     "execution_count": 62,
     "metadata": {},
     "output_type": "execute_result"
    },
    {
     "data": {
      "image/png": "[encoded data removed]",
      "text/plain": [
       "<matplotlib.figure.Figure at 0x11a31a7b8>"
      ]
     },
     "metadata": {},
     "output_type": "display_data"
    },
    {
     "data": {
      "image/png": "[encoded data removed]",
      "text/plain": [
       "<matplotlib.figure.Figure at 0x11a4dc668>"
      ]
     },
     "metadata": {},
     "output_type": "display_data"
    },
    {
     "data": {
      "image/png": "[encoded data removed]",
      "text/plain": [
       "<matplotlib.figure.Figure at 0x11a59ac50>"
      ]
     },
     "metadata": {},
     "output_type": "display_data"
    },
    {
     "data": {
      "image/png": "[encoded data removed]",
      "text/plain": [
       "<matplotlib.figure.Figure at 0x11a66fe10>"
      ]
     },
     "metadata": {},
     "output_type": "display_data"
    },
    {
     "data": {
      "image/png": "[encoded data removed]",
      "text/plain": [
       "<matplotlib.figure.Figure at 0x11a879a58>"
      ]
     },
     "metadata": {},
     "output_type": "display_data"
    },
    {
     "data": {
      "image/png": "[encoded data removed]",
      "text/plain": [
       "<matplotlib.figure.Figure at 0x11aa566d8>"
      ]
     },
     "metadata": {},
     "output_type": "display_data"
    },
    {
     "data": {
      "image/png": "[encoded data removed]",
      "text/plain": [
       "<matplotlib.figure.Figure at 0x11aae4860>"
      ]
     },
     "metadata": {},
     "output_type": "display_data"
    }
   ],
   "source": [
    "df_clean.groupby('mpaa').hist()"
   ]
  },
  {
   "cell_type": "code",
   "execution_count": 63,
   "metadata": {
    "collapsed": false
   },
   "outputs": [],
   "source": [
    "df_clean['date'] = pd.to_datetime(df.releasedate, format='%Y/%m/%d %H:%M:%S')"
   ]
  },
  {
   "cell_type": "code",
   "execution_count": 64,
   "metadata": {
    "collapsed": false
   },
   "outputs": [
    {
     "data": {
      "text/plain": [
       "Index(['runtime', 'dtg', 'title', 'mpaa', 'releasedate', 'date'], dtype='object')"
      ]
     },
     "execution_count": 64,
     "metadata": {},
     "output_type": "execute_result"
    }
   ],
   "source": [
    "df_clean.columns"
   ]
  },
  {
   "cell_type": "code",
   "execution_count": 65,
   "metadata": {
    "collapsed": false
   },
   "outputs": [
    {
     "data": {
      "text/plain": [
       "True"
      ]
     },
     "execution_count": 65,
     "metadata": {},
     "output_type": "execute_result"
    }
   ],
   "source": [
    "# df_clean.date[1].month in {6}"
   ]
  },
  {
   "cell_type": "code",
   "execution_count": 71,
   "metadata": {
    "collapsed": false
   },
   "outputs": [
    {
     "name": "stderr",
     "output_type": "stream",
     "text": [
      "INFO:bokeh.core.state:Session output file 'movies.html' already exists, will be overwritten.\n"
     ]
    }
   ],
   "source": [
    "from bokeh.plotting import figure, show, output_file\n",
    "\n",
    "colormap = {'R': 'red', 'PG-13': 'green', 'PG': 'blue'}\n",
    "colors = [colormap[x] for x in df['mpaa']]\n",
    "\n",
    "p = figure(title = \"Worldwide Movie Releases\")\n",
    "p.xaxis.axis_label = 'Production Budget'\n",
    "p.yaxis.axis_label = 'Domestic Total Gross'\n",
    "\n",
    "p.circle(df[\"budget\"], df[\"dtg\"],\n",
    "         color=colors, fill_alpha=0.2, size=10)\n",
    "\n",
    "output_file(\"movies.html\", title=\"luther example\")\n",
    "\n",
    "show(p)"
   ]
  },
  {
   "cell_type": "code",
   "execution_count": null,
   "metadata": {
    "collapsed": true
   },
   "outputs": [],
   "source": []
  }
 ],
 "metadata": {
  "anaconda-cloud": {},
  "kernelspec": {
   "display_name": "Python [conda env:snakes]",
   "language": "python",
   "name": "conda-env-snakes-py"
  },
  "language_info": {
   "codemirror_mode": {
    "name": "ipython",
    "version": 3
   },
   "file_extension": ".py",
   "mimetype": "text/x-python",
   "name": "python",
   "nbconvert_exporter": "python",
   "pygments_lexer": "ipython3",
   "version": "3.5.2"
  }
 },
 "nbformat": 4,
 "nbformat_minor": 1
}
