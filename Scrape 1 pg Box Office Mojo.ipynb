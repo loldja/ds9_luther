{
 "cells": [
  {
   "cell_type": "code",
   "execution_count": 44,
   "metadata": {
    "collapsed": true
   },
   "outputs": [],
   "source": [
    "import pandas as pd\n",
    "import numpy as np\n",
    "import matplotlib.pyplot as plt\n",
    "\n",
    "%matplotlib inline"
   ]
  },
  {
   "cell_type": "code",
   "execution_count": 45,
   "metadata": {
    "collapsed": true
   },
   "outputs": [],
   "source": [
    "from bs4 import BeautifulSoup"
   ]
  },
  {
   "cell_type": "code",
   "execution_count": 46,
   "metadata": {
    "collapsed": true
   },
   "outputs": [],
   "source": [
    "import requests"
   ]
  },
  {
   "cell_type": "code",
   "execution_count": 21,
   "metadata": {
    "collapsed": true
   },
   "outputs": [],
   "source": [
    "url = 'http://www.boxofficemojo.com/movies/?id=starwars7.htm'\n",
    "response = requests.get(url)"
   ]
  },
  {
   "cell_type": "code",
   "execution_count": 47,
   "metadata": {
    "collapsed": true
   },
   "outputs": [],
   "source": [
    "import re"
   ]
  },
  {
   "cell_type": "code",
   "execution_count": 4,
   "metadata": {
    "collapsed": true
   },
   "outputs": [],
   "source": [
    "# import requests\n",
    "# url = 'http://www.boxofficemojo.com/movies/?page=main&id=starwars7.htm'\n",
    "# response = requests.get(url"
   ]
  },
  {
   "cell_type": "code",
   "execution_count": 22,
   "metadata": {
    "collapsed": false
   },
   "outputs": [
    {
     "data": {
      "text/plain": [
       "<Response [200]>"
      ]
     },
     "execution_count": 22,
     "metadata": {},
     "output_type": "execute_result"
    }
   ],
   "source": [
    "response"
   ]
  },
  {
   "cell_type": "code",
   "execution_count": 23,
   "metadata": {
    "collapsed": false
   },
   "outputs": [],
   "source": [
    "page = response.text\n",
    "soup = BeautifulSoup(page, \"lxml\")"
   ]
  },
  {
   "cell_type": "code",
   "execution_count": 24,
   "metadata": {
    "collapsed": true
   },
   "outputs": [],
   "source": [
    "raw_runtime = get_movie_value(soup,'Runtime')"
   ]
  },
  {
   "cell_type": "code",
   "execution_count": 25,
   "metadata": {
    "collapsed": false
   },
   "outputs": [
    {
     "data": {
      "text/plain": [
       "'2 hrs. 16 min.'"
      ]
     },
     "execution_count": 25,
     "metadata": {},
     "output_type": "execute_result"
    }
   ],
   "source": [
    "raw_runtime"
   ]
  },
  {
   "cell_type": "code",
   "execution_count": 35,
   "metadata": {
    "collapsed": true
   },
   "outputs": [],
   "source": [
    "genre = get_movie_value(soup,'Genre: ')"
   ]
  },
  {
   "cell_type": "code",
   "execution_count": 36,
   "metadata": {
    "collapsed": false
   },
   "outputs": [
    {
     "data": {
      "text/plain": [
       "'Sci-Fi Fantasy'"
      ]
     },
     "execution_count": 36,
     "metadata": {},
     "output_type": "execute_result"
    }
   ],
   "source": [
    "genre"
   ]
  },
  {
   "cell_type": "code",
   "execution_count": 51,
   "metadata": {
    "collapsed": false
   },
   "outputs": [],
   "source": [
    "# df2 = pd.read_html('http://www.boxofficemojo.com/yearly/chart/?view2=worldwide&yr=2015&p=.htm')"
   ]
  },
  {
   "cell_type": "code",
   "execution_count": 52,
   "metadata": {
    "collapsed": false
   },
   "outputs": [],
   "source": [
    "# df3 = pd.DataFrame(df2[2])"
   ]
  },
  {
   "cell_type": "code",
   "execution_count": 53,
   "metadata": {
    "collapsed": false
   },
   "outputs": [
    {
     "data": {
      "text/html": [
       "<div>\n",
       "<table border=\"1\" class=\"dataframe\">\n",
       "  <thead>\n",
       "    <tr style=\"text-align: right;\">\n",
       "      <th></th>\n",
       "      <th>0</th>\n",
       "      <th>1</th>\n",
       "      <th>2</th>\n",
       "      <th>3</th>\n",
       "      <th>4</th>\n",
       "      <th>5</th>\n",
       "      <th>6</th>\n",
       "      <th>7</th>\n",
       "    </tr>\n",
       "  </thead>\n",
       "  <tbody>\n",
       "    <tr>\n",
       "      <th>0</th>\n",
       "      <td>Rank</td>\n",
       "      <td>Title (click to view)</td>\n",
       "      <td>Studio* function MojoDrop1() { var number = do...</td>\n",
       "      <td>FilterA24 BG BST BV CE EC Focus Fox FoxS Free ...</td>\n",
       "      <td>Worldwide</td>\n",
       "      <td>Domestic / %</td>\n",
       "      <td>Overseas / %</td>\n",
       "      <td>NaN</td>\n",
       "    </tr>\n",
       "    <tr>\n",
       "      <th>1</th>\n",
       "      <td>FilterA24 BG BST BV CE EC Focus Fox FoxS Free ...</td>\n",
       "      <td>NaN</td>\n",
       "      <td>NaN</td>\n",
       "      <td>NaN</td>\n",
       "      <td>NaN</td>\n",
       "      <td>NaN</td>\n",
       "      <td>NaN</td>\n",
       "      <td>NaN</td>\n",
       "    </tr>\n",
       "    <tr>\n",
       "      <th>2</th>\n",
       "      <td>1</td>\n",
       "      <td>Star Wars: The Force Awakens</td>\n",
       "      <td>BV</td>\n",
       "      <td>$2,068.2</td>\n",
       "      <td>$936.7</td>\n",
       "      <td>45.3%</td>\n",
       "      <td>$1,131.6</td>\n",
       "      <td>54.7%</td>\n",
       "    </tr>\n",
       "    <tr>\n",
       "      <th>3</th>\n",
       "      <td>2</td>\n",
       "      <td>Jurassic World</td>\n",
       "      <td>Uni.</td>\n",
       "      <td>$1,670.4</td>\n",
       "      <td>$652.3</td>\n",
       "      <td>39.0%</td>\n",
       "      <td>$1,018.1</td>\n",
       "      <td>61.0%</td>\n",
       "    </tr>\n",
       "    <tr>\n",
       "      <th>4</th>\n",
       "      <td>3</td>\n",
       "      <td>Furious 7</td>\n",
       "      <td>Uni.</td>\n",
       "      <td>$1,516.0</td>\n",
       "      <td>$353.0</td>\n",
       "      <td>23.3%</td>\n",
       "      <td>$1,163.0</td>\n",
       "      <td>76.7%</td>\n",
       "    </tr>\n",
       "  </tbody>\n",
       "</table>\n",
       "</div>"
      ],
      "text/plain": [
       "                                                   0  \\\n",
       "0                                               Rank   \n",
       "1  FilterA24 BG BST BV CE EC Focus Fox FoxS Free ...   \n",
       "2                                                  1   \n",
       "3                                                  2   \n",
       "4                                                  3   \n",
       "\n",
       "                              1  \\\n",
       "0         Title (click to view)   \n",
       "1                           NaN   \n",
       "2  Star Wars: The Force Awakens   \n",
       "3                Jurassic World   \n",
       "4                     Furious 7   \n",
       "\n",
       "                                                   2  \\\n",
       "0  Studio* function MojoDrop1() { var number = do...   \n",
       "1                                                NaN   \n",
       "2                                                 BV   \n",
       "3                                               Uni.   \n",
       "4                                               Uni.   \n",
       "\n",
       "                                                   3          4             5  \\\n",
       "0  FilterA24 BG BST BV CE EC Focus Fox FoxS Free ...  Worldwide  Domestic / %   \n",
       "1                                                NaN        NaN           NaN   \n",
       "2                                           $2,068.2     $936.7         45.3%   \n",
       "3                                           $1,670.4     $652.3         39.0%   \n",
       "4                                           $1,516.0     $353.0         23.3%   \n",
       "\n",
       "              6      7  \n",
       "0  Overseas / %    NaN  \n",
       "1           NaN    NaN  \n",
       "2      $1,131.6  54.7%  \n",
       "3      $1,018.1  61.0%  \n",
       "4      $1,163.0  76.7%  "
      ]
     },
     "execution_count": 53,
     "metadata": {},
     "output_type": "execute_result"
    }
   ],
   "source": [
    "#gives table of values\n",
    "# df3.head()"
   ]
  },
  {
   "cell_type": "code",
   "execution_count": 20,
   "metadata": {
    "collapsed": true
   },
   "outputs": [],
   "source": [
    "#but what I wanted was a list of links...."
   ]
  },
  {
   "cell_type": "markdown",
   "metadata": {},
   "source": [
    "# 2015 Worldwide movies"
   ]
  },
  {
   "cell_type": "code",
   "execution_count": 16,
   "metadata": {
    "collapsed": false
   },
   "outputs": [],
   "source": [
    "mojo = []\n",
    "\n",
    "for m in range(446):\n",
    "    mojo.append(str(soup(href=re.compile(\"movies\"))[m]).split(\"\\\"\")[1])\n",
    "    m += 1"
   ]
  },
  {
   "cell_type": "code",
   "execution_count": 17,
   "metadata": {
    "collapsed": false
   },
   "outputs": [],
   "source": [
    "urls = [\"http://www.boxofficemojo.com\" + s for s in mojo]"
   ]
  },
  {
   "cell_type": "code",
   "execution_count": 18,
   "metadata": {
    "collapsed": false
   },
   "outputs": [],
   "source": [
    "urls2015 = urls[1:]"
   ]
  },
  {
   "cell_type": "code",
   "execution_count": 20,
   "metadata": {
    "collapsed": false,
    "scrolled": true
   },
   "outputs": [
    {
     "data": {
      "text/plain": [
       "445"
      ]
     },
     "execution_count": 20,
     "metadata": {},
     "output_type": "execute_result"
    }
   ],
   "source": [
    "len(urls2015)"
   ]
  },
  {
   "cell_type": "markdown",
   "metadata": {},
   "source": [
    "# 2014 Worldwide movies"
   ]
  },
  {
   "cell_type": "code",
   "execution_count": 22,
   "metadata": {
    "collapsed": true
   },
   "outputs": [],
   "source": [
    "url = 'http://www.boxofficemojo.com/yearly/chart/?view2=worldwide&yr=2014&p=.htm'\n",
    "response = requests.get(url)"
   ]
  },
  {
   "cell_type": "code",
   "execution_count": 23,
   "metadata": {
    "collapsed": true
   },
   "outputs": [],
   "source": [
    "page = response.text\n",
    "soup = BeautifulSoup(page, \"lxml\")"
   ]
  },
  {
   "cell_type": "code",
   "execution_count": 29,
   "metadata": {
    "collapsed": true
   },
   "outputs": [],
   "source": [
    "mojo = []\n",
    "\n",
    "for m in range(391):\n",
    "    mojo.append(str(soup(href=re.compile(\"movies\"))[m]).split(\"\\\"\")[1])\n",
    "    m += 1"
   ]
  },
  {
   "cell_type": "code",
   "execution_count": 30,
   "metadata": {
    "collapsed": true
   },
   "outputs": [],
   "source": [
    "urls = [\"http://www.boxofficemojo.com\" + s for s in mojo]"
   ]
  },
  {
   "cell_type": "code",
   "execution_count": 31,
   "metadata": {
    "collapsed": true
   },
   "outputs": [],
   "source": [
    "urls2014 = urls[1:]"
   ]
  },
  {
   "cell_type": "code",
   "execution_count": 33,
   "metadata": {
    "collapsed": false
   },
   "outputs": [
    {
     "data": {
      "text/plain": [
       "390"
      ]
     },
     "execution_count": 33,
     "metadata": {},
     "output_type": "execute_result"
    }
   ],
   "source": [
    "len(urls2014)"
   ]
  },
  {
   "cell_type": "markdown",
   "metadata": {},
   "source": [
    "# 2013 Worldwide movies"
   ]
  },
  {
   "cell_type": "code",
   "execution_count": 34,
   "metadata": {
    "collapsed": true
   },
   "outputs": [],
   "source": [
    "url = 'http://www.boxofficemojo.com/yearly/chart/?view2=worldwide&yr=2013&p=.htm'\n",
    "response = requests.get(url)"
   ]
  },
  {
   "cell_type": "code",
   "execution_count": 35,
   "metadata": {
    "collapsed": true
   },
   "outputs": [],
   "source": [
    "page = response.text\n",
    "soup = BeautifulSoup(page, \"lxml\")"
   ]
  },
  {
   "cell_type": "code",
   "execution_count": 41,
   "metadata": {
    "collapsed": true
   },
   "outputs": [],
   "source": [
    "mojo = []\n",
    "\n",
    "for m in range(348):\n",
    "    mojo.append(str(soup(href=re.compile(\"movies\"))[m]).split(\"\\\"\")[1])\n",
    "    m += 1"
   ]
  },
  {
   "cell_type": "code",
   "execution_count": 42,
   "metadata": {
    "collapsed": true
   },
   "outputs": [],
   "source": [
    "urls = [\"http://www.boxofficemojo.com\" + s for s in mojo]"
   ]
  },
  {
   "cell_type": "code",
   "execution_count": 43,
   "metadata": {
    "collapsed": true
   },
   "outputs": [],
   "source": [
    "urls2013 = urls[1:]"
   ]
  },
  {
   "cell_type": "code",
   "execution_count": 46,
   "metadata": {
    "collapsed": false
   },
   "outputs": [
    {
     "data": {
      "text/plain": [
       "347"
      ]
     },
     "execution_count": 46,
     "metadata": {},
     "output_type": "execute_result"
    }
   ],
   "source": [
    "len(urls2013)"
   ]
  },
  {
   "cell_type": "code",
   "execution_count": 70,
   "metadata": {
    "collapsed": false
   },
   "outputs": [
    {
     "data": {
      "text/plain": [
       "['http://www.boxofficemojo.com/movies/?id=frozen2013.htm',\n",
       " 'http://www.boxofficemojo.com/movies/?id=ironman3.htm',\n",
       " 'http://www.boxofficemojo.com/movies/?id=despicableme2.htm',\n",
       " 'http://www.boxofficemojo.com/movies/?id=hobbit2.htm',\n",
       " 'http://www.boxofficemojo.com/movies/?id=catchingfire.htm',\n",
       " 'http://www.boxofficemojo.com/movies/?id=fast6.htm',\n",
       " 'http://www.boxofficemojo.com/movies/?id=monstersinc2.htm',\n",
       " 'http://www.boxofficemojo.com/movies/?id=gravity.htm',\n",
       " 'http://www.boxofficemojo.com/movies/?id=superman2012.htm',\n",
       " 'http://www.boxofficemojo.com/movies/?id=thor2.htm',\n",
       " 'http://www.boxofficemojo.com/movies/?id=croods.htm',\n",
       " 'http://www.boxofficemojo.com/movies/?id=worldwarz.htm',\n",
       " 'http://www.boxofficemojo.com/movies/?id=oz.htm',\n",
       " 'http://www.boxofficemojo.com/movies/?id=startrek12.htm',\n",
       " 'http://www.boxofficemojo.com/movies/?id=wolverine2.htm',\n",
       " 'http://www.boxofficemojo.com/movies/?id=pacificrim.htm',\n",
       " 'http://www.boxofficemojo.com/movies/?id=wolfofwallstreet.htm',\n",
       " 'http://www.boxofficemojo.com/movies/?id=gijoe2.htm',\n",
       " 'http://www.boxofficemojo.com/movies/?id=hangover3.htm',\n",
       " 'http://www.boxofficemojo.com/movies/?id=nowyouseeme.htm',\n",
       " 'http://www.boxofficemojo.com/movies/?id=greatgatsby2012.htm',\n",
       " 'http://www.boxofficemojo.com/movies/?id=smurfs2.htm',\n",
       " 'http://www.boxofficemojo.com/movies/?id=conjuring.htm',\n",
       " 'http://www.boxofficemojo.com/movies/?id=diehard5.htm',\n",
       " 'http://www.boxofficemojo.com/movies/?id=oblivion.htm',\n",
       " 'http://www.boxofficemojo.com/movies/?id=elysium.htm',\n",
       " 'http://www.boxofficemojo.com/movies/?id=turbo.htm',\n",
       " 'http://www.boxofficemojo.com/movies/?id=cloudy2.htm',\n",
       " 'http://www.boxofficemojo.com/movies/?id=werethemillers.htm',\n",
       " 'http://www.boxofficemojo.com/movies/?id=leafmen.htm',\n",
       " 'http://www.boxofficemojo.com/movies/?id=loneranger.htm',\n",
       " 'http://www.boxofficemojo.com/movies/?id=davido2013.htm',\n",
       " 'http://www.boxofficemojo.com/movies/?id=grownups2.htm',\n",
       " 'http://www.boxofficemojo.com/movies/?id=1000ae.htm',\n",
       " 'http://www.boxofficemojo.com/movies/?id=planes.htm',\n",
       " 'http://www.boxofficemojo.com/movies/?id=bullockmccarthy.htm',\n",
       " 'http://www.boxofficemojo.com/movies/?id=hanselandgretelwitchhunters.htm',\n",
       " 'http://www.boxofficemojo.com/movies/?id=captainphillips.htm',\n",
       " 'http://www.boxofficemojo.com/movies/?id=whitehousedown.htm',\n",
       " 'http://www.boxofficemojo.com/movies/?id=percyjackson2.htm',\n",
       " 'http://www.boxofficemojo.com/movies/?id=lostinthailand.htm',\n",
       " 'http://www.boxofficemojo.com/movies/?id=jackthegiantkiller.htm',\n",
       " 'http://www.boxofficemojo.com/movies/?id=waltermitty.htm',\n",
       " 'http://www.boxofficemojo.com/movies/?id=twelveyearsaslave.htm',\n",
       " 'http://www.boxofficemojo.com/movies/?id=butler.htm',\n",
       " 'http://www.boxofficemojo.com/movies/?id=identitythief.htm',\n",
       " 'http://www.boxofficemojo.com/movies/?id=anchorman2.htm',\n",
       " 'http://www.boxofficemojo.com/movies/?id=insidious2.htm',\n",
       " 'http://www.boxofficemojo.com/movies/?id=olympushasfallen.htm',\n",
       " 'http://www.boxofficemojo.com/movies/?id=lonesurvivor.htm',\n",
       " 'http://www.boxofficemojo.com/movies/?id=badgrandpa.htm',\n",
       " 'http://www.boxofficemojo.com/movies/?id=47ronin.htm',\n",
       " 'http://www.boxofficemojo.com/movies/?id=red2.htm',\n",
       " 'http://www.boxofficemojo.com/movies/?id=mama.htm',\n",
       " 'http://www.boxofficemojo.com/movies/?id=tomb.htm',\n",
       " 'http://www.boxofficemojo.com/movies/?id=lastvegas.htm',\n",
       " 'http://www.boxofficemojo.com/movies/?id=2guns.htm',\n",
       " 'http://www.boxofficemojo.com/movies/?id=walkingwithdinosaurs.htm',\n",
       " 'http://www.boxofficemojo.com/movies/?id=rogenhilluntitled.htm',\n",
       " 'http://www.boxofficemojo.com/movies/?id=endersgame.htm',\n",
       " 'http://www.boxofficemojo.com/movies/?id=prisoners.htm',\n",
       " 'http://www.boxofficemojo.com/movies/?id=savingmrbanks.htm',\n",
       " 'http://www.boxofficemojo.com/movies/?id=warmbodies.htm',\n",
       " 'http://www.boxofficemojo.com/movies/?id=jurassicpark3d.htm',\n",
       " 'http://www.boxofficemojo.com/movies/?id=turkeys.htm',\n",
       " 'http://www.boxofficemojo.com/movies/?id=gangstersquad.htm',\n",
       " 'http://www.boxofficemojo.com/movies/?id=philomena.htm',\n",
       " 'http://www.boxofficemojo.com/movies/?id=instructionsnotincluded.htm',\n",
       " 'http://www.boxofficemojo.com/movies/?id=riddick.htm',\n",
       " 'http://www.boxofficemojo.com/movies/?id=safehaven.htm',\n",
       " 'http://www.boxofficemojo.com/movies/?id=evildead2013.htm',\n",
       " 'http://www.boxofficemojo.com/movies/?id=bluejasmine.htm',\n",
       " 'http://www.boxofficemojo.com/movies/?id=mortalinstruments.htm',\n",
       " 'http://www.boxofficemojo.com/movies/?id=internship.htm',\n",
       " 'http://www.boxofficemojo.com/movies/?id=rush2013.htm',\n",
       " 'http://www.boxofficemojo.com/movies/?id=purge.htm',\n",
       " 'http://www.boxofficemojo.com/movies/?id=dhoom3.htm',\n",
       " 'http://www.boxofficemojo.com/movies/?id=abouttime.htm',\n",
       " 'http://www.boxofficemojo.com/movies/?id=painandgain.htm',\n",
       " 'http://www.boxofficemojo.com/movies/?id=carrie2013.htm',\n",
       " 'http://www.boxofficemojo.com/movies/?id=malavita.htm',\n",
       " 'http://www.boxofficemojo.com/movies/?id=scarymovie5.htm',\n",
       " 'http://www.boxofficemojo.com/movies/?id=ripd.htm',\n",
       " 'http://www.boxofficemojo.com/movies/?id=tinytimes.htm',\n",
       " 'http://www.boxofficemojo.com/movies/?id=bookthief.htm',\n",
       " 'http://www.boxofficemojo.com/movies/?id=escapefromplanetearth.htm',\n",
       " 'http://www.boxofficemojo.com/movies/?id=augustosagecounty.htm',\n",
       " 'http://www.boxofficemojo.com/movies/?id=bestman2.htm',\n",
       " 'http://www.boxofficemojo.com/movies/?id=youngdetectivedee.htm',\n",
       " 'http://www.boxofficemojo.com/movies/?id=counselor.htm',\n",
       " 'http://www.boxofficemojo.com/movies/?id=call2013.htm',\n",
       " 'http://www.boxofficemojo.com/movies/?id=onedirection.htm',\n",
       " 'http://www.boxofficemojo.com/movies/?id=grandmasters.htm',\n",
       " 'http://www.boxofficemojo.com/movies/?id=bitterpill.htm',\n",
       " 'http://www.boxofficemojo.com/movies/?id=host2013.htm',\n",
       " 'http://www.boxofficemojo.com/movies/?id=runnerrunner.htm',\n",
       " 'http://www.boxofficemojo.com/movies/?id=fromuponpoppyhill.htm',\n",
       " 'http://www.boxofficemojo.com/movies/?id=kickass2.htm',\n",
       " 'http://www.boxofficemojo.com/movies/?id=hauntedhouse.htm',\n",
       " 'http://www.boxofficemojo.com/movies/?id=beautifulcreatures13.htm',\n",
       " 'http://www.boxofficemojo.com/movies/?id=quartet.htm',\n",
       " 'http://www.boxofficemojo.com/movies/?id=dallasbuyersclub.htm',\n",
       " 'http://www.boxofficemojo.com/movies/?id=facereader.htm',\n",
       " 'http://www.boxofficemojo.com/movies/?id=madeachristmas.htm',\n",
       " 'http://www.boxofficemojo.com/movies/?id=marriagecounselor.htm',\n",
       " 'http://www.boxofficemojo.com/movies/?id=deliveryman.htm',\n",
       " 'http://www.boxofficemojo.com/movies/?id=berlinfile.htm',\n",
       " 'http://www.boxofficemojo.com/movies/?id=laststand.htm',\n",
       " 'http://www.boxofficemojo.com/movies/?id=21andover.htm',\n",
       " 'http://www.boxofficemojo.com/movies/?id=her2013.htm',\n",
       " 'http://www.boxofficemojo.com/movies/?id=tinytimes2.htm',\n",
       " 'http://www.boxofficemojo.com/movies/?id=texaschainsaw3d.htm',\n",
       " 'http://www.boxofficemojo.com/movies/?id=bigwedding.htm',\n",
       " 'http://www.boxofficemojo.com/movies/?id=parker.htm',\n",
       " 'http://www.boxofficemojo.com/movies/?id=worldsend.htm',\n",
       " 'http://www.boxofficemojo.com/movies/?id=grudgematch.htm',\n",
       " 'http://www.boxofficemojo.com/movies/?id=homefront.htm',\n",
       " 'http://www.boxofficemojo.com/movies/?id=snitch.htm',\n",
       " 'http://www.boxofficemojo.com/movies/?id=jobs.htm',\n",
       " 'http://www.boxofficemojo.com/movies/?id=placebeyondthepines.htm',\n",
       " 'http://www.boxofficemojo.com/movies/?id=insidellewyndavis.htm',\n",
       " 'http://www.boxofficemojo.com/movies/?id=mud.htm',\n",
       " 'http://www.boxofficemojo.com/movies/?id=movie43.htm',\n",
       " 'http://www.boxofficemojo.com/movies/?id=kevinhart2013.htm',\n",
       " 'http://www.boxofficemojo.com/movies/?id=springbreakers.htm',\n",
       " 'http://www.boxofficemojo.com/movies/?id=newworld2013.htm',\n",
       " 'http://www.boxofficemojo.com/movies/?id=donjon.htm',\n",
       " 'http://www.boxofficemojo.com/movies/?id=igiveitayear.htm',\n",
       " 'http://www.boxofficemojo.com/movies/?id=nebraska.htm',\n",
       " 'http://www.boxofficemojo.com/movies/?id=burtwonderstone.htm',\n",
       " 'http://www.boxofficemojo.com/movies/?id=mandela2013.htm',\n",
       " 'http://www.boxofficemojo.com/movies/?id=khumba.htm',\n",
       " 'http://www.boxofficemojo.com/movies/?id=darkskies.htm',\n",
       " 'http://www.boxofficemojo.com/movies/?id=enoughsaid.htm',\n",
       " 'http://www.boxofficemojo.com/movies/?id=trance.htm',\n",
       " 'http://www.boxofficemojo.com/movies/?id=waywayback.htm',\n",
       " 'http://www.boxofficemojo.com/movies/?id=kontiki.htm',\n",
       " 'http://www.boxofficemojo.com/movies/?id=baggageclaim.htm',\n",
       " 'http://www.boxofficemojo.com/movies/?id=diana.htm',\n",
       " 'http://www.boxofficemojo.com/movies/?id=greatbeauty.htm',\n",
       " 'http://www.boxofficemojo.com/movies/?id=22bullets.htm',\n",
       " 'http://www.boxofficemojo.com/movies/?id=sapphires.htm',\n",
       " 'http://www.boxofficemojo.com/movies/?id=brokencity.htm',\n",
       " 'http://www.boxofficemojo.com/movies/?id=companyyoukeep.htm',\n",
       " 'http://www.boxofficemojo.com/movies/?id=blingring.htm',\n",
       " 'http://www.boxofficemojo.com/movies/?id=yourenext.htm',\n",
       " 'http://www.boxofficemojo.com/movies/?id=deadmandown.htm',\n",
       " 'http://www.boxofficemojo.com/movies/?id=admission.htm',\n",
       " 'http://www.boxofficemojo.com/movies/?id=fruitvale.htm',\n",
       " 'http://www.boxofficemojo.com/movies/?id=planetbboy3d.htm',\n",
       " 'http://www.boxofficemojo.com/movies/?id=outofthefurnace.htm',\n",
       " 'http://www.boxofficemojo.com/movies/?id=billyandbuddy.htm',\n",
       " 'http://www.boxofficemojo.com/movies/?id=lastexorcism2.htm',\n",
       " 'http://www.boxofficemojo.com/movies/?id=machete2.htm',\n",
       " 'http://www.boxofficemojo.com/movies/?id=paranoia.htm',\n",
       " 'http://www.boxofficemojo.com/movies/?id=allislost.htm',\n",
       " 'http://www.boxofficemojo.com/movies/?id=puellamagi13.htm',\n",
       " 'http://www.boxofficemojo.com/movies/?id=journeytothesouthpacific.htm',\n",
       " 'http://www.boxofficemojo.com/movies/?id=stoker.htm',\n",
       " 'http://www.boxofficemojo.com/movies/?id=inthehouse.htm',\n",
       " 'http://www.boxofficemojo.com/movies/?id=imsoexcited.htm',\n",
       " 'http://www.boxofficemojo.com/movies/?id=hautecuisine.htm',\n",
       " 'http://www.boxofficemojo.com/movies/?id=beforemidnight.htm',\n",
       " 'http://www.boxofficemojo.com/movies/?id=past.htm',\n",
       " 'http://www.boxofficemojo.com/movies/?id=onlygodforgives.htm',\n",
       " 'http://www.boxofficemojo.com/movies/?id=loveisallyouneed.htm',\n",
       " 'http://www.boxofficemojo.com/movies/?id=bullettothehead.htm',\n",
       " 'http://www.boxofficemojo.com/movies/?id=wethepeeples.htm',\n",
       " 'http://www.boxofficemojo.com/movies/?id=jerusalem.htm',\n",
       " 'http://www.boxofficemojo.com/movies/?id=fifthestate.htm',\n",
       " 'http://www.boxofficemojo.com/movies/?id=upsidedown.htm',\n",
       " 'http://www.boxofficemojo.com/movies/?id=metallica2013.htm',\n",
       " 'http://www.boxofficemojo.com/movies/?id=pullingstrings.htm',\n",
       " 'http://www.boxofficemojo.com/movies/?id=blacknativity.htm',\n",
       " 'http://www.boxofficemojo.com/movies/?id=bluewarm.htm',\n",
       " 'http://www.boxofficemojo.com/movies/?id=unfinishedsong.htm',\n",
       " 'http://www.boxofficemojo.com/movies/?id=angelsshare.htm',\n",
       " 'http://www.boxofficemojo.com/movies/?id=spectacularnow.htm',\n",
       " 'http://www.boxofficemojo.com/movies/?id=thesweeney.htm',\n",
       " 'http://www.boxofficemojo.com/movies/?id=believe.htm',\n",
       " 'http://www.boxofficemojo.com/movies/?id=matrukibijleekamandola.htm',\n",
       " 'http://www.boxofficemojo.com/movies/?id=closedcircuit.htm',\n",
       " 'http://www.boxofficemojo.com/movies/?id=populaire.htm',\n",
       " 'http://www.boxofficemojo.com/movies/?id=brokencirclebreakdown.htm',\n",
       " 'http://www.boxofficemojo.com/movies/?id=fistsoflegend.htm',\n",
       " 'http://www.boxofficemojo.com/movies/?id=chennaiexpress.htm',\n",
       " 'http://www.boxofficemojo.com/movies/?id=20feetfromstardom.htm',\n",
       " 'http://www.boxofficemojo.com/movies/?id=oldboy2013.htm',\n",
       " 'http://www.boxofficemojo.com/movies/?id=commitment.htm',\n",
       " 'http://www.boxofficemojo.com/movies/?id=whiteelephant.htm',\n",
       " 'http://www.boxofficemojo.com/movies/?id=muchado13.htm',\n",
       " 'http://www.boxofficemojo.com/movies/?id=francisha.htm',\n",
       " 'http://www.boxofficemojo.com/movies/?id=youwillbemyson.htm',\n",
       " 'http://www.boxofficemojo.com/movies/?id=yeijawaanihaideewani.htm',\n",
       " 'http://www.boxofficemojo.com/movies/?id=pieta.htm',\n",
       " 'http://www.boxofficemojo.com/movies/?id=mental.htm',\n",
       " 'http://www.boxofficemojo.com/movies/?id=todolist.htm',\n",
       " 'http://www.boxofficemojo.com/movies/?id=mrnobody.htm',\n",
       " 'http://www.boxofficemojo.com/movies/?id=emperor.htm',\n",
       " 'http://www.boxofficemojo.com/movies/?id=standupguys.htm',\n",
       " 'http://www.boxofficemojo.com/movies/?id=inaworld.htm',\n",
       " 'http://www.boxofficemojo.com/movies/?id=ramleela.htm',\n",
       " 'http://www.boxofficemojo.com/movies/?id=capital.htm',\n",
       " 'http://www.boxofficemojo.com/movies/?id=east.htm',\n",
       " 'http://www.boxofficemojo.com/movies/?id=churchgirl.htm',\n",
       " 'http://www.boxofficemojo.com/movies/?id=no2013.htm',\n",
       " 'http://www.boxofficemojo.com/movies/?id=renoir.htm',\n",
       " 'http://www.boxofficemojo.com/movies/?id=christmascandle.htm',\n",
       " 'http://www.boxofficemojo.com/movies/?id=reality2013.htm',\n",
       " 'http://www.boxofficemojo.com/movies/?id=krrish3.htm',\n",
       " 'http://www.boxofficemojo.com/movies/?id=austenland.htm',\n",
       " 'http://www.boxofficemojo.com/movies/?id=sorcererandthewhitesnake.htm',\n",
       " 'http://www.boxofficemojo.com/movies/?id=snitchcartel.htm',\n",
       " 'http://www.boxofficemojo.com/movies/?id=iceman2013.htm',\n",
       " 'http://www.boxofficemojo.com/movies/?id=mandylane.htm',\n",
       " 'http://www.boxofficemojo.com/movies/?id=fillthevoid.htm',\n",
       " 'http://www.boxofficemojo.com/movies/?id=starbuck.htm',\n",
       " 'http://www.boxofficemojo.com/movies/?id=bhaagmilkhabhaag.htm',\n",
       " 'http://www.boxofficemojo.com/movies/?id=therese2013.htm',\n",
       " 'http://www.boxofficemojo.com/movies/?id=storieswetell.htm',\n",
       " 'http://www.boxofficemojo.com/movies/?id=lovelace.htm',\n",
       " 'http://www.boxofficemojo.com/movies/?id=race2.htm',\n",
       " 'http://www.boxofficemojo.com/movies/?id=disconnect.htm',\n",
       " 'http://www.boxofficemojo.com/movies/?id=girlmostlikely.htm',\n",
       " 'http://www.boxofficemojo.com/movies/?id=wadjda.htm',\n",
       " 'http://www.boxofficemojo.com/movies/?id=kingsofsummer.htm',\n",
       " 'http://www.boxofficemojo.com/movies/?id=invisiblewoman.htm',\n",
       " 'http://www.boxofficemojo.com/movies/?id=violetawenttoheaven.htm',\n",
       " 'http://www.boxofficemojo.com/movies/?id=romeoandjuliet2013.htm',\n",
       " 'http://www.boxofficemojo.com/movies/?id=stillmine.htm',\n",
       " 'http://www.boxofficemojo.com/movies/?id=wall2013.htm',\n",
       " 'http://www.boxofficemojo.com/movies/?id=kaipoche.htm',\n",
       " 'http://www.boxofficemojo.com/movies/?id=whatmaisieknew.htm',\n",
       " 'http://www.boxofficemojo.com/movies/?id=thanksforsharing.htm',\n",
       " 'http://www.boxofficemojo.com/movies/?id=aintthembodiessaints.htm',\n",
       " 'http://www.boxofficemojo.com/movies/?id=killyourdarlings.htm',\n",
       " 'http://www.boxofficemojo.com/movies/?id=shortterm12.htm',\n",
       " 'http://www.boxofficemojo.com/movies/?id=gingerandrosa.htm',\n",
       " 'http://www.boxofficemojo.com/movies/?id=lore.htm',\n",
       " 'http://www.boxofficemojo.com/movies/?id=raanjhana.htm',\n",
       " 'http://www.boxofficemojo.com/movies/?id=shelter2011.htm',\n",
       " 'http://www.boxofficemojo.com/movies/?id=generationiron.htm',\n",
       " 'http://www.boxofficemojo.com/movies/?id=monk2013.htm',\n",
       " 'http://www.boxofficemojo.com/movies/?id=satyagraha.htm',\n",
       " 'http://www.boxofficemojo.com/movies/?id=hannaharendt.htm',\n",
       " 'http://www.boxofficemojo.com/movies/?id=besharam.htm',\n",
       " 'http://www.boxofficemojo.com/movies/?id=salinger.htm',\n",
       " 'http://www.boxofficemojo.com/movies/?id=hunt2013.htm',\n",
       " 'http://www.boxofficemojo.com/movies/?id=walkingthecamino.htm',\n",
       " 'http://www.boxofficemojo.com/movies/?id=tothewonder.htm',\n",
       " 'http://www.boxofficemojo.com/movies/?id=lootera.htm',\n",
       " 'http://www.boxofficemojo.com/movies/?id=museumhours.htm',\n",
       " 'http://www.boxofficemojo.com/movies/?id=reluctantfundamentalist.htm',\n",
       " 'http://www.boxofficemojo.com/movies/?id=youaintseennothinyet.htm',\n",
       " 'http://www.boxofficemojo.com/movies/?id=misterandpete.htm',\n",
       " 'http://www.boxofficemojo.com/movies/?id=actofkilling.htm',\n",
       " 'http://www.boxofficemojo.com/movies/?id=soundcity.htm',\n",
       " 'http://www.boxofficemojo.com/movies/?id=shadowdancer.htm',\n",
       " 'http://www.boxofficemojo.com/movies/?id=ahijacking.htm',\n",
       " 'http://www.boxofficemojo.com/movies/?id=grandmasti.htm',\n",
       " 'http://www.boxofficemojo.com/movies/?id=phataposter.htm',\n",
       " 'http://www.boxofficemojo.com/movies/?id=armstronglie.htm',\n",
       " 'http://www.boxofficemojo.com/movies/?id=taichihero.htm',\n",
       " 'http://www.boxofficemojo.com/movies/?id=atanyprice.htm',\n",
       " 'http://www.boxofficemojo.com/movies/?id=personaltailor.htm',\n",
       " 'http://www.boxofficemojo.com/movies/?id=shootoutatwadala.htm',\n",
       " 'http://www.boxofficemojo.com/movies/?id=goriterepyaarmein.htm',\n",
       " 'http://www.boxofficemojo.com/movies/?id=adore.htm',\n",
       " 'http://www.boxofficemojo.com/movies/?id=abottleinthegazasea.htm',\n",
       " 'http://www.boxofficemojo.com/movies/?id=gogoagone.htm',\n",
       " 'http://www.boxofficemojo.com/movies/?id=blancanieves.htm',\n",
       " 'http://www.boxofficemojo.com/movies/?id=himmatwala.htm',\n",
       " 'http://www.boxofficemojo.com/movies/?id=greatexpectations2013.htm',\n",
       " 'http://www.boxofficemojo.com/movies/?id=silence2013.htm',\n",
       " 'http://www.boxofficemojo.com/movies/?id=singhsaabthegreat.htm',\n",
       " 'http://www.boxofficemojo.com/movies/?id=abcd2013.htm',\n",
       " 'http://www.boxofficemojo.com/movies/?id=arthurnewman.htm',\n",
       " 'http://www.boxofficemojo.com/movies/?id=ghanchakkar.htm',\n",
       " 'http://www.boxofficemojo.com/movies/?id=midnightschildren.htm',\n",
       " 'http://www.boxofficemojo.com/movies/?id=rajkumar.htm',\n",
       " 'http://www.boxofficemojo.com/movies/?id=westealsecrets.htm',\n",
       " 'http://www.boxofficemojo.com/movies/?id=patiencestone.htm',\n",
       " 'http://www.boxofficemojo.com/movies/?id=rangeelay.htm',\n",
       " 'http://www.boxofficemojo.com/movies/?id=drugwar.htm',\n",
       " 'http://www.boxofficemojo.com/movies/?id=beyondthehills.htm',\n",
       " 'http://www.boxofficemojo.com/movies/?id=stormsurfers.htm',\n",
       " 'http://www.boxofficemojo.com/movies/?id=yossi.htm',\n",
       " 'http://www.boxofficemojo.com/movies/?id=spinningplates.htm',\n",
       " 'http://www.boxofficemojo.com/movies/?id=ekthidaayan.htm',\n",
       " 'http://www.boxofficemojo.com/movies/?id=englishteacher.htm',\n",
       " 'http://www.boxofficemojo.com/movies/?id=manoftaichi.htm',\n",
       " 'http://www.boxofficemojo.com/movies/?id=byzantium.htm',\n",
       " 'http://www.boxofficemojo.com/movies/?id=rooftop.htm',\n",
       " 'http://www.boxofficemojo.com/movies/?id=wearewhatweare.htm',\n",
       " 'http://www.boxofficemojo.com/movies/?id=stuckinlove.htm',\n",
       " 'http://www.boxofficemojo.com/movies/?id=morethanhoney.htm',\n",
       " 'http://www.boxofficemojo.com/movies/?id=caesarmustdie.htm',\n",
       " 'http://www.boxofficemojo.com/movies/?id=noonelives.htm',\n",
       " 'http://www.boxofficemojo.com/movies/?id=warwitch.htm',\n",
       " 'http://www.boxofficemojo.com/movies/?id=pervertsguidetoideology.htm',\n",
       " 'http://www.boxofficemojo.com/movies/?id=myluckystar.htm',\n",
       " 'http://www.boxofficemojo.com/movies/?id=becomingtraviata.htm',\n",
       " 'http://www.boxofficemojo.com/movies/?id=sightseers.htm',\n",
       " 'http://www.boxofficemojo.com/movies/?id=canyons.htm',\n",
       " 'http://www.boxofficemojo.com/movies/?id=tableno21.htm',\n",
       " 'http://www.boxofficemojo.com/movies/?id=wishyouwerehere2013.htm',\n",
       " 'http://www.boxofficemojo.com/movies/?id=charlesswan3.htm',\n",
       " 'http://www.boxofficemojo.com/movies/?id=weandthei.htm',\n",
       " 'http://www.boxofficemojo.com/movies/?id=killingseason.htm',\n",
       " 'http://www.boxofficemojo.com/movies/?id=risingfromashes.htm',\n",
       " 'http://www.boxofficemojo.com/movies/?id=berberiansoundstudio.htm',\n",
       " 'http://www.boxofficemojo.com/movies/?id=ipman2013.htm',\n",
       " 'http://www.boxofficemojo.com/movies/?id=redemption2013.htm',\n",
       " 'http://www.boxofficemojo.com/movies/?id=camilleclaudel1915.htm',\n",
       " 'http://www.boxofficemojo.com/movies/?id=bastards.htm',\n",
       " 'http://www.boxofficemojo.com/movies/?id=paradiselove.htm',\n",
       " 'http://www.boxofficemojo.com/movies/?id=ourchildren.htm',\n",
       " 'http://www.boxofficemojo.com/movies/?id=vhs2.htm',\n",
       " 'http://www.boxofficemojo.com/movies/?id=lookoflove.htm',\n",
       " 'http://www.boxofficemojo.com/movies/?id=painting2013.htm',\n",
       " 'http://www.boxofficemojo.com/movies/?id=terraferma.htm',\n",
       " 'http://www.boxofficemojo.com/movies/?id=loveandhonor13.htm',\n",
       " 'http://www.boxofficemojo.com/movies/?id=nostalghia.htm',\n",
       " 'http://www.boxofficemojo.com/movies/?id=castingby.htm',\n",
       " 'http://www.boxofficemojo.com/movies/?id=violetdaisy.htm',\n",
       " 'http://www.boxofficemojo.com/movies/?id=jaynemansfieldscar.htm',\n",
       " 'http://www.boxofficemojo.com/movies/?id=aweddinginvitation.htm',\n",
       " 'http://www.boxofficemojo.com/movies/?id=redobsession.htm',\n",
       " 'http://www.boxofficemojo.com/movies/?id=selfishgiant.htm',\n",
       " 'http://www.boxofficemojo.com/movies/?id=charliecountryman.htm',\n",
       " 'http://www.boxofficemojo.com/movies/?id=justlikeawoman.htm',\n",
       " 'http://www.boxofficemojo.com/movies/?id=soyoung.htm',\n",
       " 'http://www.boxofficemojo.com/movies/?id=inthenameof.htm',\n",
       " 'http://www.boxofficemojo.com/movies/?id=inchallah.htm',\n",
       " 'http://www.boxofficemojo.com/movies/?id=welcometothepunch.htm',\n",
       " 'http://www.boxofficemojo.com/movies/?id=clandestinechildhood.htm',\n",
       " 'http://www.boxofficemojo.com/movies/?id=dracula3d.htm',\n",
       " 'http://www.boxofficemojo.com/movies/?id=findingmrright.htm',\n",
       " 'http://www.boxofficemojo.com/movies/?id=paradisehope.htm',\n",
       " 'http://www.boxofficemojo.com/movies/?id=paradisefaith.htm',\n",
       " 'http://www.boxofficemojo.com/movies/?id=guillotines.htm',\n",
       " 'http://www.boxofficemojo.com/movies/?id=strollerstrategy.htm',\n",
       " 'http://www.boxofficemojo.com/movies/?id=whatricharddid.htm',\n",
       " 'http://www.boxofficemojo.com/movies/?id=caughtintheweb.htm',\n",
       " 'http://www.boxofficemojo.com/movies/?id=ispitonyourgrave2.htm',\n",
       " 'http://www.boxofficemojo.com/movies/?id=intothewhite.htm',\n",
       " 'http://www.boxofficemojo.com/movies/?id=storage24.htm']"
      ]
     },
     "execution_count": 70,
     "metadata": {},
     "output_type": "execute_result"
    }
   ],
   "source": [
    "urls2013"
   ]
  },
  {
   "cell_type": "markdown",
   "metadata": {},
   "source": [
    "# Worldwide Scrape 2012 and 2011"
   ]
  },
  {
   "cell_type": "code",
   "execution_count": 10,
   "metadata": {
    "collapsed": true
   },
   "outputs": [],
   "source": [
    "#requires beautifulsoup already ran on this page and url is stored in memory\n",
    "def scrape_worldwide(list_length):\n",
    "    \n",
    "    mojo = []\n",
    "\n",
    "    for m in range(list_length+1):\n",
    "        mojo.append(str(soup(href=re.compile(\"movies\"))[m]).split(\"\\\"\")[1])\n",
    "        m += 1\n",
    "\n",
    "    urls = [\"http://www.boxofficemojo.com\" + s for s in mojo]\n",
    "    return urls[1:]"
   ]
  },
  {
   "cell_type": "code",
   "execution_count": 11,
   "metadata": {
    "collapsed": false
   },
   "outputs": [],
   "source": [
    "urls2012 = scrape_worldwide(397)"
   ]
  },
  {
   "cell_type": "code",
   "execution_count": 18,
   "metadata": {
    "collapsed": false
   },
   "outputs": [],
   "source": [
    "urls2011 = scrape_worldwide(397)"
   ]
  },
  {
   "cell_type": "code",
   "execution_count": 19,
   "metadata": {
    "collapsed": false
   },
   "outputs": [
    {
     "data": {
      "text/plain": [
       "['http://www.boxofficemojo.com/movies/?id=harrypotter72.htm',\n",
       " 'http://www.boxofficemojo.com/movies/?id=transformers3.htm',\n",
       " 'http://www.boxofficemojo.com/movies/?id=piratesofthecaribbean4.htm',\n",
       " 'http://www.boxofficemojo.com/movies/?id=breakingdawn.htm',\n",
       " 'http://www.boxofficemojo.com/movies/?id=mi4.htm',\n",
       " 'http://www.boxofficemojo.com/movies/?id=kungfupanda2.htm',\n",
       " 'http://www.boxofficemojo.com/movies/?id=fastfive.htm',\n",
       " 'http://www.boxofficemojo.com/movies/?id=hangover2.htm',\n",
       " 'http://www.boxofficemojo.com/movies/?id=smurfs.htm',\n",
       " 'http://www.boxofficemojo.com/movies/?id=cars2.htm',\n",
       " 'http://www.boxofficemojo.com/movies/?id=pussinboots12.htm',\n",
       " 'http://www.boxofficemojo.com/movies/?id=sherlockholmes2.htm',\n",
       " 'http://www.boxofficemojo.com/movies/?id=rio.htm',\n",
       " 'http://www.boxofficemojo.com/movies/?id=riseoftheapes.htm',\n",
       " 'http://www.boxofficemojo.com/movies/?id=thor.htm',\n",
       " 'http://www.boxofficemojo.com/movies/?id=tintin.htm',\n",
       " 'http://www.boxofficemojo.com/movies/?id=captainamerica.htm',\n",
       " 'http://www.boxofficemojo.com/movies/?id=xmenfirstclass.htm',\n",
       " 'http://www.boxofficemojo.com/movies/?id=alvin3d.htm',\n",
       " 'http://www.boxofficemojo.com/movies/?id=realsteel.htm',\n",
       " 'http://www.boxofficemojo.com/movies/?id=wiigapatow.htm',\n",
       " 'http://www.boxofficemojo.com/movies/?id=super8.htm',\n",
       " 'http://www.boxofficemojo.com/movies/?id=rango.htm',\n",
       " 'http://www.boxofficemojo.com/movies/?id=girldragontattoo11.htm',\n",
       " 'http://www.boxofficemojo.com/movies/?id=greenhornet.htm',\n",
       " 'http://www.boxofficemojo.com/movies/?id=warofgods.htm',\n",
       " 'http://www.boxofficemojo.com/movies/?id=greenlantern.htm',\n",
       " 'http://www.boxofficemojo.com/movies/?id=help2011.htm',\n",
       " 'http://www.boxofficemojo.com/movies/?id=badteacher.htm',\n",
       " 'http://www.boxofficemojo.com/movies/?id=thepretendwife.htm',\n",
       " 'http://www.boxofficemojo.com/movies/?id=battlelosangeles.htm',\n",
       " 'http://www.boxofficemojo.com/movies/?id=horriblebosses.htm',\n",
       " 'http://www.boxofficemojo.com/movies/?id=paranormalactivity3.htm',\n",
       " 'http://www.boxofficemojo.com/movies/?id=gnomeoandjuliet.htm',\n",
       " 'http://www.boxofficemojo.com/movies/?id=mrpopperspenguins.htm',\n",
       " 'http://www.boxofficemojo.com/movies/?id=hugocabret.htm',\n",
       " 'http://www.boxofficemojo.com/movies/?id=lionking3d.htm',\n",
       " 'http://www.boxofficemojo.com/movies/?id=ihop.htm',\n",
       " 'http://www.boxofficemojo.com/movies/?id=warhorse.htm',\n",
       " 'http://www.boxofficemojo.com/movies/?id=descendents.htm',\n",
       " 'http://www.boxofficemojo.com/movies/?id=cowboysandaliens.htm',\n",
       " 'http://www.boxofficemojo.com/movies/?id=now.htm',\n",
       " 'http://www.boxofficemojo.com/movies/?id=zookeeper.htm',\n",
       " 'http://www.boxofficemojo.com/movies/?id=themuppets.htm',\n",
       " 'http://www.boxofficemojo.com/movies/?id=darkfields.htm',\n",
       " 'http://www.boxofficemojo.com/movies/?id=johnnyenglish2.htm',\n",
       " 'http://www.boxofficemojo.com/movies/?id=finaldestination5.htm',\n",
       " 'http://www.boxofficemojo.com/movies/?id=towerheist.htm',\n",
       " 'http://www.boxofficemojo.com/movies/?id=midnightinparis.htm',\n",
       " 'http://www.boxofficemojo.com/movies/?id=happyfeet2.htm',\n",
       " 'http://www.boxofficemojo.com/movies/?id=iamnumberfour.htm',\n",
       " 'http://www.boxofficemojo.com/movies/?id=jackandjill.htm',\n",
       " 'http://www.boxofficemojo.com/movies/?id=friendswithbenefits10.htm',\n",
       " 'http://www.boxofficemojo.com/movies/?id=friendswithbenefits.htm',\n",
       " 'http://www.boxofficemojo.com/movies/?id=arthurchristmas.htm',\n",
       " 'http://www.boxofficemojo.com/movies/?id=sourcecode.htm',\n",
       " 'http://www.boxofficemojo.com/movies/?id=crazystupidlove.htm',\n",
       " 'http://www.boxofficemojo.com/movies/?id=newyearseve.htm',\n",
       " 'http://www.boxofficemojo.com/movies/?id=contagion.htm',\n",
       " 'http://www.boxofficemojo.com/movies/?id=artist.htm',\n",
       " 'http://www.boxofficemojo.com/movies/?id=threemusketeers11.htm',\n",
       " 'http://www.boxofficemojo.com/movies/?id=unknownwhitemale11.htm',\n",
       " 'http://www.boxofficemojo.com/movies/?id=adjustmentbureau.htm',\n",
       " 'http://www.boxofficemojo.com/movies/?id=weboughtazoo.htm',\n",
       " 'http://www.boxofficemojo.com/movies/?id=waterforelephants.htm',\n",
       " 'http://www.boxofficemojo.com/movies/?id=ironlady.htm',\n",
       " 'http://www.boxofficemojo.com/movies/?id=moneyball.htm',\n",
       " 'http://www.boxofficemojo.com/movies/?id=sanctum.htm',\n",
       " 'http://www.boxofficemojo.com/movies/?id=bieber3d.htm',\n",
       " 'http://www.boxofficemojo.com/movies/?id=paul.htm',\n",
       " 'http://www.boxofficemojo.com/movies/?id=scream4.htm',\n",
       " 'http://www.boxofficemojo.com/movies/?id=insidious.htm',\n",
       " 'http://www.boxofficemojo.com/movies/?id=rite.htm',\n",
       " 'http://www.boxofficemojo.com/movies/?id=dolphintale.htm',\n",
       " 'http://www.boxofficemojo.com/movies/?id=seasonofthewitch.htm',\n",
       " 'http://www.boxofficemojo.com/movies/?id=suckerpunch.htm',\n",
       " 'http://www.boxofficemojo.com/movies/?id=redridinghood.htm',\n",
       " 'http://www.boxofficemojo.com/movies/?id=spykids4.htm',\n",
       " 'http://www.boxofficemojo.com/movies/?id=jedgar.htm',\n",
       " 'http://www.boxofficemojo.com/movies/?id=hallpass.htm',\n",
       " 'http://www.boxofficemojo.com/movies/?id=bigmomma3.htm',\n",
       " 'http://www.boxofficemojo.com/movies/?id=abduction11.htm',\n",
       " 'http://www.boxofficemojo.com/movies/?id=tinkertailorsoldierspy.htm',\n",
       " 'http://www.boxofficemojo.com/movies/?id=priest07.htm',\n",
       " 'http://www.boxofficemojo.com/movies/?id=drive2011.htm',\n",
       " 'http://www.boxofficemojo.com/movies/?id=idesofmarch.htm',\n",
       " 'http://www.boxofficemojo.com/movies/?id=changeup.htm',\n",
       " 'http://www.boxofficemojo.com/movies/?id=lincolnlawyer.htm',\n",
       " 'http://www.boxofficemojo.com/movies/?id=diaryofawimpykid2.htm',\n",
       " 'http://www.boxofficemojo.com/movies/?id=larrycrowne.htm',\n",
       " 'http://www.boxofficemojo.com/movies/?id=howardvaughnjames.htm',\n",
       " 'http://www.boxofficemojo.com/movies/?id=darkesthour.htm',\n",
       " 'http://www.boxofficemojo.com/movies/?id=hanna.htm',\n",
       " 'http://www.boxofficemojo.com/movies/?id=footloose2010.htm',\n",
       " 'http://www.boxofficemojo.com/movies/?id=elitesquad2.htm',\n",
       " 'http://www.boxofficemojo.com/movies/?id=mechanic.htm',\n",
       " 'http://www.boxofficemojo.com/movies/?id=colombiana.htm',\n",
       " 'http://www.boxofficemojo.com/movies/?id=somethingborrowed.htm',\n",
       " 'http://www.boxofficemojo.com/movies/?id=oneday.htm',\n",
       " 'http://www.boxofficemojo.com/movies/?id=foundingofaparty.htm',\n",
       " 'http://www.boxofficemojo.com/movies/?id=killerelite.htm',\n",
       " 'http://www.boxofficemojo.com/movies/?id=extremelyloud.htm',\n",
       " 'http://www.boxofficemojo.com/movies/?id=treeoflife.htm',\n",
       " 'http://www.boxofficemojo.com/movies/?id=madeasbighappyfamily.htm',\n",
       " 'http://www.boxofficemojo.com/movies/?id=detectivedee.htm',\n",
       " 'http://www.boxofficemojo.com/movies/?id=conan3d.htm',\n",
       " 'http://www.boxofficemojo.com/movies/?id=soulsurfer.htm',\n",
       " 'http://www.boxofficemojo.com/movies/?id=warofthearrows.htm',\n",
       " 'http://www.boxofficemojo.com/movies/?id=arthur2011.htm',\n",
       " 'http://www.boxofficemojo.com/movies/?id=debt.htm',\n",
       " 'http://www.boxofficemojo.com/movies/?id=beastly.htm',\n",
       " 'http://www.boxofficemojo.com/movies/?id=ofgodsandmen.htm',\n",
       " 'http://www.boxofficemojo.com/movies/?id=evangelion2.htm',\n",
       " 'http://www.boxofficemojo.com/movies/?id=frightnight2011.htm',\n",
       " 'http://www.boxofficemojo.com/movies/?id=30minutesorless.htm',\n",
       " 'http://www.boxofficemojo.com/movies/?id=roommate10.htm',\n",
       " 'http://www.boxofficemojo.com/movies/?id=borntobewildimax.htm',\n",
       " 'http://www.boxofficemojo.com/movies/?id=shark3d.htm',\n",
       " 'http://www.boxofficemojo.com/movies/?id=montecarlo.htm',\n",
       " 'http://www.boxofficemojo.com/movies/?id=50fifty.htm',\n",
       " 'http://www.boxofficemojo.com/movies/?id=marsneedsmoms.htm',\n",
       " 'http://www.boxofficemojo.com/movies/?id=dreamhouse.htm',\n",
       " 'http://www.boxofficemojo.com/movies/?id=jumpingthebroom.htm',\n",
       " 'http://www.boxofficemojo.com/movies/?id=dontbeafraidofthedark.htm',\n",
       " 'http://www.boxofficemojo.com/movies/?id=raone.htm',\n",
       " 'http://www.boxofficemojo.com/movies/?id=haroldandkumar3.htm',\n",
       " 'http://www.boxofficemojo.com/movies/?id=myweekwithmarilyn.htm',\n",
       " 'http://www.boxofficemojo.com/movies/?id=sitter.htm',\n",
       " 'http://www.boxofficemojo.com/movies/?id=janeeyre2011.htm',\n",
       " 'http://www.boxofficemojo.com/movies/?id=courageous.htm',\n",
       " 'http://www.boxofficemojo.com/movies/?id=shaolin.htm',\n",
       " 'http://www.boxofficemojo.com/movies/?id=winniethepooh.htm',\n",
       " 'http://www.boxofficemojo.com/movies/?id=africancats.htm',\n",
       " 'http://www.boxofficemojo.com/movies/?id=skinilivein.htm',\n",
       " 'http://www.boxofficemojo.com/movies/?id=idontknowhowshedoesit.htm',\n",
       " 'http://www.boxofficemojo.com/movies/?id=whatsyournumber.htm',\n",
       " 'http://www.boxofficemojo.com/movies/?id=driveangry.htm',\n",
       " 'http://www.boxofficemojo.com/movies/?id=carnage2011.htm',\n",
       " 'http://www.boxofficemojo.com/movies/?id=dangerousmethod.htm',\n",
       " 'http://www.boxofficemojo.com/movies/?id=thing11.htm',\n",
       " 'http://www.boxofficemojo.com/movies/?id=eagleoftheninth.htm',\n",
       " 'http://www.boxofficemojo.com/movies/?id=legendofthefist.htm',\n",
       " 'http://www.boxofficemojo.com/movies/?id=apollo18.htm',\n",
       " 'http://www.boxofficemojo.com/movies/?id=biutiful.htm',\n",
       " 'http://www.boxofficemojo.com/movies/?id=yourhighness.htm',\n",
       " 'http://www.boxofficemojo.com/movies/?id=ouridiotbrother.htm',\n",
       " 'http://www.boxofficemojo.com/movies/?id=rumdiary.htm',\n",
       " 'http://www.boxofficemojo.com/movies/?id=womenonthe6thfloor.htm',\n",
       " 'http://www.boxofficemojo.com/movies/?id=potiche.htm',\n",
       " 'http://www.boxofficemojo.com/movies/?id=warrior10.htm',\n",
       " 'http://www.boxofficemojo.com/movies/?id=youngadult.htm',\n",
       " 'http://www.boxofficemojo.com/movies/?id=sarahskey.htm',\n",
       " 'http://www.boxofficemojo.com/movies/?id=wayback.htm',\n",
       " 'http://www.boxofficemojo.com/movies/?id=aseperation.htm',\n",
       " 'http://www.boxofficemojo.com/movies/?id=guard.htm',\n",
       " 'http://www.boxofficemojo.com/movies/?id=margincall.htm',\n",
       " 'http://www.boxofficemojo.com/movies/?id=gleelive3d.htm',\n",
       " 'http://www.boxofficemojo.com/movies/?id=shame.htm',\n",
       " 'http://www.boxofficemojo.com/movies/?id=13assassins.htm',\n",
       " 'http://www.boxofficemojo.com/movies/?id=hoodwinked2.htm',\n",
       " 'http://www.boxofficemojo.com/movies/?id=largowinch.htm',\n",
       " 'http://www.boxofficemojo.com/movies/?id=lastgodfather.htm',\n",
       " 'http://www.boxofficemojo.com/movies/?id=delhibelly.htm',\n",
       " 'http://www.boxofficemojo.com/movies/?id=melancholia.htm',\n",
       " 'http://www.boxofficemojo.com/movies/?id=judymoody.htm',\n",
       " 'http://www.boxofficemojo.com/movies/?id=conspirator.htm',\n",
       " 'http://www.boxofficemojo.com/movies/?id=anonymous.htm',\n",
       " 'http://www.boxofficemojo.com/movies/?id=ipman2.htm',\n",
       " 'http://www.boxofficemojo.com/movies/?id=housemaid.htm',\n",
       " 'http://www.boxofficemojo.com/movies/?id=desertflower.htm',\n",
       " 'http://www.boxofficemojo.com/movies/?id=pina.htm',\n",
       " 'http://www.boxofficemojo.com/movies/?id=beginners.htm',\n",
       " 'http://www.boxofficemojo.com/movies/?id=myafternoonswithmargueritte.htm',\n",
       " 'http://www.boxofficemojo.com/movies/?id=isawthedevil.htm',\n",
       " 'http://www.boxofficemojo.com/movies/?id=hedgehog.htm',\n",
       " 'http://www.boxofficemojo.com/movies/?id=gainsbourg.htm',\n",
       " 'http://www.boxofficemojo.com/movies/?id=warringstates.htm',\n",
       " 'http://www.boxofficemojo.com/movies/?id=whatwomenwant2011.htm',\n",
       " 'http://www.boxofficemojo.com/movies/?id=snowflower.htm',\n",
       " 'http://www.boxofficemojo.com/movies/?id=winwin.htm',\n",
       " 'http://www.boxofficemojo.com/movies/?id=flyingmonsters.htm',\n",
       " 'http://www.boxofficemojo.com/movies/?id=cityoflifeanddeath.htm',\n",
       " 'http://www.boxofficemojo.com/movies/?id=lehavre.htm',\n",
       " 'http://www.boxofficemojo.com/movies/?id=strawdogs10.htm',\n",
       " 'http://www.boxofficemojo.com/movies/?id=prom.htm',\n",
       " 'http://www.boxofficemojo.com/movies/?id=inabetterworld.htm',\n",
       " 'http://www.boxofficemojo.com/movies/?id=trespass2011.htm',\n",
       " 'http://www.boxofficemojo.com/movies/?id=savingprivateperez.htm',\n",
       " 'http://www.boxofficemojo.com/movies/?id=pointblank.htm',\n",
       " 'http://www.boxofficemojo.com/movies/?id=winterinwartime.htm',\n",
       " 'http://www.boxofficemojo.com/movies/?id=barneysversion.htm',\n",
       " 'http://www.boxofficemojo.com/movies/?id=outrage2011.htm',\n",
       " 'http://www.boxofficemojo.com/movies/?id=senna.htm',\n",
       " 'http://www.boxofficemojo.com/movies/?id=lastnight09.htm',\n",
       " 'http://www.boxofficemojo.com/movies/?id=bigyear.htm',\n",
       " 'http://www.boxofficemojo.com/movies/?id=beaver.htm',\n",
       " 'http://www.boxofficemojo.com/movies/?id=kidsinamerica2011.htm',\n",
       " 'http://www.boxofficemojo.com/movies/?id=cedarrapids.htm',\n",
       " 'http://www.boxofficemojo.com/movies/?id=princessofmontpensier.htm',\n",
       " 'http://www.boxofficemojo.com/movies/?id=caveofforgottendreams.htm',\n",
       " 'http://www.boxofficemojo.com/movies/?id=sexandzen3d.htm',\n",
       " 'http://www.boxofficemojo.com/movies/?id=weneedtotalkaboutkevin.htm',\n",
       " 'http://www.boxofficemojo.com/movies/?id=attacktheblock.htm',\n",
       " 'http://www.boxofficemojo.com/movies/?id=eventherain.htm',\n",
       " 'http://www.boxofficemojo.com/movies/?id=younggoetheinlove.htm',\n",
       " 'http://www.boxofficemojo.com/movies/?id=111111.htm',\n",
       " 'http://www.boxofficemojo.com/movies/?id=certifiedcopy.htm',\n",
       " 'http://www.boxofficemojo.com/movies/?id=thankyou2011.htm',\n",
       " 'http://www.boxofficemojo.com/movies/?id=companymen.htm',\n",
       " 'http://www.boxofficemojo.com/movies/?id=force.htm',\n",
       " 'http://www.boxofficemojo.com/movies/?id=tuckeranddalevsevil.htm',\n",
       " 'http://www.boxofficemojo.com/movies/?id=londonboulevard.htm',\n",
       " 'http://www.boxofficemojo.com/movies/?id=dylandog.htm',\n",
       " 'http://www.boxofficemojo.com/movies/?id=namesoflove.htm',\n",
       " 'http://www.boxofficemojo.com/movies/?id=way2011.htm',\n",
       " 'http://www.boxofficemojo.com/movies/?id=burkeandhare.htm',\n",
       " 'http://www.boxofficemojo.com/movies/?id=kingofdevilsisland.htm',\n",
       " 'http://www.boxofficemojo.com/movies/?id=brideflight.htm',\n",
       " 'http://www.boxofficemojo.com/movies/?id=trollhunter.htm',\n",
       " 'http://www.boxofficemojo.com/movies/?id=buck.htm',\n",
       " 'http://www.boxofficemojo.com/movies/?id=carancho.htm',\n",
       " 'http://www.boxofficemojo.com/movies/?id=likecrazy.htm',\n",
       " 'http://www.boxofficemojo.com/movies/?id=double2011.htm',\n",
       " 'http://www.boxofficemojo.com/movies/?id=don2.htm',\n",
       " 'http://www.boxofficemojo.com/movies/?id=lovecrime.htm',\n",
       " 'http://www.boxofficemojo.com/movies/?id=incendies.htm',\n",
       " 'http://www.boxofficemojo.com/movies/?id=marthamarcymaymarlene.htm',\n",
       " 'http://www.boxofficemojo.com/movies/?id=firefliesinthegarden.htm',\n",
       " 'http://www.boxofficemojo.com/movies/?id=machinegunpreacher.htm',\n",
       " 'http://www.boxofficemojo.com/movies/?id=lastcircus.htm',\n",
       " 'http://www.boxofficemojo.com/movies/?id=frompradatonada.htm',\n",
       " 'http://www.boxofficemojo.com/movies/?id=flypaper.htm',\n",
       " 'http://www.boxofficemojo.com/movies/?id=zindagi.htm',\n",
       " 'http://www.boxofficemojo.com/movies/?id=takeshelter.htm',\n",
       " 'http://www.boxofficemojo.com/movies/?id=greatestmiracle.htm',\n",
       " 'http://www.boxofficemojo.com/movies/?id=rapt.htm',\n",
       " 'http://www.boxofficemojo.com/movies/?id=pastorela.htm',\n",
       " 'http://www.boxofficemojo.com/movies/?id=doublehour.htm',\n",
       " 'http://www.boxofficemojo.com/movies/?id=everythingmustgo.htm',\n",
       " 'http://www.boxofficemojo.com/movies/?id=3.htm',\n",
       " 'http://www.boxofficemojo.com/movies/?id=orangesandsunshine.htm',\n",
       " 'http://www.boxofficemojo.com/movies/?id=ongbak3.htm',\n",
       " 'http://www.boxofficemojo.com/movies/?id=poetry.htm',\n",
       " 'http://www.boxofficemojo.com/movies/?id=tree2011.htm',\n",
       " 'http://www.boxofficemojo.com/movies/?id=butcherchefswordsman.htm',\n",
       " 'http://www.boxofficemojo.com/movies/?id=trip2011.htm',\n",
       " 'http://www.boxofficemojo.com/movies/?id=armadillo.htm',\n",
       " 'http://www.boxofficemojo.com/movies/?id=bodyguard2011.htm',\n",
       " 'http://www.boxofficemojo.com/movies/?id=brightonrock.htm',\n",
       " 'http://www.boxofficemojo.com/movies/?id=asomewhatgentleman.htm',\n",
       " 'http://www.boxofficemojo.com/movies/?id=topptwins.htm',\n",
       " 'http://www.boxofficemojo.com/movies/?id=anotherearth.htm',\n",
       " 'http://www.boxofficemojo.com/movies/?id=abetterlife.htm',\n",
       " 'http://www.boxofficemojo.com/movies/?id=chaletgirl.htm',\n",
       " 'http://www.boxofficemojo.com/movies/?id=yamlapagladeewana.htm',\n",
       " 'http://www.boxofficemojo.com/movies/?id=billcunninghamnewyork.htm',\n",
       " 'http://www.boxofficemojo.com/movies/?id=homework2011.htm',\n",
       " 'http://www.boxofficemojo.com/movies/?id=devilsdouble.htm',\n",
       " 'http://www.boxofficemojo.com/movies/?id=uncleboonmee.htm',\n",
       " 'http://www.boxofficemojo.com/movies/?id=whistleblower11.htm',\n",
       " 'http://www.boxofficemojo.com/movies/?id=redstate.htm',\n",
       " 'http://www.boxofficemojo.com/movies/?id=londonriver.htm',\n",
       " 'http://www.boxofficemojo.com/movies/?id=desiboyz.htm',\n",
       " 'http://www.boxofficemojo.com/movies/?id=whenweleave.htm',\n",
       " 'http://www.boxofficemojo.com/movies/?id=therebedragons.htm',\n",
       " 'http://www.boxofficemojo.com/movies/?id=vanishingon7thstreet.htm',\n",
       " 'http://www.boxofficemojo.com/movies/?id=pageone.htm',\n",
       " 'http://www.boxofficemojo.com/movies/?id=timethatremains.htm',\n",
       " 'http://www.boxofficemojo.com/movies/?id=rockstar2011.htm',\n",
       " 'http://www.boxofficemojo.com/movies/?id=meekscutoff.htm',\n",
       " 'http://www.boxofficemojo.com/movies/?id=texaskillingfields.htm',\n",
       " 'http://www.boxofficemojo.com/movies/?id=ready.htm',\n",
       " 'http://www.boxofficemojo.com/movies/?id=miral.htm',\n",
       " 'http://www.boxofficemojo.com/movies/?id=submarine.htm',\n",
       " 'http://www.boxofficemojo.com/movies/?id=higherground.htm',\n",
       " 'http://www.boxofficemojo.com/movies/?id=mozartssister.htm',\n",
       " 'http://www.boxofficemojo.com/movies/?id=plasticplanet.htm',\n",
       " 'http://www.boxofficemojo.com/movies/?id=chillarparty.htm',\n",
       " 'http://www.boxofficemojo.com/movies/?id=mausam.htm',\n",
       " 'http://www.boxofficemojo.com/movies/?id=firstgrader.htm',\n",
       " 'http://www.boxofficemojo.com/movies/?id=hobowithashotgun.htm',\n",
       " 'http://www.boxofficemojo.com/movies/?id=tabloid.htm',\n",
       " 'http://www.boxofficemojo.com/movies/?id=dhobighat.htm',\n",
       " 'http://www.boxofficemojo.com/movies/?id=aarakshan.htm',\n",
       " 'http://www.boxofficemojo.com/movies/?id=greatestmovieeversold.htm',\n",
       " 'http://www.boxofficemojo.com/movies/?id=noonekilledjessica.htm',\n",
       " 'http://www.boxofficemojo.com/movies/?id=korkoro.htm',\n",
       " 'http://www.boxofficemojo.com/movies/?id=blackthorn.htm',\n",
       " 'http://www.boxofficemojo.com/movies/?id=howiendedthissummer.htm',\n",
       " 'http://www.boxofficemojo.com/movies/?id=ledge.htm',\n",
       " 'http://www.boxofficemojo.com/movies/?id=heartbeats.htm',\n",
       " 'http://www.boxofficemojo.com/movies/?id=future.htm',\n",
       " 'http://www.boxofficemojo.com/movies/?id=dummaarodum.htm',\n",
       " 'http://www.boxofficemojo.com/movies/?id=doubledhamaal.htm',\n",
       " 'http://www.boxofficemojo.com/movies/?id=kaboom.htm',\n",
       " 'http://www.boxofficemojo.com/movies/?id=merebrotherkidulhan.htm',\n",
       " 'http://www.boxofficemojo.com/movies/?id=weekend2011.htm',\n",
       " 'http://www.boxofficemojo.com/movies/?id=protektor.htm',\n",
       " 'http://www.boxofficemojo.com/movies/?id=circumstance.htm',\n",
       " 'http://www.boxofficemojo.com/movies/?id=otherwoman.htm',\n",
       " 'http://www.boxofficemojo.com/movies/?id=projectnim.htm',\n",
       " 'http://www.boxofficemojo.com/movies/?id=ragerabia.htm',\n",
       " 'http://www.boxofficemojo.com/movies/?id=hrmanager.htm',\n",
       " 'http://www.boxofficemojo.com/movies/?id=hesher.htm',\n",
       " 'http://www.boxofficemojo.com/movies/?id=7khoonmaaf.htm',\n",
       " 'http://www.boxofficemojo.com/movies/?id=anotherhappyday.htm',\n",
       " 'http://www.boxofficemojo.com/movies/?id=singham.htm',\n",
       " 'http://www.boxofficemojo.com/movies/?id=millandthecross.htm',\n",
       " 'http://www.boxofficemojo.com/movies/?id=super2011.htm',\n",
       " 'http://www.boxofficemojo.com/movies/?id=lamourfou.htm',\n",
       " 'http://www.boxofficemojo.com/movies/?id=beingelmo.htm',\n",
       " 'http://www.boxofficemojo.com/movies/?id=inthelandofbloodandhoney.htm',\n",
       " 'http://www.boxofficemojo.com/movies/?id=specialtreatment.htm',\n",
       " 'http://www.boxofficemojo.com/movies/?id=illegal2011.htm',\n",
       " 'http://www.boxofficemojo.com/movies/?id=interrupters.htm',\n",
       " 'http://www.boxofficemojo.com/movies/?id=rascals.htm',\n",
       " 'http://www.boxofficemojo.com/movies/?id=blackpowermixtape.htm',\n",
       " 'http://www.boxofficemojo.com/movies/?id=blackdeath.htm',\n",
       " 'http://www.boxofficemojo.com/movies/?id=lequattrovolte.htm',\n",
       " 'http://www.boxofficemojo.com/movies/?id=lifeinaday.htm',\n",
       " 'http://www.boxofficemojo.com/movies/?id=caterpillar.htm',\n",
       " 'http://www.boxofficemojo.com/movies/?id=littlegirl.htm',\n",
       " 'http://www.boxofficemojo.com/movies/?id=elbulli.htm',\n",
       " 'http://www.boxofficemojo.com/movies/?id=wanttowhistle.htm',\n",
       " 'http://www.boxofficemojo.com/movies/?id=intotheabyss.htm',\n",
       " 'http://www.boxofficemojo.com/movies/?id=happythankyoumoreplease.htm',\n",
       " 'http://www.boxofficemojo.com/movies/?id=robber.htm',\n",
       " 'http://www.boxofficemojo.com/movies/?id=henryscrime.htm',\n",
       " 'http://www.boxofficemojo.com/movies/?id=goodorgy.htm',\n",
       " 'http://www.boxofficemojo.com/movies/?id=filmsocialisme.htm',\n",
       " 'http://www.boxofficemojo.com/movies/?id=bol.htm',\n",
       " 'http://www.boxofficemojo.com/movies/?id=leapyear2011.htm',\n",
       " 'http://www.boxofficemojo.com/movies/?id=ascreamingman.htm',\n",
       " 'http://www.boxofficemojo.com/movies/?id=jig.htm',\n",
       " 'http://www.boxofficemojo.com/movies/?id=nostalgiaforthelight.htm',\n",
       " 'http://www.boxofficemojo.com/movies/?id=anchorbaby.htm',\n",
       " 'http://www.boxofficemojo.com/movies/?id=bellflower.htm',\n",
       " 'http://www.boxofficemojo.com/movies/?id=restless2011.htm',\n",
       " 'http://www.boxofficemojo.com/movies/?id=roadtonowhere.htm',\n",
       " 'http://www.boxofficemojo.com/movies/?id=magictrip.htm',\n",
       " 'http://www.boxofficemojo.com/movies/?id=eames.htm',\n",
       " 'http://www.boxofficemojo.com/movies/?id=revengeoftheelectriccar.htm',\n",
       " 'http://www.boxofficemojo.com/movies/?id=humancentipede2.htm',\n",
       " 'http://www.boxofficemojo.com/movies/?id=coldweather.htm',\n",
       " 'http://www.boxofficemojo.com/movies/?id=game2011.htm',\n",
       " 'http://www.boxofficemojo.com/movies/?id=1911.htm',\n",
       " 'http://www.boxofficemojo.com/movies/?id=lifeaboveall.htm',\n",
       " 'http://www.boxofficemojo.com/movies/?id=tomboy2011.htm',\n",
       " 'http://www.boxofficemojo.com/movies/?id=octubre.htm',\n",
       " 'http://www.boxofficemojo.com/movies/?id=arbor.htm',\n",
       " 'http://www.boxofficemojo.com/movies/?id=mysteriesoflisbon.htm',\n",
       " 'http://www.boxofficemojo.com/movies/?id=vidalsassoon.htm',\n",
       " 'http://www.boxofficemojo.com/movies/?id=trust2011.htm',\n",
       " 'http://www.boxofficemojo.com/movies/?id=stevejobs.htm',\n",
       " 'http://www.boxofficemojo.com/movies/?id=rubber.htm',\n",
       " 'http://www.boxofficemojo.com/movies/?id=manwhofelltoearth11.htm',\n",
       " 'http://www.boxofficemojo.com/movies/?id=whale.htm',\n",
       " 'http://www.boxofficemojo.com/movies/?id=beautifulboy.htm',\n",
       " 'http://www.boxofficemojo.com/movies/?id=puncture.htm',\n",
       " 'http://www.boxofficemojo.com/movies/?id=abeautifullife.htm',\n",
       " 'http://www.boxofficemojo.com/movies/?id=tuesdayafterchristmas.htm',\n",
       " 'http://www.boxofficemojo.com/movies/?id=vivariva.htm',\n",
       " 'http://www.boxofficemojo.com/movies/?id=murder2.htm',\n",
       " 'http://www.boxofficemojo.com/movies/?id=dirtygirl.htm',\n",
       " 'http://www.boxofficemojo.com/movies/?id=battleshippotemkin2011.htm',\n",
       " 'http://www.boxofficemojo.com/movies/?id=loveumrkalakaar.htm',\n",
       " 'http://www.boxofficemojo.com/movies/?id=margaret.htm',\n",
       " 'http://www.boxofficemojo.com/movies/?id=happyhappy.htm',\n",
       " 'http://www.boxofficemojo.com/movies/?id=mythofanamericansleepover.htm',\n",
       " 'http://www.boxofficemojo.com/movies/?id=hellandbackagain.htm',\n",
       " 'http://www.boxofficemojo.com/movies/?id=khodorkovsky.htm',\n",
       " 'http://www.boxofficemojo.com/movies/?id=sleepingbeauty2011ii.htm',\n",
       " 'http://www.boxofficemojo.com/movies/?id=mykingdom2011.htm',\n",
       " 'http://www.boxofficemojo.com/movies/?id=loveinspace.htm',\n",
       " 'http://www.boxofficemojo.com/movies/?id=stakeland.htm',\n",
       " 'http://www.boxofficemojo.com/movies/?id=brotherhood11.htm',\n",
       " 'http://www.boxofficemojo.com/movies/?id=sonofnoone.htm',\n",
       " 'http://www.boxofficemojo.com/movies/?id=muran.htm',\n",
       " 'http://www.boxofficemojo.com/movies/?id=sleepingbeauty11.htm',\n",
       " 'http://www.boxofficemojo.com/movies/?id=tyrannosaur.htm',\n",
       " 'http://www.boxofficemojo.com/movies/?id=ceremony.htm',\n",
       " 'http://www.boxofficemojo.com/movies/?id=imgladmymotherisalive.htm',\n",
       " 'http://www.boxofficemojo.com/movies/?id=alwayskabhikabhi.htm',\n",
       " 'http://www.boxofficemojo.com/movies/?id=empireofsilver.htm',\n",
       " 'http://www.boxofficemojo.com/movies/?id=5daysofwar.htm',\n",
       " 'http://www.boxofficemojo.com/movies/?id=aurora.htm',\n",
       " 'http://www.boxofficemojo.com/movies/?id=magictowin.htm',\n",
       " 'http://www.boxofficemojo.com/movies/?id=wrecked.htm',\n",
       " 'http://www.boxofficemojo.com/movies/?id=mypieceofthepie.htm',\n",
       " 'http://www.boxofficemojo.com/movies/?id=imeltwithyou.htm',\n",
       " 'http://www.boxofficemojo.com/movies/?id=myjoy.htm',\n",
       " 'http://www.boxofficemojo.com/movies/?id=todielikeaman.htm',\n",
       " 'http://www.boxofficemojo.com/movies/?id=bloodties.htm',\n",
       " 'http://www.boxofficemojo.com/movies/?id=knuckle.htm',\n",
       " 'http://www.boxofficemojo.com/movies/?id=mainstreet.htm',\n",
       " 'http://www.boxofficemojo.com/movies/?id=loveweddingmarriage.htm',\n",
       " 'http://www.boxofficemojo.com/movies/?id=invisiblesign.htm']"
      ]
     },
     "execution_count": 19,
     "metadata": {},
     "output_type": "execute_result"
    }
   ],
   "source": [
    "urls2011"
   ]
  },
  {
   "cell_type": "code",
   "execution_count": 74,
   "metadata": {
    "collapsed": true
   },
   "outputs": [],
   "source": [
    "#make a CSV of URLs to scrape"
   ]
  },
  {
   "cell_type": "code",
   "execution_count": 49,
   "metadata": {
    "collapsed": true
   },
   "outputs": [],
   "source": [
    "urls = []"
   ]
  },
  {
   "cell_type": "code",
   "execution_count": 6,
   "metadata": {
    "collapsed": false
   },
   "outputs": [],
   "source": [
    "import csv\n",
    "\n",
    "csvfile = \"movies_urls2012.csv\"\n",
    "\n",
    "#Assuming res is a flat list\n",
    "with open(csvfile, \"w\") as output:\n",
    "    writer = csv.writer(output, lineterminator='\\n')\n",
    "    for val in urls:\n",
    "        writer.writerow([val])    "
   ]
  },
  {
   "cell_type": "code",
   "execution_count": 52,
   "metadata": {
    "collapsed": false
   },
   "outputs": [
    {
     "data": {
      "text/plain": [
       "1976"
      ]
     },
     "execution_count": 52,
     "metadata": {},
     "output_type": "execute_result"
    }
   ],
   "source": [
    "len(urls)"
   ]
  },
  {
   "cell_type": "code",
   "execution_count": 51,
   "metadata": {
    "collapsed": false
   },
   "outputs": [],
   "source": [
    "# read the csv of urls\n",
    "\n",
    "import csv \n",
    "\n",
    "with open('movies_urls2012.csv', 'r') as f:\n",
    "    reader = csv.reader(f)\n",
    "    for row in reader:\n",
    "        urls.append(row)"
   ]
  },
  {
   "cell_type": "code",
   "execution_count": 53,
   "metadata": {
    "collapsed": false
   },
   "outputs": [],
   "source": [
    "import itertools\n",
    "from itertools import chain\n",
    "chain = itertools.chain.from_iterable(urls)\n",
    "urls = list(chain)"
   ]
  },
  {
   "cell_type": "code",
   "execution_count": 49,
   "metadata": {
    "collapsed": true
   },
   "outputs": [],
   "source": [
    "# now let's use this URL list to get information on each movie in the list"
   ]
  },
  {
   "cell_type": "code",
   "execution_count": 54,
   "metadata": {
    "collapsed": true
   },
   "outputs": [],
   "source": [
    "def get_movie_value(soup, field_name):\n",
    "    '''Grab a value from boxofficemojo HTML\n",
    "    \n",
    "    Takes a string attribute of a movie on the page and\n",
    "    returns the string in the next sibling object\n",
    "    (the value for that attribute)\n",
    "    or None if nothing is found.\n",
    "    '''\n",
    "    obj = soup.find(text=re.compile(field_name))\n",
    "    if not obj: \n",
    "        return None\n",
    "    # this works for most of the values\n",
    "    next_sibling = obj.findNextSibling()\n",
    "    if next_sibling:\n",
    "        return next_sibling.text \n",
    "    else:\n",
    "        return None"
   ]
  },
  {
   "cell_type": "code",
   "execution_count": 55,
   "metadata": {
    "collapsed": true
   },
   "outputs": [],
   "source": [
    "import dateutil.parser\n",
    "\n",
    "def to_date(datestring):\n",
    "    date = dateutil.parser.parse(datestring)\n",
    "    return date\n",
    "\n",
    "def money_to_int(moneystring):\n",
    "    if moneystring is None:\n",
    "        return int(0)\n",
    "    else:\n",
    "        moneystring = moneystring.replace('$', '').replace(',', '')\n",
    "        return int(moneystring)\n",
    "\n",
    "def runtime_to_minutes(runtimestring):\n",
    "    runtime = runtimestring.split()\n",
    "    try:\n",
    "        minutes = int(runtime[0])*60 + int(runtime[2])\n",
    "        return minutes\n",
    "    except:\n",
    "        return None\n",
    "\n",
    "def budget_to_int(budgetstring):\n",
    "    if budgetstring is None:\n",
    "        return int(0)\n",
    "    elif budgetstring == 'N/A':\n",
    "        return np.nan\n",
    "    else:\n",
    "        budgetstring = budgetstring.replace('$', '').replace(',','')\n",
    "        if \"million\" in budgetstring:\n",
    "            return int(float(budgetstring.replace(' million', ''))*1000000)\n",
    "        else:\n",
    "            return int(budgetstring)"
   ]
  },
  {
   "cell_type": "code",
   "execution_count": 56,
   "metadata": {
    "collapsed": false
   },
   "outputs": [],
   "source": [
    "# Let's get these again and format them all in one swoop\n",
    "\n",
    "from pprint import pprint\n",
    "\n",
    "headers = ['movie title', 'domestic total gross',\n",
    "           'release date', 'runtime (mins)', 'rating', 'budget', 'genre']\n",
    "\n",
    "movie_data = []\n"
   ]
  },
  {
   "cell_type": "code",
   "execution_count": 67,
   "metadata": {
    "collapsed": true
   },
   "outputs": [],
   "source": [
    "csvfile4 = \"movie_info_genre2011.csv\""
   ]
  },
  {
   "cell_type": "code",
   "execution_count": 68,
   "metadata": {
    "collapsed": false
   },
   "outputs": [],
   "source": [
    "for url in urls[434:]:\n",
    "    response = requests.get(url)\n",
    "    page = response.text\n",
    "    soup = BeautifulSoup(page, \"lxml\")\n",
    "\n",
    "    title_string = soup.find('title').text\n",
    "    title = title_string.split('(')[0].strip()\n",
    "    # print(title)\n",
    "    dtg = get_movie_value(soup,'Domestic Total')\n",
    "    # print(dtg)\n",
    "    rating = get_movie_value(soup,'MPAA Rating')\n",
    "    # print(rating)\n",
    "    # runtime = get_movie_value(soup,'Runtime')\n",
    "    # print(runtime)\n",
    "    # release_date = get_movie_value(soup,'Release Date')\n",
    "    # print(release_date)\n",
    "    \n",
    "    budget_raw = get_movie_value(soup,'Production Budget')\n",
    "    budget = budget_to_int(budget_raw)\n",
    "\n",
    "    raw_release_date = get_movie_value(soup,'Release Date')\n",
    "    release_date = to_date(raw_release_date)\n",
    "\n",
    "    # raw_domestic_total_gross = get_movie_value(soup,'Domestic Total')\n",
    "    domestic_total_gross = money_to_int(dtg)\n",
    "\n",
    "    raw_runtime = get_movie_value(soup,'Runtime')\n",
    "    runtime = runtime_to_minutes(raw_runtime)\n",
    "    \n",
    "    genre = get_movie_value(soup,'Genre: ')\n",
    "    runtime = runtime_to_minutes(raw_runtime)\n",
    "\n",
    "    movie_dict = dict(zip(headers, [title,\n",
    "                                domestic_total_gross,\n",
    "                                release_date,\n",
    "                                runtime,\n",
    "                                rating, budget, genre]))\n",
    "\n",
    "    with open(csvfile4, \"a\") as output:\n",
    "        w = csv.DictWriter(output, movie_dict.keys())\n",
    "        w.writerow(movie_dict)\n",
    "    \n",
    "    \n",
    "    # movie_data.append(movie_dict)\n"
   ]
  },
  {
   "cell_type": "code",
   "execution_count": 20,
   "metadata": {
    "collapsed": false
   },
   "outputs": [],
   "source": [
    "# # for one movie test space\n",
    "\n",
    "# url=\"http://www.boxofficemojo.com/movies/?id=starwars7.htm\"\n",
    "\n",
    "# response = requests.get(url)\n",
    "# page = response.text\n",
    "# soup = BeautifulSoup(page, \"lxml\")\n",
    "\n",
    "# title_string = soup.find('title').text\n",
    "# title = title_string.split('(')[0].strip()\n",
    "# # print(title)\n",
    "# dtg = get_movie_value(soup,'Domestic Total')\n",
    "# # print(dtg)\n",
    "# rating = get_movie_value(soup,'MPAA Rating')\n",
    "# # print(rating)\n",
    "# # runtime = get_movie_value(soup,'Runtime')\n",
    "# # print(runtime)\n",
    "# # release_date = get_movie_value(soup,'Release Date')\n",
    "# # print(release_date)\n",
    "# budget_raw = get_movie_value(soup,'Production Budget')\n",
    "# budget = budget_to_int(budget_raw)\n",
    "\n",
    "# raw_release_date = get_movie_value(soup,'Release Date')\n",
    "# release_date = to_date(raw_release_date)\n",
    "\n",
    "# # raw_domestic_total_gross = get_movie_value(soup,'Domestic Total')\n",
    "# domestic_total_gross = money_to_int(dtg)\n",
    "\n",
    "# raw_runtime = get_movie_value(soup,'Runtime')\n",
    "# runtime = runtime_to_minutes(raw_runtime)\n",
    "\n",
    "# movie_dict = dict(zip(headers, [title,\n",
    "#                             domestic_total_gross,\n",
    "#                             release_date,\n",
    "#                             runtime,\n",
    "#                             rating, budget]))\n",
    "\n",
    "# movie_data.append(movie_dict)\n"
   ]
  },
  {
   "cell_type": "code",
   "execution_count": 21,
   "metadata": {
    "collapsed": false
   },
   "outputs": [],
   "source": [
    "# movie_data"
   ]
  },
  {
   "cell_type": "code",
   "execution_count": 27,
   "metadata": {
    "collapsed": false
   },
   "outputs": [],
   "source": [
    "# pprint(movie_data)"
   ]
  },
  {
   "cell_type": "code",
   "execution_count": 91,
   "metadata": {
    "collapsed": false
   },
   "outputs": [],
   "source": [
    "df = pd.read_csv('every_movie_info.csv')"
   ]
  },
  {
   "cell_type": "code",
   "execution_count": 96,
   "metadata": {
    "collapsed": false
   },
   "outputs": [
    {
     "data": {
      "text/html": [
       "<div>\n",
       "<table border=\"1\" class=\"dataframe\">\n",
       "  <thead>\n",
       "    <tr style=\"text-align: right;\">\n",
       "      <th></th>\n",
       "      <th>runtime</th>\n",
       "      <th>dtg</th>\n",
       "      <th>title</th>\n",
       "      <th>mpaa</th>\n",
       "      <th>releasedate</th>\n",
       "    </tr>\n",
       "  </thead>\n",
       "  <tbody>\n",
       "    <tr>\n",
       "      <th>0</th>\n",
       "      <td>136.0</td>\n",
       "      <td>936662225</td>\n",
       "      <td>Star Wars: The Force Awakens</td>\n",
       "      <td>PG-13</td>\n",
       "      <td>2015-12-18 00:00:00</td>\n",
       "    </tr>\n",
       "    <tr>\n",
       "      <th>1</th>\n",
       "      <td>124.0</td>\n",
       "      <td>652270625</td>\n",
       "      <td>Jurassic World</td>\n",
       "      <td>PG-13</td>\n",
       "      <td>2015-06-12 00:00:00</td>\n",
       "    </tr>\n",
       "    <tr>\n",
       "      <th>2</th>\n",
       "      <td>137.0</td>\n",
       "      <td>353007020</td>\n",
       "      <td>Furious 7</td>\n",
       "      <td>PG-13</td>\n",
       "      <td>2015-04-03 00:00:00</td>\n",
       "    </tr>\n",
       "    <tr>\n",
       "      <th>3</th>\n",
       "      <td>141.0</td>\n",
       "      <td>459005868</td>\n",
       "      <td>Avengers: Age of Ultron</td>\n",
       "      <td>PG-13</td>\n",
       "      <td>2015-05-01 00:00:00</td>\n",
       "    </tr>\n",
       "    <tr>\n",
       "      <th>4</th>\n",
       "      <td>91.0</td>\n",
       "      <td>336045770</td>\n",
       "      <td>Minions</td>\n",
       "      <td>PG</td>\n",
       "      <td>2015-07-10 00:00:00</td>\n",
       "    </tr>\n",
       "  </tbody>\n",
       "</table>\n",
       "</div>"
      ],
      "text/plain": [
       "   runtime        dtg                         title   mpaa  \\\n",
       "0    136.0  936662225  Star Wars: The Force Awakens  PG-13   \n",
       "1    124.0  652270625                Jurassic World  PG-13   \n",
       "2    137.0  353007020                     Furious 7  PG-13   \n",
       "3    141.0  459005868       Avengers: Age of Ultron  PG-13   \n",
       "4     91.0  336045770                       Minions     PG   \n",
       "\n",
       "           releasedate  \n",
       "0  2015-12-18 00:00:00  \n",
       "1  2015-06-12 00:00:00  \n",
       "2  2015-04-03 00:00:00  \n",
       "3  2015-05-01 00:00:00  \n",
       "4  2015-07-10 00:00:00  "
      ]
     },
     "execution_count": 96,
     "metadata": {},
     "output_type": "execute_result"
    }
   ],
   "source": [
    "df.head()"
   ]
  },
  {
   "cell_type": "code",
   "execution_count": 99,
   "metadata": {
    "collapsed": false
   },
   "outputs": [
    {
     "ename": "AttributeError",
     "evalue": "'DataFrame' object has no attribute 'dtg'",
     "output_type": "error",
     "traceback": [
      "\u001b[0;31m---------------------------------------------------------------------------\u001b[0m",
      "\u001b[0;31mAttributeError\u001b[0m                            Traceback (most recent call last)",
      "\u001b[0;32m<ipython-input-99-0f0d7a694652>\u001b[0m in \u001b[0;36m<module>\u001b[0;34m()\u001b[0m\n\u001b[0;32m----> 1\u001b[0;31m \u001b[0mplt\u001b[0m\u001b[0;34m.\u001b[0m\u001b[0mscatter\u001b[0m\u001b[0;34m(\u001b[0m\u001b[0mdf\u001b[0m\u001b[0;34m.\u001b[0m\u001b[0mruntime\u001b[0m\u001b[0;34m,\u001b[0m\u001b[0mdf\u001b[0m\u001b[0;34m.\u001b[0m\u001b[0mdtg\u001b[0m\u001b[0;34m)\u001b[0m\u001b[0;34m\u001b[0m\u001b[0m\n\u001b[0m",
      "\u001b[0;32m/Users/ANTARES/anaconda2/envs/snakes/lib/python3.5/site-packages/pandas/core/generic.py\u001b[0m in \u001b[0;36m__getattr__\u001b[0;34m(self, name)\u001b[0m\n\u001b[1;32m   2670\u001b[0m             \u001b[0;32mif\u001b[0m \u001b[0mname\u001b[0m \u001b[0;32min\u001b[0m \u001b[0mself\u001b[0m\u001b[0;34m.\u001b[0m\u001b[0m_info_axis\u001b[0m\u001b[0;34m:\u001b[0m\u001b[0;34m\u001b[0m\u001b[0m\n\u001b[1;32m   2671\u001b[0m                 \u001b[0;32mreturn\u001b[0m \u001b[0mself\u001b[0m\u001b[0;34m[\u001b[0m\u001b[0mname\u001b[0m\u001b[0;34m]\u001b[0m\u001b[0;34m\u001b[0m\u001b[0m\n\u001b[0;32m-> 2672\u001b[0;31m             \u001b[0;32mreturn\u001b[0m \u001b[0mobject\u001b[0m\u001b[0;34m.\u001b[0m\u001b[0m__getattribute__\u001b[0m\u001b[0;34m(\u001b[0m\u001b[0mself\u001b[0m\u001b[0;34m,\u001b[0m \u001b[0mname\u001b[0m\u001b[0;34m)\u001b[0m\u001b[0;34m\u001b[0m\u001b[0m\n\u001b[0m\u001b[1;32m   2673\u001b[0m \u001b[0;34m\u001b[0m\u001b[0m\n\u001b[1;32m   2674\u001b[0m     \u001b[0;32mdef\u001b[0m \u001b[0m__setattr__\u001b[0m\u001b[0;34m(\u001b[0m\u001b[0mself\u001b[0m\u001b[0;34m,\u001b[0m \u001b[0mname\u001b[0m\u001b[0;34m,\u001b[0m \u001b[0mvalue\u001b[0m\u001b[0;34m)\u001b[0m\u001b[0;34m:\u001b[0m\u001b[0;34m\u001b[0m\u001b[0m\n",
      "\u001b[0;31mAttributeError\u001b[0m: 'DataFrame' object has no attribute 'dtg'"
     ]
    }
   ],
   "source": [
    "plt.scatter(df.runtime,df.dtg)"
   ]
  },
  {
   "cell_type": "code",
   "execution_count": null,
   "metadata": {
    "collapsed": true
   },
   "outputs": [],
   "source": []
  }
 ],
 "metadata": {
  "anaconda-cloud": {},
  "kernelspec": {
   "display_name": "Python [conda env:snakes]",
   "language": "python",
   "name": "conda-env-snakes-py"
  },
  "language_info": {
   "codemirror_mode": {
    "name": "ipython",
    "version": 3
   },
   "file_extension": ".py",
   "mimetype": "text/x-python",
   "name": "python",
   "nbconvert_exporter": "python",
   "pygments_lexer": "ipython3",
   "version": "3.5.2"
  }
 },
 "nbformat": 4,
 "nbformat_minor": 1
}
